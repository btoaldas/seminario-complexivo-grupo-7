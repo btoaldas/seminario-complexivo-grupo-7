{
 "cells": [
  {
   "cell_type": "code",
   "execution_count": 1,
   "id": "87dde9d0",
   "metadata": {},
   "outputs": [],
   "source": [
    "import pandas as pd"
   ]
  },
  {
   "cell_type": "code",
   "execution_count": 6,
   "id": "5b1ab791",
   "metadata": {},
   "outputs": [],
   "source": [
    "ruta_excel = 'C:/proyectos/seminario-complexivo-grupo-7/data/dataset.xlsx'\n",
    "df = pd.read_excel(ruta_excel, sheet_name='FIFA 15')"
   ]
  },
  {
   "cell_type": "code",
   "execution_count": 7,
   "id": "f13550bc",
   "metadata": {},
   "outputs": [],
   "source": [
    "nombres_archivos = [\"FIFA 15\", \"FIFA 16\", \"FIFA 17\", \"FIFA 18\", \"FIFA 19\", \"FIFA 20\", \"FIFA 21\"]\n",
    "diccionario = {}"
   ]
  },
  {
   "cell_type": "code",
   "execution_count": 8,
   "id": "f543626e",
   "metadata": {},
   "outputs": [
    {
     "name": "stdout",
     "output_type": "stream",
     "text": [
      "Cargando datos de la hoja: FIFA 15\n",
      "Cargando datos de la hoja: FIFA 16\n",
      "Cargando datos de la hoja: FIFA 17\n",
      "Cargando datos de la hoja: FIFA 18\n",
      "Cargando datos de la hoja: FIFA 19\n",
      "Cargando datos de la hoja: FIFA 20\n",
      "Cargando datos de la hoja: FIFA 21\n"
     ]
    }
   ],
   "source": [
    "for sheet in nombres_archivos:\n",
    "    print(f\"Cargando datos de la hoja: {sheet}\")"
   ]
  },
  {
   "cell_type": "code",
   "execution_count": 12,
   "id": "f9f95335",
   "metadata": {},
   "outputs": [
    {
     "ename": "ValueError",
     "evalue": "Cannot set a DataFrame with multiple columns to the single column FIFA 15",
     "output_type": "error",
     "traceback": [
      "\u001b[31m---------------------------------------------------------------------------\u001b[39m",
      "\u001b[31mValueError\u001b[39m                                Traceback (most recent call last)",
      "\u001b[32m~\\AppData\\Local\\Temp\\ipykernel_27132\\3607004655.py\u001b[39m in \u001b[36m?\u001b[39m\u001b[34m()\u001b[39m\n\u001b[32m      1\u001b[39m \u001b[38;5;28;01mfor\u001b[39;00m sheet \u001b[38;5;28;01min\u001b[39;00m nombres_archivos:\n\u001b[32m      2\u001b[39m     df_temporal = pd.read_excel(ruta_excel, sheet_name=sheet)\n\u001b[32m----> \u001b[39m\u001b[32m3\u001b[39m     df[sheet] = df_temporal\n",
      "\u001b[32mc:\\proyectos\\seminario-complexivo-grupo-7\\venv\\Lib\\site-packages\\pandas\\core\\frame.py\u001b[39m in \u001b[36m?\u001b[39m\u001b[34m(self, key, value)\u001b[39m\n\u001b[32m   4308\u001b[39m             self._setitem_frame(key, value)\n\u001b[32m   4309\u001b[39m         \u001b[38;5;28;01melif\u001b[39;00m isinstance(key, (Series, np.ndarray, list, Index)):\n\u001b[32m   4310\u001b[39m             self._setitem_array(key, value)\n\u001b[32m   4311\u001b[39m         \u001b[38;5;28;01melif\u001b[39;00m isinstance(value, DataFrame):\n\u001b[32m-> \u001b[39m\u001b[32m4312\u001b[39m             self._set_item_frame_value(key, value)\n\u001b[32m   4313\u001b[39m         elif (\n\u001b[32m   4314\u001b[39m             is_list_like(value)\n\u001b[32m   4315\u001b[39m             \u001b[38;5;28;01mand\u001b[39;00m \u001b[38;5;28;01mnot\u001b[39;00m self.columns.is_unique\n",
      "\u001b[32mc:\\proyectos\\seminario-complexivo-grupo-7\\venv\\Lib\\site-packages\\pandas\\core\\frame.py\u001b[39m in \u001b[36m?\u001b[39m\u001b[34m(self, key, value)\u001b[39m\n\u001b[32m   4466\u001b[39m \n\u001b[32m   4467\u001b[39m             \u001b[38;5;28;01mreturn\u001b[39;00m self.isetitem(locs, value)\n\u001b[32m   4468\u001b[39m \n\u001b[32m   4469\u001b[39m         \u001b[38;5;28;01mif\u001b[39;00m len(value.columns) > \u001b[32m1\u001b[39m:\n\u001b[32m-> \u001b[39m\u001b[32m4470\u001b[39m             raise ValueError(\n\u001b[32m   4471\u001b[39m                 \u001b[33m\"Cannot set a DataFrame with multiple columns to the single \"\u001b[39m\n\u001b[32m   4472\u001b[39m                 f\"column {key}\"\n\u001b[32m   4473\u001b[39m             )\n",
      "\u001b[31mValueError\u001b[39m: Cannot set a DataFrame with multiple columns to the single column FIFA 15"
     ]
    }
   ],
   "source": [
    "for sheet in nombres_archivos:\n",
    "    df_temporal = pd.read_excel(ruta_excel, sheet_name=sheet)\n",
    "    df[sheet] = df_temporal"
   ]
  },
  {
   "cell_type": "code",
   "execution_count": 10,
   "id": "5cebb732",
   "metadata": {},
   "outputs": [
    {
     "data": {
      "text/plain": [
       "{}"
      ]
     },
     "execution_count": 10,
     "metadata": {},
     "output_type": "execute_result"
    }
   ],
   "source": [
    "diccionario"
   ]
  },
  {
   "cell_type": "code",
   "execution_count": 11,
   "id": "561ffc46",
   "metadata": {},
   "outputs": [
    {
     "ename": "KeyError",
     "evalue": "'FIFA 15'",
     "output_type": "error",
     "traceback": [
      "\u001b[31m---------------------------------------------------------------------------\u001b[39m",
      "\u001b[31mKeyError\u001b[39m                                  Traceback (most recent call last)",
      "\u001b[36mCell\u001b[39m\u001b[36m \u001b[39m\u001b[32mIn[11]\u001b[39m\u001b[32m, line 1\u001b[39m\n\u001b[32m----> \u001b[39m\u001b[32m1\u001b[39m df_fifa15 = \u001b[43mdiccionario\u001b[49m\u001b[43m[\u001b[49m\u001b[33;43m\"\u001b[39;49m\u001b[33;43mFIFA 15\u001b[39;49m\u001b[33;43m\"\u001b[39;49m\u001b[43m]\u001b[49m \n\u001b[32m      2\u001b[39m df_fifa16 = diccionario[\u001b[33m\"\u001b[39m\u001b[33mFIFA 16\u001b[39m\u001b[33m\"\u001b[39m] \n\u001b[32m      3\u001b[39m df_fifa17 = diccionario[\u001b[33m\"\u001b[39m\u001b[33mFIFA 17\u001b[39m\u001b[33m\"\u001b[39m]\n",
      "\u001b[31mKeyError\u001b[39m: 'FIFA 15'"
     ]
    }
   ],
   "source": [
    "df_fifa15 = diccionario[\"FIFA 15\"] \n",
    "df_fifa16 = diccionario[\"FIFA 16\"] \n",
    "df_fifa17 = diccionario[\"FIFA 17\"]\n",
    "df_fifa18 = diccionario[\"FIFA 18\"]\n",
    "df_fifa19 = diccionario[\"FIFA 19\"]\n",
    "df_fifa20 = diccionario[\"FIFA 20\"]\n",
    "df_fifa21 = diccionario[\"FIFA 21\"]"
   ]
  },
  {
   "cell_type": "code",
   "execution_count": null,
   "id": "b0568d1b",
   "metadata": {},
   "outputs": [],
   "source": [
    "df1 = pd.DataFrame({\n",
    "    \"FIFA 15\": df_fifa15,\n",
    "    \"FIFA 16\": df_fifa16,\n",
    "    \"FIFA 17\": df_fifa17,\n",
    "    \"FIFA 18\": df_fifa18,\n",
    "    \"FIFA 19\": df_fifa19,\n",
    "    \"FIFA 20\": df_fifa20,\n",
    "    \"FIFA 21\": df_fifa21\n",
    "})\n",
    "resultado_row = pd.concat([df_fifa15, df_fifa16, df_fifa17, df_fifa18, df_fifa19, df_fifa20, df_fifa21], axis=0)\n",
    "resultado_column = pd.concat([df_fifa15, df_fifa16, df_fifa17, df_fifa18, df_fifa19, df_fifa20, df_fifa21], axis=1) "
   ]
  }
 ],
 "metadata": {
  "kernelspec": {
   "display_name": "venv",
   "language": "python",
   "name": "python3"
  },
  "language_info": {
   "codemirror_mode": {
    "name": "ipython",
    "version": 3
   },
   "file_extension": ".py",
   "mimetype": "text/x-python",
   "name": "python",
   "nbconvert_exporter": "python",
   "pygments_lexer": "ipython3",
   "version": "3.14.0"
  }
 },
 "nbformat": 4,
 "nbformat_minor": 5
}
