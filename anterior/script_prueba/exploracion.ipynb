{
 "cells": [
  {
   "cell_type": "markdown",
   "id": "2a73df15",
   "metadata": {},
   "source": [
    "# Exploración del Dataset FIFA\n",
    "\n",
    "Este notebook explora el dataset limpio de jugadores FIFA generado por el pipeline."
   ]
  },
  {
   "cell_type": "markdown",
   "id": "1d46be12",
   "metadata": {},
   "source": [
    "## Librerías"
   ]
  },
  {
   "cell_type": "code",
   "execution_count": 51,
   "id": "a959db6a",
   "metadata": {},
   "outputs": [],
   "source": [
    "import pandas as pd\n",
    "import missingno as msno\n",
    "import numpy as np"
   ]
  },
  {
   "cell_type": "markdown",
   "id": "37dc4c42",
   "metadata": {},
   "source": [
    "## 1. Importar bibliotecas necesarias"
   ]
  },
  {
   "cell_type": "code",
   "execution_count": 3,
   "id": "91df212a",
   "metadata": {},
   "outputs": [],
   "source": [
    "videogames = pd.read_csv('../data/games.csv')"
   ]
  },
  {
   "cell_type": "markdown",
   "id": "a45aeada",
   "metadata": {},
   "source": [
    "## 2. Cargar el dataset limpio"
   ]
  },
  {
   "cell_type": "code",
   "execution_count": null,
   "id": "a0006f4f",
   "metadata": {},
   "outputs": [],
   "source": [
    "videogames.dtypes"
   ]
  },
  {
   "cell_type": "markdown",
   "id": "1f029b41",
   "metadata": {},
   "source": [
    "## 3. Exploración inicial del dataset"
   ]
  },
  {
   "cell_type": "code",
   "execution_count": null,
   "id": "2bdecced",
   "metadata": {},
   "outputs": [],
   "source": [
    "videogames.columns"
   ]
  },
  {
   "cell_type": "code",
   "execution_count": null,
   "id": "d678e914",
   "metadata": {},
   "outputs": [],
   "source": [
    "videogames.rename(columns={'Name':'Videogame_Name'}, inplace=True)"
   ]
  },
  {
   "cell_type": "code",
   "execution_count": null,
   "id": "fae11aa5",
   "metadata": {},
   "outputs": [],
   "source": [
    "videogames.head()"
   ]
  },
  {
   "cell_type": "code",
   "execution_count": null,
   "id": "0a1baa25",
   "metadata": {},
   "outputs": [],
   "source": [
    "# Información general del dataset\n",
    "videogames.info()"
   ]
  },
  {
   "cell_type": "code",
   "execution_count": null,
   "id": "924f159a",
   "metadata": {},
   "outputs": [],
   "source": [
    "# Forma del dataset (filas, columnas)\n",
    "print(f\"Forma del dataset: {videogames.shape}\")\n",
    "print(f\"Total de jugadores: {videogames.shape[0]:,}\")\n",
    "print(f\"Total de columnas: {videogames.shape[1]}\")"
   ]
  },
  {
   "cell_type": "code",
   "execution_count": null,
   "id": "bf7d072a",
   "metadata": {},
   "outputs": [],
   "source": [
    "# Estadísticas descriptivas\n",
    "videogames.describe()"
   ]
  },
  {
   "cell_type": "code",
   "execution_count": null,
   "id": "3cb4835e",
   "metadata": {},
   "outputs": [],
   "source": [
    "# Verificar valores nulos\n",
    "print(\"Valores nulos por columna:\")\n",
    "print(videogames.isnull().sum())"
   ]
  },
  {
   "cell_type": "code",
   "execution_count": 4,
   "id": "34ea23a9",
   "metadata": {},
   "outputs": [
    {
     "name": "stdout",
     "output_type": "stream",
     "text": [
      "Name               11559\n",
      "Platform              31\n",
      "Year_of_Release       37\n",
      "Genre                 12\n",
      "NA_sales             402\n",
      "EU_sales             307\n",
      "JP_sales             244\n",
      "Other_sales          155\n",
      "Critic_Score          82\n",
      "User_Score            96\n",
      "Rating                 8\n",
      "dtype: int64\n",
      "\n",
      "16715\n"
     ]
    }
   ],
   "source": [
    "print(videogames.nunique())\n",
    "print()\n",
    "print(len(videogames))"
   ]
  },
  {
   "cell_type": "code",
   "execution_count": 5,
   "id": "fe3f6865",
   "metadata": {},
   "outputs": [
    {
     "data": {
      "text/plain": [
       "Name                  2\n",
       "Platform              0\n",
       "Year_of_Release     269\n",
       "Genre                 2\n",
       "NA_sales              0\n",
       "EU_sales              0\n",
       "JP_sales              0\n",
       "Other_sales           0\n",
       "Critic_Score       8578\n",
       "User_Score         6701\n",
       "Rating             6766\n",
       "dtype: int64"
      ]
     },
     "execution_count": 5,
     "metadata": {},
     "output_type": "execute_result"
    }
   ],
   "source": [
    "videogames.isnull().sum()"
   ]
  },
  {
   "cell_type": "code",
   "execution_count": 9,
   "id": "074e4eda",
   "metadata": {},
   "outputs": [
    {
     "data": {
      "text/plain": [
       "pandas.core.series.Series"
      ]
     },
     "execution_count": 9,
     "metadata": {},
     "output_type": "execute_result"
    }
   ],
   "source": [
    "type(videogames.isnull().sum())"
   ]
  },
  {
   "cell_type": "code",
   "execution_count": 10,
   "id": "7ab4b2c3",
   "metadata": {},
   "outputs": [
    {
     "name": "stdout",
     "output_type": "stream",
     "text": [
      "<class 'pandas.core.series.Series'>\n",
      "Index: 11 entries, Name to Rating\n",
      "Series name: None\n",
      "Non-Null Count  Dtype\n",
      "--------------  -----\n",
      "11 non-null     int64\n",
      "dtypes: int64(1)\n",
      "memory usage: 476.0+ bytes\n"
     ]
    }
   ],
   "source": [
    "videogames.isnull().sum().info()"
   ]
  },
  {
   "cell_type": "code",
   "execution_count": 11,
   "id": "6f358fba",
   "metadata": {},
   "outputs": [
    {
     "ename": "SyntaxError",
     "evalue": "invalid syntax (2563107580.py, line 1)",
     "output_type": "error",
     "traceback": [
      "  \u001b[36mCell\u001b[39m\u001b[36m \u001b[39m\u001b[32mIn[11]\u001b[39m\u001b[32m, line 1\u001b[39m\n\u001b[31m    \u001b[39m\u001b[31mvideogames.isnull().sum().[\"Rating_ESRB\"]\u001b[39m\n                              ^\n\u001b[31mSyntaxError\u001b[39m\u001b[31m:\u001b[39m invalid syntax\n"
     ]
    }
   ],
   "source": [
    "videogames.isnull().sum().[\"Rating_ESRB\"]"
   ]
  },
  {
   "cell_type": "code",
   "execution_count": 6,
   "id": "4da2bc8c",
   "metadata": {},
   "outputs": [
    {
     "data": {
      "text/plain": [
       "pandas.core.frame.DataFrame"
      ]
     },
     "execution_count": 6,
     "metadata": {},
     "output_type": "execute_result"
    }
   ],
   "source": [
    "type(videogames)"
   ]
  },
  {
   "cell_type": "code",
   "execution_count": 8,
   "id": "01562b64",
   "metadata": {},
   "outputs": [
    {
     "data": {
      "text/plain": [
       "pandas.core.series.Series"
      ]
     },
     "execution_count": 8,
     "metadata": {},
     "output_type": "execute_result"
    }
   ],
   "source": [
    "type(videogames[\"Platform\"])"
   ]
  },
  {
   "cell_type": "code",
   "execution_count": 12,
   "id": "feaa1bd1",
   "metadata": {},
   "outputs": [],
   "source": [
    "valores_unicos = videogames.nunique()"
   ]
  },
  {
   "cell_type": "code",
   "execution_count": 17,
   "id": "ff4c45ed",
   "metadata": {},
   "outputs": [
    {
     "data": {
      "text/html": [
       "<div>\n",
       "<style scoped>\n",
       "    .dataframe tbody tr th:only-of-type {\n",
       "        vertical-align: middle;\n",
       "    }\n",
       "\n",
       "    .dataframe tbody tr th {\n",
       "        vertical-align: top;\n",
       "    }\n",
       "\n",
       "    .dataframe thead th {\n",
       "        text-align: right;\n",
       "    }\n",
       "</style>\n",
       "<table border=\"1\" class=\"dataframe\">\n",
       "  <thead>\n",
       "    <tr style=\"text-align: right;\">\n",
       "      <th></th>\n",
       "      <th>Valores únicos por columna</th>\n",
       "      <th>Nulos</th>\n",
       "    </tr>\n",
       "  </thead>\n",
       "  <tbody>\n",
       "    <tr>\n",
       "      <th>0</th>\n",
       "      <td>Name               11559\n",
       "Platform             ...</td>\n",
       "      <td>Name  Platform  Year_of_Release  Genre...</td>\n",
       "    </tr>\n",
       "  </tbody>\n",
       "</table>\n",
       "</div>"
      ],
      "text/plain": [
       "                          Valores únicos por columna  \\\n",
       "0  Name               11559\n",
       "Platform             ...   \n",
       "\n",
       "                                               Nulos  \n",
       "0          Name  Platform  Year_of_Release  Genre...  "
      ]
     },
     "execution_count": 17,
     "metadata": {},
     "output_type": "execute_result"
    }
   ],
   "source": [
    "datos_generales = pd.DataFrame([\n",
    "    {\"Valores únicos por columna\": valores_unicos,\n",
    "    \"Nulos\": videogames.isnull()}\n",
    "])\n",
    "\n",
    "datos_generales"
   ]
  },
  {
   "cell_type": "code",
   "execution_count": 18,
   "id": "e3e76013",
   "metadata": {},
   "outputs": [
    {
     "data": {
      "text/plain": [
       "16715"
      ]
     },
     "execution_count": 18,
     "metadata": {},
     "output_type": "execute_result"
    }
   ],
   "source": [
    "len(videogames)"
   ]
  },
  {
   "cell_type": "code",
   "execution_count": 19,
   "id": "de69670b",
   "metadata": {},
   "outputs": [
    {
     "data": {
      "text/html": [
       "<div>\n",
       "<style scoped>\n",
       "    .dataframe tbody tr th:only-of-type {\n",
       "        vertical-align: middle;\n",
       "    }\n",
       "\n",
       "    .dataframe tbody tr th {\n",
       "        vertical-align: top;\n",
       "    }\n",
       "\n",
       "    .dataframe thead th {\n",
       "        text-align: right;\n",
       "    }\n",
       "</style>\n",
       "<table border=\"1\" class=\"dataframe\">\n",
       "  <thead>\n",
       "    <tr style=\"text-align: right;\">\n",
       "      <th></th>\n",
       "      <th>Name</th>\n",
       "      <th>Platform</th>\n",
       "      <th>Year_of_Release</th>\n",
       "      <th>Genre</th>\n",
       "      <th>NA_sales</th>\n",
       "      <th>EU_sales</th>\n",
       "      <th>JP_sales</th>\n",
       "      <th>Other_sales</th>\n",
       "      <th>Critic_Score</th>\n",
       "      <th>User_Score</th>\n",
       "      <th>Rating</th>\n",
       "    </tr>\n",
       "  </thead>\n",
       "  <tbody>\n",
       "    <tr>\n",
       "      <th>0</th>\n",
       "      <td>False</td>\n",
       "      <td>False</td>\n",
       "      <td>False</td>\n",
       "      <td>False</td>\n",
       "      <td>False</td>\n",
       "      <td>False</td>\n",
       "      <td>False</td>\n",
       "      <td>False</td>\n",
       "      <td>False</td>\n",
       "      <td>False</td>\n",
       "      <td>False</td>\n",
       "    </tr>\n",
       "    <tr>\n",
       "      <th>1</th>\n",
       "      <td>False</td>\n",
       "      <td>False</td>\n",
       "      <td>False</td>\n",
       "      <td>False</td>\n",
       "      <td>False</td>\n",
       "      <td>False</td>\n",
       "      <td>False</td>\n",
       "      <td>False</td>\n",
       "      <td>True</td>\n",
       "      <td>True</td>\n",
       "      <td>True</td>\n",
       "    </tr>\n",
       "    <tr>\n",
       "      <th>2</th>\n",
       "      <td>False</td>\n",
       "      <td>False</td>\n",
       "      <td>False</td>\n",
       "      <td>False</td>\n",
       "      <td>False</td>\n",
       "      <td>False</td>\n",
       "      <td>False</td>\n",
       "      <td>False</td>\n",
       "      <td>False</td>\n",
       "      <td>False</td>\n",
       "      <td>False</td>\n",
       "    </tr>\n",
       "    <tr>\n",
       "      <th>3</th>\n",
       "      <td>False</td>\n",
       "      <td>False</td>\n",
       "      <td>False</td>\n",
       "      <td>False</td>\n",
       "      <td>False</td>\n",
       "      <td>False</td>\n",
       "      <td>False</td>\n",
       "      <td>False</td>\n",
       "      <td>False</td>\n",
       "      <td>False</td>\n",
       "      <td>False</td>\n",
       "    </tr>\n",
       "    <tr>\n",
       "      <th>4</th>\n",
       "      <td>False</td>\n",
       "      <td>False</td>\n",
       "      <td>False</td>\n",
       "      <td>False</td>\n",
       "      <td>False</td>\n",
       "      <td>False</td>\n",
       "      <td>False</td>\n",
       "      <td>False</td>\n",
       "      <td>True</td>\n",
       "      <td>True</td>\n",
       "      <td>True</td>\n",
       "    </tr>\n",
       "    <tr>\n",
       "      <th>...</th>\n",
       "      <td>...</td>\n",
       "      <td>...</td>\n",
       "      <td>...</td>\n",
       "      <td>...</td>\n",
       "      <td>...</td>\n",
       "      <td>...</td>\n",
       "      <td>...</td>\n",
       "      <td>...</td>\n",
       "      <td>...</td>\n",
       "      <td>...</td>\n",
       "      <td>...</td>\n",
       "    </tr>\n",
       "    <tr>\n",
       "      <th>16710</th>\n",
       "      <td>False</td>\n",
       "      <td>False</td>\n",
       "      <td>False</td>\n",
       "      <td>False</td>\n",
       "      <td>False</td>\n",
       "      <td>False</td>\n",
       "      <td>False</td>\n",
       "      <td>False</td>\n",
       "      <td>True</td>\n",
       "      <td>True</td>\n",
       "      <td>True</td>\n",
       "    </tr>\n",
       "    <tr>\n",
       "      <th>16711</th>\n",
       "      <td>False</td>\n",
       "      <td>False</td>\n",
       "      <td>False</td>\n",
       "      <td>False</td>\n",
       "      <td>False</td>\n",
       "      <td>False</td>\n",
       "      <td>False</td>\n",
       "      <td>False</td>\n",
       "      <td>True</td>\n",
       "      <td>True</td>\n",
       "      <td>True</td>\n",
       "    </tr>\n",
       "    <tr>\n",
       "      <th>16712</th>\n",
       "      <td>False</td>\n",
       "      <td>False</td>\n",
       "      <td>False</td>\n",
       "      <td>False</td>\n",
       "      <td>False</td>\n",
       "      <td>False</td>\n",
       "      <td>False</td>\n",
       "      <td>False</td>\n",
       "      <td>True</td>\n",
       "      <td>True</td>\n",
       "      <td>True</td>\n",
       "    </tr>\n",
       "    <tr>\n",
       "      <th>16713</th>\n",
       "      <td>False</td>\n",
       "      <td>False</td>\n",
       "      <td>False</td>\n",
       "      <td>False</td>\n",
       "      <td>False</td>\n",
       "      <td>False</td>\n",
       "      <td>False</td>\n",
       "      <td>False</td>\n",
       "      <td>True</td>\n",
       "      <td>True</td>\n",
       "      <td>True</td>\n",
       "    </tr>\n",
       "    <tr>\n",
       "      <th>16714</th>\n",
       "      <td>False</td>\n",
       "      <td>False</td>\n",
       "      <td>False</td>\n",
       "      <td>False</td>\n",
       "      <td>False</td>\n",
       "      <td>False</td>\n",
       "      <td>False</td>\n",
       "      <td>False</td>\n",
       "      <td>True</td>\n",
       "      <td>True</td>\n",
       "      <td>True</td>\n",
       "    </tr>\n",
       "  </tbody>\n",
       "</table>\n",
       "<p>16715 rows × 11 columns</p>\n",
       "</div>"
      ],
      "text/plain": [
       "        Name  Platform  Year_of_Release  Genre  NA_sales  EU_sales  JP_sales  \\\n",
       "0      False     False            False  False     False     False     False   \n",
       "1      False     False            False  False     False     False     False   \n",
       "2      False     False            False  False     False     False     False   \n",
       "3      False     False            False  False     False     False     False   \n",
       "4      False     False            False  False     False     False     False   \n",
       "...      ...       ...              ...    ...       ...       ...       ...   \n",
       "16710  False     False            False  False     False     False     False   \n",
       "16711  False     False            False  False     False     False     False   \n",
       "16712  False     False            False  False     False     False     False   \n",
       "16713  False     False            False  False     False     False     False   \n",
       "16714  False     False            False  False     False     False     False   \n",
       "\n",
       "       Other_sales  Critic_Score  User_Score  Rating  \n",
       "0            False         False       False   False  \n",
       "1            False          True        True    True  \n",
       "2            False         False       False   False  \n",
       "3            False         False       False   False  \n",
       "4            False          True        True    True  \n",
       "...            ...           ...         ...     ...  \n",
       "16710        False          True        True    True  \n",
       "16711        False          True        True    True  \n",
       "16712        False          True        True    True  \n",
       "16713        False          True        True    True  \n",
       "16714        False          True        True    True  \n",
       "\n",
       "[16715 rows x 11 columns]"
      ]
     },
     "execution_count": 19,
     "metadata": {},
     "output_type": "execute_result"
    }
   ],
   "source": [
    "videogames.isnull()"
   ]
  },
  {
   "cell_type": "code",
   "execution_count": 20,
   "id": "f3ad5c89",
   "metadata": {},
   "outputs": [
    {
     "data": {
      "text/plain": [
       "Name                  2\n",
       "Platform              0\n",
       "Year_of_Release     269\n",
       "Genre                 2\n",
       "NA_sales              0\n",
       "EU_sales              0\n",
       "JP_sales              0\n",
       "Other_sales           0\n",
       "Critic_Score       8578\n",
       "User_Score         6701\n",
       "Rating             6766\n",
       "dtype: int64"
      ]
     },
     "execution_count": 20,
     "metadata": {},
     "output_type": "execute_result"
    }
   ],
   "source": [
    "videogames.isnull().sum()"
   ]
  },
  {
   "cell_type": "markdown",
   "id": "254e4af2",
   "metadata": {},
   "source": [
    "Valores Ausentes"
   ]
  },
  {
   "cell_type": "code",
   "execution_count": 21,
   "id": "d26993cd",
   "metadata": {},
   "outputs": [
    {
     "data": {
      "text/plain": [
       "Name               0.000120\n",
       "Platform           0.000000\n",
       "Year_of_Release    0.016093\n",
       "Genre              0.000120\n",
       "NA_sales           0.000000\n",
       "EU_sales           0.000000\n",
       "JP_sales           0.000000\n",
       "Other_sales        0.000000\n",
       "Critic_Score       0.513192\n",
       "User_Score         0.400897\n",
       "Rating             0.404786\n",
       "dtype: float64"
      ]
     },
     "execution_count": 21,
     "metadata": {},
     "output_type": "execute_result"
    }
   ],
   "source": [
    "videogames.isnull().mean()"
   ]
  },
  {
   "cell_type": "code",
   "execution_count": 22,
   "id": "6cfdf11b",
   "metadata": {},
   "outputs": [
    {
     "data": {
      "text/plain": [
       "Name                0.011965\n",
       "Platform            0.000000\n",
       "Year_of_Release     1.609333\n",
       "Genre               0.011965\n",
       "NA_sales            0.000000\n",
       "EU_sales            0.000000\n",
       "JP_sales            0.000000\n",
       "Other_sales         0.000000\n",
       "Critic_Score       51.319174\n",
       "User_Score         40.089740\n",
       "Rating             40.478612\n",
       "dtype: float64"
      ]
     },
     "execution_count": 22,
     "metadata": {},
     "output_type": "execute_result"
    }
   ],
   "source": [
    "videogames.isnull().mean()*100"
   ]
  },
  {
   "cell_type": "code",
   "execution_count": 24,
   "id": "b3988449",
   "metadata": {},
   "outputs": [
    {
     "data": {
      "text/plain": [
       "Name                0.012\n",
       "Platform            0.000\n",
       "Year_of_Release     1.609\n",
       "Genre               0.012\n",
       "NA_sales            0.000\n",
       "EU_sales            0.000\n",
       "JP_sales            0.000\n",
       "Other_sales         0.000\n",
       "Critic_Score       51.319\n",
       "User_Score         40.090\n",
       "Rating             40.479\n",
       "dtype: float64"
      ]
     },
     "execution_count": 24,
     "metadata": {},
     "output_type": "execute_result"
    }
   ],
   "source": [
    "round(videogames.isnull().mean()*100, 3)"
   ]
  },
  {
   "cell_type": "markdown",
   "id": "1802697d",
   "metadata": {},
   "source": [
    "## Graficos"
   ]
  },
  {
   "cell_type": "code",
   "execution_count": 26,
   "id": "90d859f4",
   "metadata": {},
   "outputs": [
    {
     "data": {
      "text/plain": [
       "<Axes: >"
      ]
     },
     "execution_count": 26,
     "metadata": {},
     "output_type": "execute_result"
    },
    {
     "data": {
      "image/png": "[encoded data removed]",
      "text/plain": [
       "<Figure size 2500x1000 with 3 Axes>"
      ]
     },
     "metadata": {},
     "output_type": "display_data"
    }
   ],
   "source": [
    "msno.bar(videogames)"
   ]
  },
  {
   "cell_type": "markdown",
   "id": "44ae6189",
   "metadata": {},
   "source": [
    "Cantida de valore ausentes grafico visual"
   ]
  },
  {
   "cell_type": "code",
   "execution_count": 27,
   "id": "f53974e0",
   "metadata": {},
   "outputs": [
    {
     "data": {
      "text/plain": [
       "<Axes: >"
      ]
     },
     "execution_count": 27,
     "metadata": {},
     "output_type": "execute_result"
    },
    {
     "data": {
      "image/png": "[encoded data removed]",
      "text/plain": [
       "<Figure size 2500x1000 with 2 Axes>"
      ]
     },
     "metadata": {},
     "output_type": "display_data"
    }
   ],
   "source": [
    "msno.matrix(videogames)"
   ]
  },
  {
   "cell_type": "code",
   "execution_count": 28,
   "id": "62c6d081",
   "metadata": {},
   "outputs": [
    {
     "data": {
      "text/plain": [
       "<Axes: >"
      ]
     },
     "execution_count": 28,
     "metadata": {},
     "output_type": "execute_result"
    },
    {
     "data": {
      "image/png": "[encoded data removed]",
      "text/plain": [
       "<Figure size 2000x1200 with 2 Axes>"
      ]
     },
     "metadata": {},
     "output_type": "display_data"
    }
   ],
   "source": [
    "msno.heatmap(videogames)"
   ]
  },
  {
   "cell_type": "markdown",
   "id": "e13ff1d6",
   "metadata": {},
   "source": [
    "Cinteo total de datos categoricos o numericos"
   ]
  },
  {
   "cell_type": "code",
   "execution_count": 29,
   "id": "79e160c4",
   "metadata": {},
   "outputs": [
    {
     "data": {
      "text/plain": [
       "Genre\n",
       "Action          3369\n",
       "Sports          2348\n",
       "Misc            1750\n",
       "Role-Playing    1498\n",
       "Shooter         1323\n",
       "Adventure       1303\n",
       "Racing          1249\n",
       "Platform         888\n",
       "Simulation       873\n",
       "Fighting         849\n",
       "Strategy         683\n",
       "Puzzle           580\n",
       "Name: count, dtype: int64"
      ]
     },
     "execution_count": 29,
     "metadata": {},
     "output_type": "execute_result"
    }
   ],
   "source": [
    "videogames[\"Genre\"].value_counts()  "
   ]
  },
  {
   "cell_type": "code",
   "execution_count": 30,
   "id": "2980d6eb",
   "metadata": {},
   "outputs": [
    {
     "data": {
      "text/plain": [
       "Genre\n",
       "Action          20.157961\n",
       "Sports          14.048944\n",
       "Misc            10.470891\n",
       "Role-Playing     8.963083\n",
       "Shooter          7.915994\n",
       "Adventure        7.796326\n",
       "Racing           7.473224\n",
       "Platform         5.313229\n",
       "Simulation       5.223479\n",
       "Fighting         5.079878\n",
       "Strategy         4.086639\n",
       "Puzzle           3.470352\n",
       "Name: proportion, dtype: float64"
      ]
     },
     "execution_count": 30,
     "metadata": {},
     "output_type": "execute_result"
    }
   ],
   "source": [
    "videogames[\"Genre\"].value_counts(normalize=True) * 100"
   ]
  },
  {
   "cell_type": "markdown",
   "id": "d4bfa2ed",
   "metadata": {},
   "source": [
    "Automatizacion del codigo value_counts()"
   ]
  },
  {
   "cell_type": "code",
   "execution_count": 32,
   "id": "9b7c2291",
   "metadata": {},
   "outputs": [
    {
     "data": {
      "text/plain": [
       "Index(['Name', 'Platform', 'Year_of_Release', 'Genre', 'NA_sales', 'EU_sales',\n",
       "       'JP_sales', 'Other_sales', 'Critic_Score', 'User_Score', 'Rating'],\n",
       "      dtype='object')"
      ]
     },
     "execution_count": 32,
     "metadata": {},
     "output_type": "execute_result"
    }
   ],
   "source": [
    "videogames.columns"
   ]
  },
  {
   "cell_type": "code",
   "execution_count": null,
   "id": "b7e1e499",
   "metadata": {},
   "outputs": [],
   "source": []
  },
  {
   "cell_type": "markdown",
   "id": "2036b714",
   "metadata": {},
   "source": [
    "## importante ejecutar esto"
   ]
  },
  {
   "cell_type": "code",
   "execution_count": 36,
   "id": "eb15409a",
   "metadata": {},
   "outputs": [
    {
     "name": "stdout",
     "output_type": "stream",
     "text": [
      "Columna: Name\n",
      "Name\n",
      "Need for Speed: Most Wanted                                                       1200\n",
      "FIFA 14                                                                            900\n",
      "Ratatouille                                                                        900\n",
      "LEGO Marvel Super Heroes                                                           900\n",
      "Madden NFL 07                                                                      900\n",
      "                                                                                  ... \n",
      "Fujiko F. Fujio Characters: Great Assembly! Slightly Fantastic Slapstick Party     100\n",
      "Super Robot Taisen: Original Generation                                            100\n",
      "Sugar + Spice! Anoko no Suteki na Nanimokamo                                       100\n",
      "Kanokon: Esuii                                                                     100\n",
      "Haitaka no Psychedelica                                                            100\n",
      "Name: count, Length: 11559, dtype: int64\n",
      "\n",
      "Columna: Platform\n",
      "Platform\n",
      "PS2     216100\n",
      "DS      215100\n",
      "PS3     133100\n",
      "Wii     132000\n",
      "X360    126200\n",
      "PSP     120900\n",
      "PS      119700\n",
      "PC       97400\n",
      "XB       82400\n",
      "GBA      82200\n",
      "GC       55600\n",
      "3DS      52000\n",
      "PSV      43000\n",
      "PS4      39200\n",
      "N64      31900\n",
      "XOne     24700\n",
      "SNES     23900\n",
      "SAT      17300\n",
      "WiiU     14700\n",
      "2600     13300\n",
      "NES       9800\n",
      "GB        9800\n",
      "DC        5200\n",
      "GEN       2900\n",
      "NG        1200\n",
      "SCD        600\n",
      "WS         600\n",
      "3DO        300\n",
      "TG16       200\n",
      "GG         100\n",
      "PCFX       100\n",
      "Name: count, dtype: int64\n",
      "\n",
      "Columna: Year_of_Release\n",
      "Year_of_Release\n",
      "2008.0    142700\n",
      "2009.0    142600\n",
      "2010.0    125500\n",
      "2007.0    119700\n",
      "2011.0    113600\n",
      "2006.0    100600\n",
      "2005.0     93900\n",
      "2002.0     82900\n",
      "2003.0     77500\n",
      "2004.0     76200\n",
      "2012.0     65300\n",
      "2015.0     60600\n",
      "2014.0     58100\n",
      "2013.0     54400\n",
      "2016.0     50200\n",
      "2001.0     48200\n",
      "1998.0     37900\n",
      "2000.0     35000\n",
      "1999.0     33800\n",
      "1997.0     28900\n",
      "1996.0     26300\n",
      "1995.0     21900\n",
      "1994.0     12100\n",
      "1993.0      6200\n",
      "1981.0      4600\n",
      "1992.0      4300\n",
      "1991.0      4100\n",
      "1982.0      3600\n",
      "1986.0      2100\n",
      "1989.0      1700\n",
      "1983.0      1700\n",
      "1987.0      1600\n",
      "1990.0      1600\n",
      "1988.0      1500\n",
      "1985.0      1400\n",
      "1984.0      1400\n",
      "1980.0       900\n",
      "Name: count, dtype: int64\n",
      "\n",
      "Columna: Genre\n",
      "Genre\n",
      "Action          336900\n",
      "Sports          234800\n",
      "Misc            175000\n",
      "Role-Playing    149800\n",
      "Shooter         132300\n",
      "Adventure       130300\n",
      "Racing          124900\n",
      "Platform         88800\n",
      "Simulation       87300\n",
      "Fighting         84900\n",
      "Strategy         68300\n",
      "Puzzle           58000\n",
      "Name: count, dtype: int64\n",
      "\n",
      "Columna: NA_sales\n",
      "NA_sales\n",
      "0.00     450800\n",
      "0.02      57600\n",
      "0.03      56100\n",
      "0.04      54900\n",
      "0.01      54500\n",
      "          ...  \n",
      "11.27       100\n",
      "15.61       100\n",
      "15.68       100\n",
      "29.08       100\n",
      "41.36       100\n",
      "Name: count, Length: 402, dtype: int64\n",
      "\n",
      "Columna: EU_sales\n",
      "EU_sales\n",
      "0.00     587000\n",
      "0.01     149400\n",
      "0.02     130800\n",
      "0.03      92600\n",
      "0.04      70900\n",
      "          ...  \n",
      "8.89        100\n",
      "10.93       100\n",
      "12.76       100\n",
      "3.58        100\n",
      "28.96       100\n",
      "Name: count, Length: 307, dtype: int64\n",
      "\n",
      "Columna: JP_sales\n",
      "JP_sales\n",
      "0.00    1051400\n",
      "0.02      74100\n",
      "0.01      70600\n",
      "0.03      54600\n",
      "0.04      39700\n",
      "         ...   \n",
      "1.18        100\n",
      "1.14        100\n",
      "1.17        100\n",
      "1.02        100\n",
      "0.97        100\n",
      "Name: count, Length: 244, dtype: int64\n",
      "\n",
      "Columna: Other_sales\n",
      "Other_sales\n",
      "0.00    660100\n",
      "0.01    346400\n",
      "0.02    161800\n",
      "0.03     92600\n",
      "0.04     65400\n",
      "         ...  \n",
      "1.68       100\n",
      "1.82       100\n",
      "1.33       100\n",
      "0.94       100\n",
      "0.93       100\n",
      "Name: count, Length: 155, dtype: int64\n",
      "\n",
      "Columna: Critic_Score\n",
      "Critic_Score\n",
      "70.0    25600\n",
      "71.0    25400\n",
      "75.0    24500\n",
      "78.0    24000\n",
      "73.0    23800\n",
      "        ...  \n",
      "20.0      300\n",
      "21.0      100\n",
      "17.0      100\n",
      "22.0      100\n",
      "13.0      100\n",
      "Name: count, Length: 82, dtype: int64\n",
      "\n",
      "Columna: User_Score\n",
      "User_Score\n",
      "tbd    242400\n",
      "7.8     32400\n",
      "8       29000\n",
      "8.2     28200\n",
      "8.3     25400\n",
      "        ...  \n",
      "1.3       200\n",
      "1         200\n",
      "0.9       200\n",
      "0         100\n",
      "9.7       100\n",
      "Name: count, Length: 96, dtype: int64\n",
      "\n",
      "Columna: Rating\n",
      "Rating\n",
      "E       399000\n",
      "T       296100\n",
      "M       156300\n",
      "E10+    142000\n",
      "EC         800\n",
      "K-A        300\n",
      "RP         300\n",
      "AO         100\n",
      "Name: count, dtype: int64\n",
      "\n"
     ]
    }
   ],
   "source": [
    "for columna in videogames.columns:\n",
    "    print(f\"Columna: {columna}\")\n",
    "    print(videogames[columna].value_counts(normalize=False) * 100)\n",
    "    print()"
   ]
  },
  {
   "cell_type": "markdown",
   "id": "dd5630b0",
   "metadata": {},
   "source": [
    "reset_index( se restea el inidce y se va como columna al df)"
   ]
  },
  {
   "cell_type": "code",
   "execution_count": 39,
   "id": "a6e4e3a8",
   "metadata": {},
   "outputs": [
    {
     "data": {
      "text/html": [
       "<div>\n",
       "<style scoped>\n",
       "    .dataframe tbody tr th:only-of-type {\n",
       "        vertical-align: middle;\n",
       "    }\n",
       "\n",
       "    .dataframe tbody tr th {\n",
       "        vertical-align: top;\n",
       "    }\n",
       "\n",
       "    .dataframe thead th {\n",
       "        text-align: right;\n",
       "    }\n",
       "</style>\n",
       "<table border=\"1\" class=\"dataframe\">\n",
       "  <thead>\n",
       "    <tr style=\"text-align: right;\">\n",
       "      <th></th>\n",
       "      <th>Genre</th>\n",
       "      <th>proportion</th>\n",
       "    </tr>\n",
       "  </thead>\n",
       "  <tbody>\n",
       "    <tr>\n",
       "      <th>0</th>\n",
       "      <td>Action</td>\n",
       "      <td>20.157961</td>\n",
       "    </tr>\n",
       "    <tr>\n",
       "      <th>1</th>\n",
       "      <td>Sports</td>\n",
       "      <td>14.048944</td>\n",
       "    </tr>\n",
       "    <tr>\n",
       "      <th>2</th>\n",
       "      <td>Misc</td>\n",
       "      <td>10.470891</td>\n",
       "    </tr>\n",
       "    <tr>\n",
       "      <th>3</th>\n",
       "      <td>Role-Playing</td>\n",
       "      <td>8.963083</td>\n",
       "    </tr>\n",
       "    <tr>\n",
       "      <th>4</th>\n",
       "      <td>Shooter</td>\n",
       "      <td>7.915994</td>\n",
       "    </tr>\n",
       "    <tr>\n",
       "      <th>5</th>\n",
       "      <td>Adventure</td>\n",
       "      <td>7.796326</td>\n",
       "    </tr>\n",
       "    <tr>\n",
       "      <th>6</th>\n",
       "      <td>Racing</td>\n",
       "      <td>7.473224</td>\n",
       "    </tr>\n",
       "    <tr>\n",
       "      <th>7</th>\n",
       "      <td>Platform</td>\n",
       "      <td>5.313229</td>\n",
       "    </tr>\n",
       "    <tr>\n",
       "      <th>8</th>\n",
       "      <td>Simulation</td>\n",
       "      <td>5.223479</td>\n",
       "    </tr>\n",
       "    <tr>\n",
       "      <th>9</th>\n",
       "      <td>Fighting</td>\n",
       "      <td>5.079878</td>\n",
       "    </tr>\n",
       "    <tr>\n",
       "      <th>10</th>\n",
       "      <td>Strategy</td>\n",
       "      <td>4.086639</td>\n",
       "    </tr>\n",
       "    <tr>\n",
       "      <th>11</th>\n",
       "      <td>Puzzle</td>\n",
       "      <td>3.470352</td>\n",
       "    </tr>\n",
       "  </tbody>\n",
       "</table>\n",
       "</div>"
      ],
      "text/plain": [
       "           Genre  proportion\n",
       "0         Action   20.157961\n",
       "1         Sports   14.048944\n",
       "2           Misc   10.470891\n",
       "3   Role-Playing    8.963083\n",
       "4        Shooter    7.915994\n",
       "5      Adventure    7.796326\n",
       "6         Racing    7.473224\n",
       "7       Platform    5.313229\n",
       "8     Simulation    5.223479\n",
       "9       Fighting    5.079878\n",
       "10      Strategy    4.086639\n",
       "11        Puzzle    3.470352"
      ]
     },
     "execution_count": 39,
     "metadata": {},
     "output_type": "execute_result"
    }
   ],
   "source": [
    "(videogames[\"Genre\"].value_counts(normalize=True) * 100).reset_index()"
   ]
  },
  {
   "cell_type": "markdown",
   "id": "41f0f38a",
   "metadata": {},
   "source": [
    "# explorar como esta la bd"
   ]
  },
  {
   "cell_type": "code",
   "execution_count": 41,
   "id": "9c6e3054",
   "metadata": {},
   "outputs": [
    {
     "data": {
      "text/html": [
       "<div>\n",
       "<style scoped>\n",
       "    .dataframe tbody tr th:only-of-type {\n",
       "        vertical-align: middle;\n",
       "    }\n",
       "\n",
       "    .dataframe tbody tr th {\n",
       "        vertical-align: top;\n",
       "    }\n",
       "\n",
       "    .dataframe thead th {\n",
       "        text-align: right;\n",
       "    }\n",
       "</style>\n",
       "<table border=\"1\" class=\"dataframe\">\n",
       "  <thead>\n",
       "    <tr style=\"text-align: right;\">\n",
       "      <th></th>\n",
       "      <th>Genre</th>\n",
       "      <th>proportion</th>\n",
       "    </tr>\n",
       "  </thead>\n",
       "  <tbody>\n",
       "    <tr>\n",
       "      <th>0</th>\n",
       "      <td>Action</td>\n",
       "      <td>20.157961</td>\n",
       "    </tr>\n",
       "    <tr>\n",
       "      <th>5</th>\n",
       "      <td>Adventure</td>\n",
       "      <td>7.796326</td>\n",
       "    </tr>\n",
       "    <tr>\n",
       "      <th>9</th>\n",
       "      <td>Fighting</td>\n",
       "      <td>5.079878</td>\n",
       "    </tr>\n",
       "    <tr>\n",
       "      <th>2</th>\n",
       "      <td>Misc</td>\n",
       "      <td>10.470891</td>\n",
       "    </tr>\n",
       "    <tr>\n",
       "      <th>7</th>\n",
       "      <td>Platform</td>\n",
       "      <td>5.313229</td>\n",
       "    </tr>\n",
       "    <tr>\n",
       "      <th>11</th>\n",
       "      <td>Puzzle</td>\n",
       "      <td>3.470352</td>\n",
       "    </tr>\n",
       "    <tr>\n",
       "      <th>6</th>\n",
       "      <td>Racing</td>\n",
       "      <td>7.473224</td>\n",
       "    </tr>\n",
       "    <tr>\n",
       "      <th>3</th>\n",
       "      <td>Role-Playing</td>\n",
       "      <td>8.963083</td>\n",
       "    </tr>\n",
       "    <tr>\n",
       "      <th>4</th>\n",
       "      <td>Shooter</td>\n",
       "      <td>7.915994</td>\n",
       "    </tr>\n",
       "    <tr>\n",
       "      <th>8</th>\n",
       "      <td>Simulation</td>\n",
       "      <td>5.223479</td>\n",
       "    </tr>\n",
       "    <tr>\n",
       "      <th>1</th>\n",
       "      <td>Sports</td>\n",
       "      <td>14.048944</td>\n",
       "    </tr>\n",
       "    <tr>\n",
       "      <th>10</th>\n",
       "      <td>Strategy</td>\n",
       "      <td>4.086639</td>\n",
       "    </tr>\n",
       "  </tbody>\n",
       "</table>\n",
       "</div>"
      ],
      "text/plain": [
       "           Genre  proportion\n",
       "0         Action   20.157961\n",
       "5      Adventure    7.796326\n",
       "9       Fighting    5.079878\n",
       "2           Misc   10.470891\n",
       "7       Platform    5.313229\n",
       "11        Puzzle    3.470352\n",
       "6         Racing    7.473224\n",
       "3   Role-Playing    8.963083\n",
       "4        Shooter    7.915994\n",
       "8     Simulation    5.223479\n",
       "1         Sports   14.048944\n",
       "10      Strategy    4.086639"
      ]
     },
     "execution_count": 41,
     "metadata": {},
     "output_type": "execute_result"
    }
   ],
   "source": [
    "(videogames[\"Genre\"].value_counts(normalize=True) * 100).reset_index().sort_values(by=\"Genre\", ascending=True)"
   ]
  },
  {
   "cell_type": "markdown",
   "id": "8bbc4f5d",
   "metadata": {},
   "source": [
    "## resumen estadiis tidoc .describe() como cja ay vigote media cuartil promedio media"
   ]
  },
  {
   "cell_type": "code",
   "execution_count": 42,
   "id": "7712a12c",
   "metadata": {},
   "outputs": [
    {
     "data": {
      "text/html": [
       "<div>\n",
       "<style scoped>\n",
       "    .dataframe tbody tr th:only-of-type {\n",
       "        vertical-align: middle;\n",
       "    }\n",
       "\n",
       "    .dataframe tbody tr th {\n",
       "        vertical-align: top;\n",
       "    }\n",
       "\n",
       "    .dataframe thead th {\n",
       "        text-align: right;\n",
       "    }\n",
       "</style>\n",
       "<table border=\"1\" class=\"dataframe\">\n",
       "  <thead>\n",
       "    <tr style=\"text-align: right;\">\n",
       "      <th></th>\n",
       "      <th>Year_of_Release</th>\n",
       "      <th>NA_sales</th>\n",
       "      <th>EU_sales</th>\n",
       "      <th>JP_sales</th>\n",
       "      <th>Other_sales</th>\n",
       "      <th>Critic_Score</th>\n",
       "    </tr>\n",
       "  </thead>\n",
       "  <tbody>\n",
       "    <tr>\n",
       "      <th>count</th>\n",
       "      <td>16446.000000</td>\n",
       "      <td>16715.000000</td>\n",
       "      <td>16715.000000</td>\n",
       "      <td>16715.000000</td>\n",
       "      <td>16715.000000</td>\n",
       "      <td>8137.000000</td>\n",
       "    </tr>\n",
       "    <tr>\n",
       "      <th>mean</th>\n",
       "      <td>2006.484616</td>\n",
       "      <td>0.263377</td>\n",
       "      <td>0.145060</td>\n",
       "      <td>0.077617</td>\n",
       "      <td>0.047342</td>\n",
       "      <td>68.967679</td>\n",
       "    </tr>\n",
       "    <tr>\n",
       "      <th>std</th>\n",
       "      <td>5.877050</td>\n",
       "      <td>0.813604</td>\n",
       "      <td>0.503339</td>\n",
       "      <td>0.308853</td>\n",
       "      <td>0.186731</td>\n",
       "      <td>13.938165</td>\n",
       "    </tr>\n",
       "    <tr>\n",
       "      <th>min</th>\n",
       "      <td>1980.000000</td>\n",
       "      <td>0.000000</td>\n",
       "      <td>0.000000</td>\n",
       "      <td>0.000000</td>\n",
       "      <td>0.000000</td>\n",
       "      <td>13.000000</td>\n",
       "    </tr>\n",
       "    <tr>\n",
       "      <th>25%</th>\n",
       "      <td>2003.000000</td>\n",
       "      <td>0.000000</td>\n",
       "      <td>0.000000</td>\n",
       "      <td>0.000000</td>\n",
       "      <td>0.000000</td>\n",
       "      <td>60.000000</td>\n",
       "    </tr>\n",
       "    <tr>\n",
       "      <th>50%</th>\n",
       "      <td>2007.000000</td>\n",
       "      <td>0.080000</td>\n",
       "      <td>0.020000</td>\n",
       "      <td>0.000000</td>\n",
       "      <td>0.010000</td>\n",
       "      <td>71.000000</td>\n",
       "    </tr>\n",
       "    <tr>\n",
       "      <th>75%</th>\n",
       "      <td>2010.000000</td>\n",
       "      <td>0.240000</td>\n",
       "      <td>0.110000</td>\n",
       "      <td>0.040000</td>\n",
       "      <td>0.030000</td>\n",
       "      <td>79.000000</td>\n",
       "    </tr>\n",
       "    <tr>\n",
       "      <th>max</th>\n",
       "      <td>2016.000000</td>\n",
       "      <td>41.360000</td>\n",
       "      <td>28.960000</td>\n",
       "      <td>10.220000</td>\n",
       "      <td>10.570000</td>\n",
       "      <td>98.000000</td>\n",
       "    </tr>\n",
       "  </tbody>\n",
       "</table>\n",
       "</div>"
      ],
      "text/plain": [
       "       Year_of_Release      NA_sales      EU_sales      JP_sales  \\\n",
       "count     16446.000000  16715.000000  16715.000000  16715.000000   \n",
       "mean       2006.484616      0.263377      0.145060      0.077617   \n",
       "std           5.877050      0.813604      0.503339      0.308853   \n",
       "min        1980.000000      0.000000      0.000000      0.000000   \n",
       "25%        2003.000000      0.000000      0.000000      0.000000   \n",
       "50%        2007.000000      0.080000      0.020000      0.000000   \n",
       "75%        2010.000000      0.240000      0.110000      0.040000   \n",
       "max        2016.000000     41.360000     28.960000     10.220000   \n",
       "\n",
       "        Other_sales  Critic_Score  \n",
       "count  16715.000000   8137.000000  \n",
       "mean       0.047342     68.967679  \n",
       "std        0.186731     13.938165  \n",
       "min        0.000000     13.000000  \n",
       "25%        0.000000     60.000000  \n",
       "50%        0.010000     71.000000  \n",
       "75%        0.030000     79.000000  \n",
       "max       10.570000     98.000000  "
      ]
     },
     "execution_count": 42,
     "metadata": {},
     "output_type": "execute_result"
    }
   ],
   "source": [
    "videogames.describe()"
   ]
  },
  {
   "cell_type": "code",
   "execution_count": 43,
   "id": "ced7474f",
   "metadata": {},
   "outputs": [
    {
     "name": "stdout",
     "output_type": "stream",
     "text": [
      "<class 'pandas.core.frame.DataFrame'>\n",
      "RangeIndex: 16715 entries, 0 to 16714\n",
      "Data columns (total 11 columns):\n",
      " #   Column           Non-Null Count  Dtype  \n",
      "---  ------           --------------  -----  \n",
      " 0   Name             16713 non-null  object \n",
      " 1   Platform         16715 non-null  object \n",
      " 2   Year_of_Release  16446 non-null  float64\n",
      " 3   Genre            16713 non-null  object \n",
      " 4   NA_sales         16715 non-null  float64\n",
      " 5   EU_sales         16715 non-null  float64\n",
      " 6   JP_sales         16715 non-null  float64\n",
      " 7   Other_sales      16715 non-null  float64\n",
      " 8   Critic_Score     8137 non-null   float64\n",
      " 9   User_Score       10014 non-null  object \n",
      " 10  Rating           9949 non-null   object \n",
      "dtypes: float64(6), object(5)\n",
      "memory usage: 1.4+ MB\n"
     ]
    }
   ],
   "source": [
    "videogames.info()"
   ]
  },
  {
   "cell_type": "code",
   "execution_count": 47,
   "id": "225f2983",
   "metadata": {},
   "outputs": [
    {
     "data": {
      "text/html": [
       "<div>\n",
       "<style scoped>\n",
       "    .dataframe tbody tr th:only-of-type {\n",
       "        vertical-align: middle;\n",
       "    }\n",
       "\n",
       "    .dataframe tbody tr th {\n",
       "        vertical-align: top;\n",
       "    }\n",
       "\n",
       "    .dataframe thead th {\n",
       "        text-align: right;\n",
       "    }\n",
       "</style>\n",
       "<table border=\"1\" class=\"dataframe\">\n",
       "  <thead>\n",
       "    <tr style=\"text-align: right;\">\n",
       "      <th></th>\n",
       "      <th>Name</th>\n",
       "      <th>Platform</th>\n",
       "      <th>Genre</th>\n",
       "      <th>User_Score</th>\n",
       "      <th>Rating</th>\n",
       "    </tr>\n",
       "  </thead>\n",
       "  <tbody>\n",
       "    <tr>\n",
       "      <th>count</th>\n",
       "      <td>16713</td>\n",
       "      <td>16715</td>\n",
       "      <td>16713</td>\n",
       "      <td>10014</td>\n",
       "      <td>9949</td>\n",
       "    </tr>\n",
       "    <tr>\n",
       "      <th>unique</th>\n",
       "      <td>11559</td>\n",
       "      <td>31</td>\n",
       "      <td>12</td>\n",
       "      <td>96</td>\n",
       "      <td>8</td>\n",
       "    </tr>\n",
       "    <tr>\n",
       "      <th>top</th>\n",
       "      <td>Need for Speed: Most Wanted</td>\n",
       "      <td>PS2</td>\n",
       "      <td>Action</td>\n",
       "      <td>tbd</td>\n",
       "      <td>E</td>\n",
       "    </tr>\n",
       "    <tr>\n",
       "      <th>freq</th>\n",
       "      <td>12</td>\n",
       "      <td>2161</td>\n",
       "      <td>3369</td>\n",
       "      <td>2424</td>\n",
       "      <td>3990</td>\n",
       "    </tr>\n",
       "  </tbody>\n",
       "</table>\n",
       "</div>"
      ],
      "text/plain": [
       "                               Name Platform   Genre User_Score Rating\n",
       "count                         16713    16715   16713      10014   9949\n",
       "unique                        11559       31      12         96      8\n",
       "top     Need for Speed: Most Wanted      PS2  Action        tbd      E\n",
       "freq                             12     2161    3369       2424   3990"
      ]
     },
     "execution_count": 47,
     "metadata": {},
     "output_type": "execute_result"
    }
   ],
   "source": [
    "categorical_data = videogames.select_dtypes(include=['object'])\n",
    "categorical_data.describe()"
   ]
  },
  {
   "cell_type": "code",
   "execution_count": 48,
   "id": "3d70b697",
   "metadata": {},
   "outputs": [],
   "source": [
    "numerical_data = videogames.select_dtypes(include=['float64', 'int64'])"
   ]
  },
  {
   "cell_type": "markdown",
   "id": "5e935925",
   "metadata": {},
   "source": [
    "ambair datoa  una columna"
   ]
  },
  {
   "cell_type": "code",
   "execution_count": null,
   "id": "2bbce900",
   "metadata": {},
   "outputs": [],
   "source": [
    "videogames[\"year_of_release\"]."
   ]
  },
  {
   "cell_type": "markdown",
   "id": "0955dccd",
   "metadata": {},
   "source": [
    "## limpiando la columna User_Score"
   ]
  },
  {
   "cell_type": "code",
   "execution_count": 50,
   "id": "cecdb31f",
   "metadata": {},
   "outputs": [
    {
     "data": {
      "text/plain": [
       "User_Score\n",
       "NaN    6701\n",
       "tbd    2424\n",
       "7.8     324\n",
       "8       290\n",
       "8.2     282\n",
       "       ... \n",
       "1.3       2\n",
       "1         2\n",
       "0.9       2\n",
       "0         1\n",
       "9.7       1\n",
       "Name: count, Length: 97, dtype: int64"
      ]
     },
     "execution_count": 50,
     "metadata": {},
     "output_type": "execute_result"
    }
   ],
   "source": [
    "videogames[\"User_Score\"].value_counts(dropna=False)"
   ]
  },
  {
   "cell_type": "code",
   "execution_count": 52,
   "id": "1631b493",
   "metadata": {},
   "outputs": [],
   "source": [
    "videogames[\"User_Score\"] = videogames[\"User_Score\"].replace('tbd', np.nan)"
   ]
  },
  {
   "cell_type": "code",
   "execution_count": 53,
   "id": "93ab93b1",
   "metadata": {},
   "outputs": [
    {
     "data": {
      "text/plain": [
       "User_Score\n",
       "NaN    9125\n",
       "7.8     324\n",
       "8       290\n",
       "8.2     282\n",
       "8.3     254\n",
       "       ... \n",
       "1.3       2\n",
       "1         2\n",
       "0.9       2\n",
       "0         1\n",
       "9.7       1\n",
       "Name: count, Length: 96, dtype: int64"
      ]
     },
     "execution_count": 53,
     "metadata": {},
     "output_type": "execute_result"
    }
   ],
   "source": [
    "videogames[\"User_Score\"].value_counts(dropna=False)"
   ]
  },
  {
   "cell_type": "code",
   "execution_count": null,
   "id": "59d8e992",
   "metadata": {},
   "outputs": [],
   "source": [
    "crear una funcion data cleaner y que limpie las columnas y que refresquen los tipos de datos"
   ]
  }
 ],
 "metadata": {
  "kernelspec": {
   "display_name": "venv",
   "language": "python",
   "name": "python3"
  },
  "language_info": {
   "codemirror_mode": {
    "name": "ipython",
    "version": 3
   },
   "file_extension": ".py",
   "mimetype": "text/x-python",
   "name": "python",
   "nbconvert_exporter": "python",
   "pygments_lexer": "ipython3",
   "version": "3.14.0"
  }
 },
 "nbformat": 4,
 "nbformat_minor": 5
}
