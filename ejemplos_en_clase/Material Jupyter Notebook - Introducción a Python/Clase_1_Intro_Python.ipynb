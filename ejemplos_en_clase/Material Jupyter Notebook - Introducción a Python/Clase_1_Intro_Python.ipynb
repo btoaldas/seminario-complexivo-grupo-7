{
  "cells": [
    {
      "cell_type": "markdown",
      "metadata": {
        "id": "SH_9Cz6tnkzs"
      },
      "source": [
        "# Introducción a Python"
      ]
    },
    {
      "cell_type": "markdown",
      "metadata": {},
      "source": [
        "**Profesor**: Juan Felipe Nájera Puente"
      ]
    },
    {
      "cell_type": "markdown",
      "metadata": {
        "id": "c-ftPEqfpFLz"
      },
      "source": [
        "# **Variables**"
      ]
    },
    {
      "cell_type": "markdown",
      "metadata": {
        "id": "UZCzFZUDpJwC"
      },
      "source": [
        "## **¿Qué es una *variable* en programación (Python)?**"
      ]
    },
    {
      "cell_type": "markdown",
      "metadata": {},
      "source": [
        "* Una variable es un **nombre** que se refiere a un valor u **objeto** almacenado en la memoria del computador (o servidores).\n",
        "* Este valor u **objeto** puede ser de diferentes tipos como:\n",
        "  * Un valor numérico\n",
        "  * Una cadena de caracteres (texto)\n",
        "  * Otros tipos de datos\n",
        "* En los lenguajes de programación, las variables son esenciales para **recordar** o **guardar** información sobre estos valores u **objetos**, para ser **usado** una o múltiples veces en el programa.\n",
        "  * Este es el objetivo principal de las **variables**.\n",
        "* El nombre de las variables suele estar relacionado con la información que almacena.\n",
        "* Las variables pueden almacenar cualquier tipo de dato que se les asigne.\n"
      ]
    },
    {
      "cell_type": "markdown",
      "metadata": {
        "id": "KWslaGo5Xetr"
      },
      "source": [
        "### **Asignación o creación de una variable en Python**"
      ]
    },
    {
      "cell_type": "markdown",
      "metadata": {
        "id": "C5auEkreXmE5"
      },
      "source": [
        "En Python, se asigna un valor a una variable de manera muy sencilla.\n",
        "\n",
        "Para asignar una variable, debes seguir estos pasos:\n",
        "\n",
        "\n",
        "1.   Escribir el nombre de la variable.\n",
        "2.   Escribir el signo `=` (operador de asignación).\n",
        "3.   Especificar el valor que se quiere que tenga la variable.\n",
        "\n"
      ]
    },
    {
      "cell_type": "markdown",
      "metadata": {
        "id": "n4uk_qaJghHh"
      },
      "source": [
        "![image.png](data:image/png;base64,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)"
      ]
    },
    {
      "cell_type": "markdown",
      "metadata": {
        "id": "o511Q0sEyKcG"
      },
      "source": [
        "#### **Ejemplo 1**\n",
        "Queremos recordar un número de 100 dígitos, como humanos no podemos hacerlo fácilmente, pero con Python es sencillo.\n",
        "\n",
        "Por ejemplo queremos saber y guardar los 100 primeros dígitos de Pi\n",
        "*   Pi es la relación entre longitud de una circunferencia y su diámetro.\n",
        "*   Actualmente tiene aproximadamente 32.8 millones de dígitos.\n",
        "*   Es un número irracional."
      ]
    },
    {
      "cell_type": "code",
      "execution_count": 1,
      "metadata": {
        "id": "ALGLBB2PyKAd"
      },
      "outputs": [],
      "source": [
        "# valor de pi\n",
        "pi = 3.141592653589793238462643383279502884197169399375105820974944592307816406286208998628034825342117067"
      ]
    },
    {
      "cell_type": "code",
      "execution_count": 2,
      "metadata": {
        "id": "BBfaK_IUZakc"
      },
      "outputs": [
        {
          "data": {
            "text/plain": [
              "3.141592653589793"
            ]
          },
          "execution_count": 2,
          "metadata": {},
          "output_type": "execute_result"
        }
      ],
      "source": [
        "# llamar variable en google colab o jupyter notebook\n",
        "pi"
      ]
    },
    {
      "cell_type": "code",
      "execution_count": 3,
      "metadata": {
        "id": "HXj-mt_3yH1c"
      },
      "outputs": [
        {
          "data": {
            "text/plain": [
              "13.141592653589793"
            ]
          },
          "execution_count": 3,
          "metadata": {},
          "output_type": "execute_result"
        }
      ],
      "source": [
        "# suma de pi (cálculo en python)\n",
        "pi+10"
      ]
    },
    {
      "cell_type": "markdown",
      "metadata": {
        "id": "Vjuq9rxJJ48p"
      },
      "source": [
        "#### **Ejemplo 2**\n",
        "¿Qué pasará si realizamos la siguiente asignación? ❓"
      ]
    },
    {
      "cell_type": "code",
      "execution_count": 4,
      "metadata": {
        "id": "bGNiSyqdKUzx"
      },
      "outputs": [
        {
          "ename": "SyntaxError",
          "evalue": "cannot assign to literal here. Maybe you meant '==' instead of '='? (2110068543.py, line 2)",
          "output_type": "error",
          "traceback": [
            "\u001b[1;36m  Cell \u001b[1;32mIn[4], line 2\u001b[1;36m\u001b[0m\n\u001b[1;33m    7 = x\u001b[0m\n\u001b[1;37m    ^\u001b[0m\n\u001b[1;31mSyntaxError\u001b[0m\u001b[1;31m:\u001b[0m cannot assign to literal here. Maybe you meant '==' instead of '='?\n"
          ]
        }
      ],
      "source": [
        "# asignacion?\n",
        "7 = x"
      ]
    },
    {
      "cell_type": "markdown",
      "metadata": {
        "id": "oGMDg8wEwaHl"
      },
      "source": [
        "En Python, este código genera error. La razón es que en una asignación, el lado izquierdo debe ser una variable que puede almacenar un valor, no un valor constante. En este caso, estamos tratando de asignar un valor (`7`) a una variable (`x`), pero se lo ha escrito al revés."
      ]
    },
    {
      "cell_type": "markdown",
      "metadata": {
        "id": "10oGqnT-wxq9"
      },
      "source": [
        "\n",
        "\n",
        "```\n",
        "# Asignación correcta\n",
        "x = 7\n",
        "```\n",
        "\n"
      ]
    },
    {
      "cell_type": "markdown",
      "metadata": {
        "id": "IwVhaINN3TPq"
      },
      "source": [
        "### **¿Cómo se cambia el valor de una variable?**"
      ]
    },
    {
      "cell_type": "markdown",
      "metadata": {
        "id": "RVuLthZ_yKl7"
      },
      "source": [
        "Las variables se llaman así porque pueden **cambiar** con el tiempo. En programación, puedes cambiar el valor de una variable simplemente asignándole un nuevo valor."
      ]
    },
    {
      "cell_type": "markdown",
      "metadata": {
        "id": "kHMQlKIv5g9M"
      },
      "source": [
        "#### **Ejemplo 3**\n",
        "Asignamos a la variable `nombre` el nombre `Ana` primero y de ahí le actualizamos con `Anita`."
      ]
    },
    {
      "cell_type": "code",
      "execution_count": 9,
      "metadata": {
        "id": "XaFWQ0863YNy"
      },
      "outputs": [],
      "source": [
        "# cambio de variables\n",
        "nombre = \"Ana\"\n",
        "nombre = \"Anita\"\n",
        "nombre = 'Juan'"
      ]
    },
    {
      "cell_type": "markdown",
      "metadata": {
        "id": "WWt0NL3P04io"
      },
      "source": [
        "¿Qué resultado va a imprimir? ❓"
      ]
    },
    {
      "cell_type": "code",
      "execution_count": 10,
      "metadata": {
        "id": "0Jd2fFjw5Uir"
      },
      "outputs": [
        {
          "data": {
            "text/plain": [
              "'Juan'"
            ]
          },
          "execution_count": 10,
          "metadata": {},
          "output_type": "execute_result"
        }
      ],
      "source": [
        "nombre"
      ]
    },
    {
      "cell_type": "markdown",
      "metadata": {
        "id": "EzOHXo_i54nI"
      },
      "source": [
        "Lo mismo sucede si cambiamos la variable a un valor numérico."
      ]
    },
    {
      "cell_type": "code",
      "execution_count": 7,
      "metadata": {
        "id": "XPPrdVaU59gW"
      },
      "outputs": [],
      "source": [
        "nombre = 1"
      ]
    },
    {
      "cell_type": "markdown",
      "metadata": {
        "id": "X8pLKzVn0-D1"
      },
      "source": [
        "¿Qué resultado va a imprimir? ❓"
      ]
    },
    {
      "cell_type": "code",
      "execution_count": 8,
      "metadata": {
        "id": "fPU82boL6ALX"
      },
      "outputs": [
        {
          "data": {
            "text/plain": [
              "1"
            ]
          },
          "execution_count": 8,
          "metadata": {},
          "output_type": "execute_result"
        }
      ],
      "source": [
        "nombre"
      ]
    },
    {
      "cell_type": "markdown",
      "metadata": {
        "id": "W5LVj7lwyj8_"
      },
      "source": [
        "#### **Ejemplo 4**\n",
        "¿Qué valor va a imprimir si escribimos lo siguiente? ❓"
      ]
    },
    {
      "cell_type": "code",
      "execution_count": 11,
      "metadata": {
        "id": "mOBIxMQvzueT"
      },
      "outputs": [
        {
          "ename": "NameError",
          "evalue": "name 'nombres' is not defined",
          "output_type": "error",
          "traceback": [
            "\u001b[1;31m---------------------------------------------------------------------------\u001b[0m",
            "\u001b[1;31mNameError\u001b[0m                                 Traceback (most recent call last)",
            "Cell \u001b[1;32mIn[11], line 2\u001b[0m\n\u001b[0;32m      1\u001b[0m \u001b[38;5;66;03m# variable\u001b[39;00m\n\u001b[1;32m----> 2\u001b[0m \u001b[43mnombres\u001b[49m\n",
            "\u001b[1;31mNameError\u001b[0m: name 'nombres' is not defined"
          ]
        }
      ],
      "source": [
        "# variable\n",
        "nombres"
      ]
    },
    {
      "cell_type": "markdown",
      "metadata": {
        "id": "P5OT0ph31wnR"
      },
      "source": [
        "Cuando una variable no se ha definido, es decir, no se le ha asignado un valor, Python muestra un error de tipo `NameError`. Esto indica que la variable no está definida y no se puede mostrar su valor.\n"
      ]
    },
    {
      "cell_type": "markdown",
      "metadata": {
        "id": "2rODmI7S6E5n"
      },
      "source": [
        "### **Variables dentro de variables**"
      ]
    },
    {
      "cell_type": "markdown",
      "metadata": {
        "id": "x8v_mEqu9U-c"
      },
      "source": [
        "Una variable puede contener **otra variable** dentro de ella."
      ]
    },
    {
      "cell_type": "markdown",
      "metadata": {
        "id": "abIxGm2i9c6S"
      },
      "source": [
        "#### **Ejemplo 5**\n",
        "Se quiere asignar una variable dentro de otra. ¿Cómo se realiza? ❓"
      ]
    },
    {
      "cell_type": "code",
      "execution_count": 12,
      "metadata": {
        "id": "GuXWWZDw6Hp_"
      },
      "outputs": [],
      "source": [
        "# variables dentro de variables\n",
        "primera_variable = 820\n",
        "segunda_variable = primera_variable"
      ]
    },
    {
      "cell_type": "markdown",
      "metadata": {
        "id": "FEQG855r1G4-"
      },
      "source": [
        "¿Qué va a imprimir cada variable? ❓"
      ]
    },
    {
      "cell_type": "code",
      "execution_count": null,
      "metadata": {
        "id": "asIxHyM49ove"
      },
      "outputs": [],
      "source": [
        "primera_variable"
      ]
    },
    {
      "cell_type": "code",
      "execution_count": null,
      "metadata": {
        "id": "zD6Ad1w89qhc"
      },
      "outputs": [],
      "source": [
        "segunda_variable"
      ]
    },
    {
      "cell_type": "markdown",
      "metadata": {
        "id": "zq3F_oXF9yr-"
      },
      "source": [
        "### **Sintaxis en variables**"
      ]
    },
    {
      "cell_type": "markdown",
      "metadata": {
        "id": "bVlDxP3p67E1"
      },
      "source": [
        "El término **\"sintaxis\"** se refiere al conjunto de reglas que definen cómo se debe escribir el código en un determinado lenguaje de programación.\n",
        "  - Es similar a la gramática en los idiomas.\n",
        "\n",
        "Cuando hablamos de la **sintaxis en Python**, nos referimos al uso correcto del lenguaje y al orden de las palabras para poder comunicarnos de manera efectiva, tanto entre el usuario y el computador, como entre diferentes usuarios.\n",
        "  - De esta manera evitamos errores de comprensión.\n",
        "\n",
        "Es importante tener en cuenta que en programación, los nombres de las variables distinguen entre mayúsculas y minúsculas."
      ]
    },
    {
      "cell_type": "markdown",
      "metadata": {
        "id": "hH6o-KkXBzs3"
      },
      "source": [
        "#### **Ejemplo 6**\n",
        "Verifiquemos el nombre de la variable `Primera_Variable` y `primera_variable`:"
      ]
    },
    {
      "cell_type": "code",
      "execution_count": 13,
      "metadata": {
        "id": "d4ucbTie91Km"
      },
      "outputs": [],
      "source": [
        "Primera_Variable = 5"
      ]
    },
    {
      "cell_type": "markdown",
      "metadata": {
        "id": "_C7SkWFh1ONy"
      },
      "source": [
        "¿Qué va a ocurrir al imprimir cada variable? ❓"
      ]
    },
    {
      "cell_type": "code",
      "execution_count": 14,
      "metadata": {
        "id": "OkDGfQMFCZfh"
      },
      "outputs": [
        {
          "data": {
            "text/plain": [
              "5"
            ]
          },
          "execution_count": 14,
          "metadata": {},
          "output_type": "execute_result"
        }
      ],
      "source": [
        "Primera_Variable"
      ]
    },
    {
      "cell_type": "code",
      "execution_count": 15,
      "metadata": {
        "id": "Lf0TNAJoEz9J"
      },
      "outputs": [
        {
          "data": {
            "text/plain": [
              "820"
            ]
          },
          "execution_count": 15,
          "metadata": {},
          "output_type": "execute_result"
        }
      ],
      "source": [
        "primera_variable"
      ]
    },
    {
      "cell_type": "markdown",
      "metadata": {
        "id": "Fd80PJsq8Nti"
      },
      "source": [
        "En Python, las variables distinguen entre mayúsculas y minúsculas."
      ]
    },
    {
      "cell_type": "markdown",
      "metadata": {
        "id": "OZZ5u0C9E3_E"
      },
      "source": [
        "Es posible definir una variable con mayúsculas, pero no es lo recomendable a nivel de sintaxis y visualización del código."
      ]
    },
    {
      "cell_type": "markdown",
      "metadata": {
        "id": "8BDAgRYyHKwN"
      },
      "source": [
        "**¡Importante!**\n",
        "\n",
        "Los nombres de las variables no pueden empezar con números."
      ]
    },
    {
      "cell_type": "markdown",
      "metadata": {
        "id": "WV9OmVgqHZaN"
      },
      "source": [
        "#### **Ejemplo 7**\n",
        "¿Qué sucederá cuando se declara una variable como `1_version`? ❓"
      ]
    },
    {
      "cell_type": "code",
      "execution_count": 16,
      "metadata": {
        "id": "KZxsxVC9H0rB"
      },
      "outputs": [
        {
          "ename": "SyntaxError",
          "evalue": "invalid decimal literal (862236290.py, line 1)",
          "output_type": "error",
          "traceback": [
            "\u001b[1;36m  Cell \u001b[1;32mIn[16], line 1\u001b[1;36m\u001b[0m\n\u001b[1;33m    1_version = 5\u001b[0m\n\u001b[1;37m     ^\u001b[0m\n\u001b[1;31mSyntaxError\u001b[0m\u001b[1;31m:\u001b[0m invalid decimal literal\n"
          ]
        }
      ],
      "source": [
        "1_version = 5"
      ]
    },
    {
      "cell_type": "code",
      "execution_count": 17,
      "metadata": {
        "id": "f8ywLMV7H4B_"
      },
      "outputs": [
        {
          "ename": "SyntaxError",
          "evalue": "invalid decimal literal (4107221271.py, line 1)",
          "output_type": "error",
          "traceback": [
            "\u001b[1;36m  Cell \u001b[1;32mIn[17], line 1\u001b[1;36m\u001b[0m\n\u001b[1;33m    1version = 5\u001b[0m\n\u001b[1;37m    ^\u001b[0m\n\u001b[1;31mSyntaxError\u001b[0m\u001b[1;31m:\u001b[0m invalid decimal literal\n"
          ]
        }
      ],
      "source": [
        "1version = 5"
      ]
    },
    {
      "cell_type": "code",
      "execution_count": 18,
      "metadata": {
        "id": "8VgC2NEFH5u3"
      },
      "outputs": [],
      "source": [
        "version_1 = 5"
      ]
    },
    {
      "cell_type": "markdown",
      "metadata": {
        "id": "b38wyqm8H-pV"
      },
      "source": [
        "Es posible definir variables con tildes o acentos en Python. Sin embargo, a nivel de buenas prácticas de programación, no es recomendable."
      ]
    },
    {
      "cell_type": "code",
      "execution_count": 19,
      "metadata": {
        "id": "iQO9PO_TH-Pl"
      },
      "outputs": [],
      "source": [
        "versión = 4"
      ]
    },
    {
      "cell_type": "code",
      "execution_count": 20,
      "metadata": {
        "id": "-9xGMD0xIHXu"
      },
      "outputs": [
        {
          "data": {
            "text/plain": [
              "4"
            ]
          },
          "execution_count": 20,
          "metadata": {},
          "output_type": "execute_result"
        }
      ],
      "source": [
        "versión"
      ]
    },
    {
      "cell_type": "markdown",
      "metadata": {
        "id": "7GLPoczjMNZ5"
      },
      "source": [
        "**¡Importante!**\n",
        "\n",
        "No se admite caracteres de puntuación como `@`, `,`,  `$`,  `%` en los nombres de las variables."
      ]
    },
    {
      "cell_type": "markdown",
      "metadata": {
        "id": "r49UI_8AMiEy"
      },
      "source": [
        "#### **Ejemplo 8**\n",
        "Verifiquemos qué pasa al utilizar estos caracteres al asignar variables."
      ]
    },
    {
      "cell_type": "code",
      "execution_count": 21,
      "metadata": {
        "id": "nx7k53XdMT3D"
      },
      "outputs": [
        {
          "ename": "SyntaxError",
          "evalue": "cannot assign to expression here. Maybe you meant '==' instead of '='? (2554807576.py, line 1)",
          "output_type": "error",
          "traceback": [
            "\u001b[1;36m  Cell \u001b[1;32mIn[21], line 1\u001b[1;36m\u001b[0m\n\u001b[1;33m    ell@s = 5\u001b[0m\n\u001b[1;37m    ^\u001b[0m\n\u001b[1;31mSyntaxError\u001b[0m\u001b[1;31m:\u001b[0m cannot assign to expression here. Maybe you meant '==' instead of '='?\n"
          ]
        }
      ],
      "source": [
        "ell@s = 5"
      ]
    },
    {
      "cell_type": "code",
      "execution_count": 22,
      "metadata": {
        "id": "arHaeT4yMd3L"
      },
      "outputs": [
        {
          "ename": "SyntaxError",
          "evalue": "invalid syntax (1133835302.py, line 1)",
          "output_type": "error",
          "traceback": [
            "\u001b[1;36m  Cell \u001b[1;32mIn[22], line 1\u001b[1;36m\u001b[0m\n\u001b[1;33m    dinero_$ = 99\u001b[0m\n\u001b[1;37m           ^\u001b[0m\n\u001b[1;31mSyntaxError\u001b[0m\u001b[1;31m:\u001b[0m invalid syntax\n"
          ]
        }
      ],
      "source": [
        "dinero_$ = 99"
      ]
    },
    {
      "cell_type": "code",
      "execution_count": 23,
      "metadata": {
        "id": "aE-dQkQ-MhML"
      },
      "outputs": [
        {
          "ename": "SyntaxError",
          "evalue": "invalid syntax (2511666107.py, line 1)",
          "output_type": "error",
          "traceback": [
            "\u001b[1;36m  Cell \u001b[1;32mIn[23], line 1\u001b[1;36m\u001b[0m\n\u001b[1;33m    porcentaje_% = 100\u001b[0m\n\u001b[1;37m                 ^\u001b[0m\n\u001b[1;31mSyntaxError\u001b[0m\u001b[1;31m:\u001b[0m invalid syntax\n"
          ]
        }
      ],
      "source": [
        "porcentaje_% = 100"
      ]
    },
    {
      "cell_type": "code",
      "execution_count": 24,
      "metadata": {
        "id": "lq86_ea5N0_U"
      },
      "outputs": [
        {
          "ename": "TypeError",
          "evalue": "cannot unpack non-iterable int object",
          "output_type": "error",
          "traceback": [
            "\u001b[1;31m---------------------------------------------------------------------------\u001b[0m",
            "\u001b[1;31mTypeError\u001b[0m                                 Traceback (most recent call last)",
            "Cell \u001b[1;32mIn[24], line 1\u001b[0m\n\u001b[1;32m----> 1\u001b[0m buscar,arreglar \u001b[38;5;241m=\u001b[39m \u001b[38;5;241m4\u001b[39m\n",
            "\u001b[1;31mTypeError\u001b[0m: cannot unpack non-iterable int object"
          ]
        }
      ],
      "source": [
        "buscar,arreglar = 4"
      ]
    },
    {
      "cell_type": "markdown",
      "metadata": {
        "id": "xlwmCbRyYxId"
      },
      "source": [
        "En Python, los nombres de las variables no pueden contener caracteres de puntuación como `@`, `,`, `$` o `%`, ya que cada una tiene una función específica en Python (esto se verá más adelante)."
      ]
    },
    {
      "cell_type": "markdown",
      "metadata": {},
      "source": [
        "# Tipos de datos"
      ]
    },
    {
      "cell_type": "markdown",
      "metadata": {
        "id": "QRENtmj1w238"
      },
      "source": [
        "## ¿Cuáles son los tipos de datos más comunes?"
      ]
    },
    {
      "cell_type": "markdown",
      "metadata": {
        "id": "gXZ9vWrbskUL"
      },
      "source": [
        "**Recordar** que llamamos **objetos** a los datos que guardamos en una variable. Cada variable pertenece a un cierto **tipo** de dato.\n",
        "\n",
        "Los tipos de datos más comunes son:\n",
        "*  Números enteros (`int`)\n",
        "*  Números de coma flotante o decimales o contínuos (`float`)\n",
        "*  Texto o cadena de caracteres (`str`)\n",
        "*  Valores booleanos - `True`, `False` (`bool`)"
      ]
    },
    {
      "cell_type": "markdown",
      "metadata": {
        "id": "Z2lTVqYYt5am"
      },
      "source": [
        "**Tomar en cuenta:**\n",
        "\n",
        "No es necesario indicar el tipo de dato cuando creas un objeto porque Python lo hace por ti, sin embargo, es importante corregirlo en caso de que se equivoque.\n",
        "*  En otros lenguajes de programación hay que indicar qué tipo de dato es el objeto."
      ]
    },
    {
      "cell_type": "markdown",
      "metadata": {
        "id": "NKXp4UZCDymC"
      },
      "source": [
        "![image.png](data:image/png;base64,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)"
      ]
    },
    {
      "cell_type": "markdown",
      "metadata": {
        "id": "7QWQG_TLvlMg"
      },
      "source": [
        "### Ejemplo 9\n",
        "Imprimamos diferentes tipos de datos y verifiquemos qué tipos de datos son:"
      ]
    },
    {
      "cell_type": "code",
      "execution_count": 25,
      "metadata": {
        "id": "ubunpXiMsjot"
      },
      "outputs": [],
      "source": [
        "idioma = \"chino mandarín\"\n",
        "hablantes_nativos = 908.7\n",
        "personas_interesadas = 10\n",
        "habla_chino = True"
      ]
    },
    {
      "cell_type": "markdown",
      "metadata": {
        "id": "ulKxf3GcwSXl"
      },
      "source": [
        "Uso de función `type()` para saber qué tipo de datos son:"
      ]
    },
    {
      "cell_type": "code",
      "execution_count": 26,
      "metadata": {
        "id": "uIFwWaFWwIS2"
      },
      "outputs": [
        {
          "data": {
            "text/plain": [
              "str"
            ]
          },
          "execution_count": 26,
          "metadata": {},
          "output_type": "execute_result"
        }
      ],
      "source": [
        "type(idioma)"
      ]
    },
    {
      "cell_type": "code",
      "execution_count": 27,
      "metadata": {},
      "outputs": [
        {
          "data": {
            "text/plain": [
              "float"
            ]
          },
          "execution_count": 27,
          "metadata": {},
          "output_type": "execute_result"
        }
      ],
      "source": [
        "type(hablantes_nativos)"
      ]
    },
    {
      "cell_type": "code",
      "execution_count": 28,
      "metadata": {},
      "outputs": [
        {
          "data": {
            "text/plain": [
              "int"
            ]
          },
          "execution_count": 28,
          "metadata": {},
          "output_type": "execute_result"
        }
      ],
      "source": [
        "type(personas_interesadas)"
      ]
    },
    {
      "cell_type": "code",
      "execution_count": 29,
      "metadata": {},
      "outputs": [
        {
          "data": {
            "text/plain": [
              "bool"
            ]
          },
          "execution_count": 29,
          "metadata": {},
          "output_type": "execute_result"
        }
      ],
      "source": [
        "type(habla_chino)"
      ]
    },
    {
      "cell_type": "markdown",
      "metadata": {
        "id": "CKq08pEvzary"
      },
      "source": [
        "**¿Tiene sentido que los objetos tengan estos tipos de datos?** ❓"
      ]
    },
    {
      "cell_type": "markdown",
      "metadata": {
        "id": "rx9r7lB3ya2G"
      },
      "source": [
        "En python hay funciones predeterminadas para poder convertir un objeto en otro tipo de dato. Estas son:\n",
        "*  `str()` convierte el objeto en una string.\n",
        "*  `int()` convierte el objeto en un número entero.\n",
        "*  `float()` convierte el objeto en un número de coma flotante.\n",
        "*  `bool()` convierte el objeto en un dato tipo boolano."
      ]
    },
    {
      "cell_type": "markdown",
      "metadata": {
        "id": "haf7i_poOWav"
      },
      "source": [
        "# **Función `print()`**"
      ]
    },
    {
      "cell_type": "markdown",
      "metadata": {
        "id": "ZXixycnFQMKt"
      },
      "source": [
        "## **¿Qué es la función `print()`?**"
      ]
    },
    {
      "cell_type": "markdown",
      "metadata": {
        "id": "wevXdNTYOjK9"
      },
      "source": [
        "Es la primera **función** que se aprende en programación con Python, incluso antes de comprender completamente **qué es una función**.\n",
        "\n",
        "**Definición rápida de función:**\n",
        "* Una palabra reservada que forma parte de nuestro código para realizar una tarea específica.\n",
        "\n",
        "**Definición rápida de `print()`:**\n",
        "* Imprime o muestra un objeto (valor, resultado, caracter, etc) en la pantalla.\n",
        "\n",
        "Las funciones tienen paréntesis **`()`** donde se escriben los argumentos que la función necesita para realizar su tarea."
      ]
    },
    {
      "cell_type": "markdown",
      "metadata": {
        "id": "Ru_2km3wPwh9"
      },
      "source": [
        "### **Ejemplo 10**\n",
        "¿Cómo mostramos la frase `¡Hola mundo!`?"
      ]
    },
    {
      "cell_type": "code",
      "execution_count": 30,
      "metadata": {
        "id": "vtZFcwiZOeAd"
      },
      "outputs": [
        {
          "name": "stdout",
          "output_type": "stream",
          "text": [
            "¡Hola mundo!\n"
          ]
        }
      ],
      "source": [
        "print(\"¡Hola mundo!\")"
      ]
    },
    {
      "cell_type": "markdown",
      "metadata": {
        "id": "skzrlDaYaD-t"
      },
      "source": [
        "En Google Colab o Jupyter Notebook funciona también solo escribiendo y corriendo el código en una sola línea."
      ]
    },
    {
      "cell_type": "code",
      "execution_count": 31,
      "metadata": {
        "id": "gHfLo1WPQzBk"
      },
      "outputs": [
        {
          "data": {
            "text/plain": [
              "'¡Hola mundo!'"
            ]
          },
          "execution_count": 31,
          "metadata": {},
          "output_type": "execute_result"
        }
      ],
      "source": [
        "\"¡Hola mundo!\""
      ]
    },
    {
      "cell_type": "markdown",
      "metadata": {
        "id": "d7KlIu-BQ_i_"
      },
      "source": [
        "## **¿Qué admite la función `print()`?**"
      ]
    },
    {
      "cell_type": "markdown",
      "metadata": {
        "id": "0rE0JnOeRbEc"
      },
      "source": [
        "`print()` puede admitir como argumentos cualquier tipo de dato:\n",
        "*   Cadena de caracteres\n",
        "*   Números\n",
        "*   Otros tipos de datos\n",
        "\n"
      ]
    },
    {
      "cell_type": "markdown",
      "metadata": {
        "id": "-ZlhoTscR1MN"
      },
      "source": [
        "### **Ejemplo 11**\n",
        "¿Qué pasa cuando no se pasa un argumento en `print()`?"
      ]
    },
    {
      "cell_type": "code",
      "execution_count": 32,
      "metadata": {
        "id": "c4QF_NixRYvN"
      },
      "outputs": [
        {
          "name": "stdout",
          "output_type": "stream",
          "text": [
            "La función \"print()\" se utiliza para mostrar los datos en la pantalla.\n",
            "El hobby favorito de Laura es...\n",
            "\n",
            "leer libros.\n"
          ]
        }
      ],
      "source": [
        "print('La función \"print()\" se utiliza para mostrar los datos en la pantalla.')\n",
        "print(\"El hobby favorito de Laura es...\")\n",
        "print()\n",
        "print(\"leer libros.\")"
      ]
    },
    {
      "cell_type": "markdown",
      "metadata": {
        "id": "waqJeOfrUoLW"
      },
      "source": [
        "En Python, el texto o cadena de caracteres se coloca **entre comillas dobles (`\" \"`) o simples** (`' '`), pero se muestra sin ellas cuando se imprime.\n",
        "\n",
        "Las comillas indican que los caracteres dentro pertenecen al tipo de datos **string** o `str` (tipo de dato texto).\n",
        "\n",
        "Observar en la primera función `print()` del ejemplo de anterior cómo se utilizaron las comillas.\n",
        "\n",
        "\n",
        "\n",
        "```\n",
        "print('La función \"print()\" se utiliza para mostrar los datos en la pantalla.')\n",
        "```\n",
        "\n"
      ]
    },
    {
      "cell_type": "markdown",
      "metadata": {
        "id": "6XMvp4MQZo2K"
      },
      "source": [
        "## **¿Cómo imprimir varios valores con `print()`?**"
      ]
    },
    {
      "cell_type": "markdown",
      "metadata": {
        "id": "JniJib_QZzle"
      },
      "source": [
        "La función `print()` puede recibir múltiples argumentos o entradas como una secuencia de expresiones separadas por comas. También se puede utilizar variables para ahorrar código y hacer el programa más legible."
      ]
    },
    {
      "cell_type": "markdown",
      "metadata": {
        "id": "dahxtQyTasjn"
      },
      "source": [
        "#### **Ejemplo 12**\n",
        "Veamos un ejemplo de cómo imprimir varios valores en una función con `print()`:"
      ]
    },
    {
      "cell_type": "code",
      "execution_count": 33,
      "metadata": {
        "id": "3r2UyNTGZyk8"
      },
      "outputs": [
        {
          "name": "stdout",
          "output_type": "stream",
          "text": [
            "Mi nombre es José Esteban Benitez Revelo y tengo 26 años.\n"
          ]
        }
      ],
      "source": [
        "nombres = \"José Esteban\"\n",
        "apellidos = \"Benitez Revelo\"\n",
        "edad = 26\n",
        "print(\"Mi nombre es\", nombres, apellidos, \"y tengo\", edad, \"años.\")"
      ]
    },
    {
      "cell_type": "markdown",
      "metadata": {
        "id": "j5aueovSeMg4"
      },
      "source": [
        "En este ejemplo:\n",
        "\n",
        "\n",
        "*   `nombres`, `apellidos`, y `edad` son variables que almacenan datos.\n",
        "*   La función `print()` imprime una cadena de texto compuesta de varias partes, incluyendo las variables y texto literal.\n",
        "\n"
      ]
    },
    {
      "cell_type": "markdown",
      "metadata": {
        "id": "v46Tv8wBVn0X"
      },
      "source": [
        "## **Argumentos adicionales en `print()`**"
      ]
    },
    {
      "cell_type": "markdown",
      "metadata": {
        "id": "CxCcf21ZWJbe"
      },
      "source": [
        "### **Saltos de línea**\n",
        "Cada vez que se llama la función `print()` su contenido se muestra en una nueva línea.\n",
        "\n",
        "¿Hay otra forma de hacerlo? ❓"
      ]
    },
    {
      "cell_type": "markdown",
      "metadata": {
        "id": "sECBdqugWZv-"
      },
      "source": [
        "#### **Ejemplo 13**\n",
        "También se puede hacerlo escribiendo el símbolo `\\n` (nueva línea) dentro de un `str`.\n",
        "\n",
        "Veamos en el siguiente ejemplo:"
      ]
    },
    {
      "cell_type": "code",
      "execution_count": 34,
      "metadata": {
        "id": "yIO_O5tlVlBd"
      },
      "outputs": [
        {
          "name": "stdout",
          "output_type": "stream",
          "text": [
            "El hobby favorito de Laura es...\n",
            "leer libros.\n"
          ]
        }
      ],
      "source": [
        "print(\"El hobby favorito de Laura es...\\nleer libros.\")"
      ]
    },
    {
      "cell_type": "markdown",
      "metadata": {
        "id": "dg5KSC7WW1qm"
      },
      "source": [
        "¿Qué pasa si ponemos un espacio después de `\\n`? ❓"
      ]
    },
    {
      "cell_type": "code",
      "execution_count": 35,
      "metadata": {
        "id": "QlJeZoGhW6he"
      },
      "outputs": [
        {
          "name": "stdout",
          "output_type": "stream",
          "text": [
            "El hobby favorito de Laura es...\n",
            " leer libros.\n"
          ]
        }
      ],
      "source": [
        "print(\"El hobby favorito de Laura es...\\n leer libros.\")"
      ]
    },
    {
      "cell_type": "markdown",
      "metadata": {
        "id": "XI4qe-Z_Xhw1"
      },
      "source": [
        "### **¿Qué hace el argumento `end`?**"
      ]
    },
    {
      "cell_type": "markdown",
      "metadata": {
        "id": "7aRE7wQoX4Fe"
      },
      "source": [
        "El argumento `end` en la función `print()` se utiliza para especificar qué carácter o cadena de caracteres debe agregarse al final de la salida."
      ]
    },
    {
      "cell_type": "markdown",
      "metadata": {
        "id": "-5Nn3KkhYSNf"
      },
      "source": [
        "#### **Ejemplo 14**\n",
        "Veamos dos ejemplos de cómo utilizar `end`:"
      ]
    },
    {
      "cell_type": "code",
      "execution_count": 36,
      "metadata": {
        "id": "wmf9OnpbXR4q"
      },
      "outputs": [
        {
          "name": "stdout",
          "output_type": "stream",
          "text": [
            "Bienvenidos a la clase de Fundamentos con Python\n"
          ]
        }
      ],
      "source": [
        "print(\"Bienvenidos a la clase de\", end=\" \")\n",
        "print(\"Fundamentos con Python\")"
      ]
    },
    {
      "cell_type": "code",
      "execution_count": 37,
      "metadata": {
        "colab": {
          "base_uri": "https://localhost:8080/"
        },
        "id": "FE7Cb-ohY5f2",
        "outputId": "e63e22d3-a9c7-42fc-dfda-5b4847641fce"
      },
      "outputs": [
        {
          "name": "stdout",
          "output_type": "stream",
          "text": [
            "Mi correo electrónico es: jf.najera.data@gmail.com\n"
          ]
        }
      ],
      "source": [
        "print(\"Mi correo electrónico es:\", end=\" \")\n",
        "print(\"jf.najera.data\", end=\"@\")\n",
        "print(\"gmail.com\")"
      ]
    },
    {
      "cell_type": "markdown",
      "metadata": {
        "id": "tj4ybo3TldTW"
      },
      "source": [
        "Tomar en cuenta que, cuando no se usa el `end`, el valor por defecto es salto a nueva línea, que sería `end=\"\\n\"`."
      ]
    },
    {
      "cell_type": "code",
      "execution_count": 38,
      "metadata": {
        "colab": {
          "base_uri": "https://localhost:8080/"
        },
        "id": "SYhUt5LtkIWx",
        "outputId": "a67670fe-9cb5-4e2d-f748-9bded6c4ff7d"
      },
      "outputs": [
        {
          "name": "stdout",
          "output_type": "stream",
          "text": [
            "Mi correo electrónico es:\n",
            "jf.najera.data\n",
            "gmail.com\n"
          ]
        }
      ],
      "source": [
        "print(\"Mi correo electrónico es:\")\n",
        "print(\"jf.najera.data\")\n",
        "print(\"gmail.com\")"
      ]
    },
    {
      "cell_type": "code",
      "execution_count": 39,
      "metadata": {
        "colab": {
          "base_uri": "https://localhost:8080/"
        },
        "id": "_2iQ9fDSlv0j",
        "outputId": "bb1cda30-460e-4128-8b8d-14f5c4a9fb6d"
      },
      "outputs": [
        {
          "name": "stdout",
          "output_type": "stream",
          "text": [
            "Mi correo electrónico es:\n",
            "jnajera\n",
            "asig.com.ec\n"
          ]
        }
      ],
      "source": [
        "print(\"Mi correo electrónico es:\", end=\"\\n\")\n",
        "print(\"jnajera\", end=\"\\n\")\n",
        "print(\"asig.com.ec\", end=\"\\n\")"
      ]
    },
    {
      "cell_type": "markdown",
      "metadata": {
        "id": "7cxQt-gEa5Jx"
      },
      "source": [
        "### **¿Qué hace el argumento `sep`?**"
      ]
    },
    {
      "cell_type": "markdown",
      "metadata": {
        "id": "_esuACF1t0u2"
      },
      "source": [
        "Por defecto, Python separa los elementos en la función `print()` con espacios. Al utilizar el argumento `sep`, se puede especificar con qué carácter o cadena de caracteres se quiere separar los elementos."
      ]
    },
    {
      "cell_type": "markdown",
      "metadata": {
        "id": "tNV7hIpsjfW5"
      },
      "source": [
        "#### **Ejemplo 15**\n",
        "Utilicemos `sep` para separar datos de hora."
      ]
    },
    {
      "cell_type": "code",
      "execution_count": 40,
      "metadata": {
        "id": "yKbHW06-kpQr"
      },
      "outputs": [],
      "source": [
        "hora = 10\n",
        "minuto = 30\n",
        "segundo = 55"
      ]
    },
    {
      "cell_type": "code",
      "execution_count": 41,
      "metadata": {
        "colab": {
          "base_uri": "https://localhost:8080/"
        },
        "id": "5WUg7j-rkZ4s",
        "outputId": "c243bada-4fc5-4845-cdb9-6104d946a785"
      },
      "outputs": [
        {
          "name": "stdout",
          "output_type": "stream",
          "text": [
            "10 30 55\n"
          ]
        }
      ],
      "source": [
        "# imprimir con separación por defecto (espacios)\n",
        "print(hora, minuto, segundo)"
      ]
    },
    {
      "cell_type": "code",
      "execution_count": 42,
      "metadata": {
        "colab": {
          "base_uri": "https://localhost:8080/"
        },
        "id": "ameOtow3kwTw",
        "outputId": "2c1170b3-5104-46d1-e025-05e6d1ffdecf"
      },
      "outputs": [
        {
          "name": "stdout",
          "output_type": "stream",
          "text": [
            "10:30:55\n"
          ]
        }
      ],
      "source": [
        "# imprimir con separación personalizada (dos puntos)\n",
        "print(hora, minuto, segundo, sep=\":\")"
      ]
    },
    {
      "cell_type": "code",
      "execution_count": 43,
      "metadata": {
        "colab": {
          "base_uri": "https://localhost:8080/"
        },
        "id": "euxXqsEakpXJ",
        "outputId": "754355c1-195e-4492-841b-60fd961f313b"
      },
      "outputs": [
        {
          "name": "stdout",
          "output_type": "stream",
          "text": [
            "10/30/55\n"
          ]
        }
      ],
      "source": [
        "# imprimir con separación personalizada (slash)\n",
        "print(hora, minuto, segundo, sep=\"/\")"
      ]
    },
    {
      "cell_type": "markdown",
      "metadata": {
        "id": "kdusLzGNmQYq"
      },
      "source": [
        "# Función `input()`"
      ]
    },
    {
      "cell_type": "markdown",
      "metadata": {
        "id": "VDwRjr7Xm2U0"
      },
      "source": [
        "## ¿Qué permite realizar la función `input()`?"
      ]
    },
    {
      "cell_type": "markdown",
      "metadata": {
        "id": "mTziSjUkmjMr"
      },
      "source": [
        "Permite al usuario ingresar un valor al programa, convirtiendo cualquier valor que se ingrese en tipo `str` o caracter.\n",
        "\n",
        "---\n",
        "**IMPORTANTE**\n",
        "\n",
        "Hay que tomar en cuenta que si los datos son numéricos, hay que convertirlos de `str` o tipo texto a números."
      ]
    },
    {
      "cell_type": "markdown",
      "metadata": {
        "id": "QJiF5MS4qAUR"
      },
      "source": [
        "### Ejemplo 16\n",
        "¿Cómo utilizar la función `input()`?\n",
        "\n",
        "Hay distintas formas:"
      ]
    },
    {
      "cell_type": "markdown",
      "metadata": {
        "id": "Zbb5lS38q_q8"
      },
      "source": [
        "#### Ejemplo 16.1"
      ]
    },
    {
      "cell_type": "code",
      "execution_count": 44,
      "metadata": {
        "id": "CEjhJ3kK5q31"
      },
      "outputs": [
        {
          "data": {
            "text/plain": [
              "'Juan Felipe'"
            ]
          },
          "execution_count": 44,
          "metadata": {},
          "output_type": "execute_result"
        }
      ],
      "source": [
        "input(\"¿Cómo te llamas? \")"
      ]
    },
    {
      "cell_type": "code",
      "execution_count": 45,
      "metadata": {
        "id": "3nA39whZmiv5"
      },
      "outputs": [],
      "source": [
        "nombre = input(\"¿Cómo te llamas? \")"
      ]
    },
    {
      "cell_type": "markdown",
      "metadata": {
        "id": "_lX08it4qec6"
      },
      "source": [
        "¿Qué devuelve la variable `nombre`?"
      ]
    },
    {
      "cell_type": "code",
      "execution_count": 46,
      "metadata": {
        "id": "C0hLIagdqisT"
      },
      "outputs": [
        {
          "data": {
            "text/plain": [
              "'Felipe'"
            ]
          },
          "execution_count": 46,
          "metadata": {},
          "output_type": "execute_result"
        }
      ],
      "source": [
        "nombre"
      ]
    },
    {
      "cell_type": "markdown",
      "metadata": {
        "id": "0BDEysR4rD7_"
      },
      "source": [
        "#### Ejemplo 16.2"
      ]
    },
    {
      "cell_type": "code",
      "execution_count": 47,
      "metadata": {
        "id": "kytyF0VjS-Al"
      },
      "outputs": [],
      "source": [
        "edad = input(\"¿Cuántos años tienes? \")"
      ]
    },
    {
      "cell_type": "markdown",
      "metadata": {
        "id": "QVmdfAPyqtFG"
      },
      "source": [
        "¿Qué devuelve la variable `edad` y qué tipo de dato?"
      ]
    },
    {
      "cell_type": "code",
      "execution_count": 48,
      "metadata": {
        "id": "Epqv4VdfqsRK"
      },
      "outputs": [
        {
          "data": {
            "text/plain": [
              "'32'"
            ]
          },
          "execution_count": 48,
          "metadata": {},
          "output_type": "execute_result"
        }
      ],
      "source": [
        "edad"
      ]
    },
    {
      "cell_type": "code",
      "execution_count": 49,
      "metadata": {},
      "outputs": [
        {
          "data": {
            "text/plain": [
              "32"
            ]
          },
          "execution_count": 49,
          "metadata": {},
          "output_type": "execute_result"
        }
      ],
      "source": [
        "32"
      ]
    },
    {
      "cell_type": "code",
      "execution_count": 50,
      "metadata": {
        "id": "fFatUZz36Glm"
      },
      "outputs": [
        {
          "ename": "TypeError",
          "evalue": "can only concatenate str (not \"int\") to str",
          "output_type": "error",
          "traceback": [
            "\u001b[1;31m---------------------------------------------------------------------------\u001b[0m",
            "\u001b[1;31mTypeError\u001b[0m                                 Traceback (most recent call last)",
            "Cell \u001b[1;32mIn[50], line 1\u001b[0m\n\u001b[1;32m----> 1\u001b[0m \u001b[43medad\u001b[49m\u001b[43m \u001b[49m\u001b[38;5;241;43m+\u001b[39;49m\u001b[43m \u001b[49m\u001b[38;5;241;43m4\u001b[39;49m\n",
            "\u001b[1;31mTypeError\u001b[0m: can only concatenate str (not \"int\") to str"
          ]
        }
      ],
      "source": [
        "edad + 4"
      ]
    },
    {
      "cell_type": "code",
      "execution_count": 51,
      "metadata": {
        "id": "O4dgsTEUlUDt"
      },
      "outputs": [
        {
          "data": {
            "text/plain": [
              "str"
            ]
          },
          "execution_count": 51,
          "metadata": {},
          "output_type": "execute_result"
        }
      ],
      "source": [
        "type(edad)"
      ]
    },
    {
      "cell_type": "markdown",
      "metadata": {},
      "source": [
        "Para poder cambiar la variable `edad`, ¿cuál es la forma correcta de hacerlo?"
      ]
    },
    {
      "cell_type": "code",
      "execution_count": 52,
      "metadata": {
        "id": "O6HxNw2uTa5V"
      },
      "outputs": [],
      "source": [
        "edad = int(edad)"
      ]
    },
    {
      "cell_type": "code",
      "execution_count": 53,
      "metadata": {
        "id": "Tg7DAa13l4SA"
      },
      "outputs": [
        {
          "data": {
            "text/plain": [
              "32"
            ]
          },
          "execution_count": 53,
          "metadata": {},
          "output_type": "execute_result"
        }
      ],
      "source": [
        "edad"
      ]
    },
    {
      "cell_type": "code",
      "execution_count": 54,
      "metadata": {
        "id": "SoZCcVP7q3bc"
      },
      "outputs": [
        {
          "data": {
            "text/plain": [
              "int"
            ]
          },
          "execution_count": 54,
          "metadata": {},
          "output_type": "execute_result"
        }
      ],
      "source": [
        "type(edad)"
      ]
    },
    {
      "cell_type": "code",
      "execution_count": 55,
      "metadata": {},
      "outputs": [],
      "source": [
        "edad = int(input(\"Qué edad tienes? \"))"
      ]
    },
    {
      "cell_type": "code",
      "execution_count": 56,
      "metadata": {},
      "outputs": [
        {
          "name": "stdout",
          "output_type": "stream",
          "text": [
            "<class 'int'>\n"
          ]
        }
      ],
      "source": [
        "print(type(edad))"
      ]
    },
    {
      "cell_type": "code",
      "execution_count": 57,
      "metadata": {},
      "outputs": [
        {
          "name": "stdout",
          "output_type": "stream",
          "text": [
            "42\n"
          ]
        }
      ],
      "source": [
        "print(edad + 10)"
      ]
    },
    {
      "cell_type": "markdown",
      "metadata": {
        "id": "N1DGLW8E39xi"
      },
      "source": [
        "# Identidades"
      ]
    },
    {
      "cell_type": "markdown",
      "metadata": {
        "id": "YFEfoYfG4AVY"
      },
      "source": [
        "## ¿Qué es la identidad del objeto en Python?"
      ]
    },
    {
      "cell_type": "markdown",
      "metadata": {
        "id": "GNHEsuyU4QgR"
      },
      "source": [
        "¿Se acuerdan que python la primera definición de **variable**?\n",
        "\n",
        "*   Es un **nombre** que se refiere a un **objeto** que se asocia a un lugar de la **memoria** del computador (o servidores)."
      ]
    },
    {
      "cell_type": "markdown",
      "metadata": {
        "id": "gRAvl5I04mSj"
      },
      "source": [
        "El **lugar de la memoria** se denomina en Python **identidad del objeto**.\n",
        "\n",
        "A todos y a cada uno de los objetos en Python, cuando se almacena en la memoria, se les asigna un número de identificación único que ayuda al compilador de Python **funcione mejor y utilizar la memoria de manera eficiente.**\n",
        "\n",
        "El **id** es asignado al objeto cuando se crea.\n",
        "* El id es la dirección de memoria del objeto y será diferente cada vez que ejecute el programa.\n",
        "  * Con excepción de algún objeto que tiene una identificación única constante, como números enteros de -5 a 256.\n",
        "  * Por lo tanto, el id se mantiene constante durante toda la corrida del programa, por lo que no se puede actualizar o modificar.\n",
        "  * Hagan relación el id como el Banner ID en la USFQ, un identificador, que en este caso funciona para saber dónde está almacenado el objeto."
      ]
    },
    {
      "cell_type": "markdown",
      "metadata": {
        "id": "07n_qyQf44gu"
      },
      "source": [
        "### Ejemplo 17\n",
        "¿Qué pasa, en relación a la identidad, cuando se imprime el valor 7 y se asigna el valor 7 a una variable? ❓\n",
        "\n",
        "La función `id()` devuelve la **identidad** o lugar de memoria donde se ubica el objeto, el cual es un número entero único dado específicamente al objeto."
      ]
    },
    {
      "cell_type": "code",
      "execution_count": 58,
      "metadata": {
        "id": "DA28L85g5HK3"
      },
      "outputs": [
        {
          "data": {
            "text/plain": [
              "7"
            ]
          },
          "execution_count": 58,
          "metadata": {},
          "output_type": "execute_result"
        }
      ],
      "source": [
        "7"
      ]
    },
    {
      "cell_type": "code",
      "execution_count": 59,
      "metadata": {
        "id": "q0rtjIkF5bea"
      },
      "outputs": [],
      "source": [
        "a = 7"
      ]
    },
    {
      "cell_type": "code",
      "execution_count": 61,
      "metadata": {
        "id": "P2sT-b575c_P"
      },
      "outputs": [
        {
          "name": "stdout",
          "output_type": "stream",
          "text": [
            "140723165596280\n",
            "140723165596280\n",
            "140723165657384\n",
            "1825687636336\n"
          ]
        }
      ],
      "source": [
        "print(id(7))\n",
        "print(id(a))\n",
        "print(id(\"7\"))\n",
        "print(id(7.0))"
      ]
    },
    {
      "cell_type": "code",
      "execution_count": null,
      "metadata": {
        "id": "UGlL5-zM5keJ"
      },
      "outputs": [],
      "source": [
        "c = a"
      ]
    },
    {
      "cell_type": "markdown",
      "metadata": {
        "id": "PbtCVg7M5jMn"
      },
      "source": [
        "¿Qué va a pasar con la identidad de la variable `c`? ❓"
      ]
    },
    {
      "cell_type": "code",
      "execution_count": null,
      "metadata": {
        "id": "fMMpddS75q3S"
      },
      "outputs": [],
      "source": [
        "id(c)"
      ]
    },
    {
      "cell_type": "code",
      "execution_count": null,
      "metadata": {
        "id": "k6fZyY3z51hg"
      },
      "outputs": [],
      "source": [
        "id(1)"
      ]
    },
    {
      "cell_type": "code",
      "execution_count": null,
      "metadata": {
        "id": "iG53WcZ_52z0"
      },
      "outputs": [],
      "source": [
        "id(\"hola\")"
      ]
    },
    {
      "cell_type": "markdown",
      "metadata": {
        "id": "G5LvQjt556DR"
      },
      "source": [
        "**IMPORTANTE**\n",
        "\n",
        "---\n",
        "Tomar en cuenta que 7, `a` y `c` son el mismo objeto en **Python** y ocupan una posición **única** de memoria.\n",
        "\n",
        "¿Por qué sucede esto?\n",
        "\n",
        "Python realiza esto para poder **preservar la memoria**."
      ]
    },
    {
      "cell_type": "markdown",
      "metadata": {
        "id": "5sUqkFx26UT6"
      },
      "source": [
        "### Ejemplo 18\n",
        "¿Qué pasará si usamos el valor `7.0` en lugar de `7`? ¿Tendrán la misma identidad?❓"
      ]
    },
    {
      "cell_type": "code",
      "execution_count": null,
      "metadata": {
        "id": "zOPTNxKR6g0E"
      },
      "outputs": [],
      "source": [
        "x = 7.0"
      ]
    },
    {
      "cell_type": "code",
      "execution_count": null,
      "metadata": {
        "id": "JMwfpQMC6jUe"
      },
      "outputs": [],
      "source": [
        "print(id(7))\n",
        "print(id(x))"
      ]
    },
    {
      "cell_type": "markdown",
      "metadata": {
        "id": "NWnrnymI6yHF"
      },
      "source": [
        "¿Por qué pasa esto? ❓"
      ]
    },
    {
      "cell_type": "markdown",
      "metadata": {
        "id": "GLw3ZKtTMYOw"
      },
      "source": [
        "**¿Es realmente útil o se suele usar el id en Python?**\n",
        "\n",
        "En muy pocas ocasiones.\n",
        "* Puede probar si dos referencias son iguales comparando sus ids.\n",
        "* La función `id()` solo es realmente útil en situaciones de depuración del código (debugging).  "
      ]
    },
    {
      "cell_type": "markdown",
      "metadata": {
        "id": "Tptj6Nsx66PP"
      },
      "source": [
        "**IMPORTANTE**\n",
        "\n",
        "---\n",
        "Los **objetos** de datos simples (`int`, `float`, `bool`) en Python tienen **tres** características:\n",
        "*  Valor\n",
        "*  Tipo\n",
        "*  Identidad"
      ]
    }
  ],
  "metadata": {
    "colab": {
      "provenance": [],
      "toc_visible": true
    },
    "kernelspec": {
      "display_name": "Python 3",
      "name": "python3"
    },
    "language_info": {
      "codemirror_mode": {
        "name": "ipython",
        "version": 3
      },
      "file_extension": ".py",
      "mimetype": "text/x-python",
      "name": "python",
      "nbconvert_exporter": "python",
      "pygments_lexer": "ipython3",
      "version": "3.12.6"
    }
  },
  "nbformat": 4,
  "nbformat_minor": 0
}
