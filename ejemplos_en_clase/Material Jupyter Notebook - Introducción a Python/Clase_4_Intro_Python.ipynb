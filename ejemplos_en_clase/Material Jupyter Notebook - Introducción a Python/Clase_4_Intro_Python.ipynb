{
 "cells": [
  {
   "cell_type": "markdown",
   "metadata": {
    "id": "zgwR_gX8-rf-"
   },
   "source": [
    "# Introducción a Python: Clase #4"
   ]
  },
  {
   "cell_type": "markdown",
   "metadata": {},
   "source": [
    "**Profesor**: Juan Felipe Nájera Puente"
   ]
  },
  {
   "cell_type": "markdown",
   "metadata": {
    "id": "LcpDXwdy5Ezr"
   },
   "source": [
    "# Listas"
   ]
  },
  {
   "cell_type": "markdown",
   "metadata": {
    "id": "nmjCjMcBU-B8"
   },
   "source": [
    "## Conceptos básicos"
   ]
  },
  {
   "cell_type": "markdown",
   "metadata": {
    "id": "ao_VO6NWVB5N"
   },
   "source": [
    "Se ha visto que al usar las variables para dar nombres a datos hace todo más fácil.\n",
    "\n",
    "Pero, ¿qué pasa si necesitamos agrupar datos que están relacionados de alguna manera?"
   ]
  },
  {
   "cell_type": "markdown",
   "metadata": {
    "id": "z58i1XY0VTGT"
   },
   "source": [
    "Por ejemplo, si queremos guardar 10 películas favoritas de una personas, ¿cómo lo haríamos?\n",
    "* No podemos tenerlas como variables individuales ya que necesitamos bastantes nombres de variables.\n",
    "  * El código se vería desorganizado.\n",
    "  * Ocupa más espacio en distintos lugares de la memoria."
   ]
  },
  {
   "cell_type": "markdown",
   "metadata": {
    "id": "VJt3QjBpWKMU"
   },
   "source": [
    "En Python, la mejor opción sería guardarlas en una lista."
   ]
  },
  {
   "cell_type": "markdown",
   "metadata": {
    "id": "HAkJFfi6WOrT"
   },
   "source": [
    "### Ejemplo 1\n",
    "Tenemos la siguiente lista de películas. Queremos esto transformarlo a Python."
   ]
  },
  {
   "cell_type": "markdown",
   "metadata": {
    "id": "bImUE5ma30gv"
   },
   "source": [
    "Lista de películas de 2009 al 2019\n",
    "\n",
    "\n",
    "*   Avatar\n",
    "*   Avengers: Endgame\n",
    "*   Jurassic World\n",
    "*   Increibles 2\n",
    "*   Skyfall\n",
    "*   Toy Story 3\n",
    "*   Zootopia\n",
    "*   The Dark Knight\n",
    "*   Joker\n",
    "*   The Wolf of WallStreet\n",
    "\n"
   ]
  },
  {
   "cell_type": "code",
   "execution_count": 5,
   "metadata": {
    "executionInfo": {
     "elapsed": 14,
     "status": "ok",
     "timestamp": 1707435137430,
     "user": {
      "displayName": "Juan Felipe Nájera",
      "userId": "12739768035030133691"
     },
     "user_tz": 300
    },
    "id": "mblrB48fWT8d"
   },
   "outputs": [],
   "source": [
    "peliculas_fav = [\"Avatar\", \"Avengers: Endgame\", \"Jurassic World\", \"Increibles 2\", \"Skyfall\", \"Toy Story 3\",\n",
    "                 \"Zootopia\", \"The Dark Knight\", \"Joker\", \"The Wolf of WallStreet\"]"
   ]
  },
  {
   "cell_type": "code",
   "execution_count": 6,
   "metadata": {
    "colab": {
     "base_uri": "https://localhost:8080/"
    },
    "executionInfo": {
     "elapsed": 13,
     "status": "ok",
     "timestamp": 1707435137430,
     "user": {
      "displayName": "Juan Felipe Nájera",
      "userId": "12739768035030133691"
     },
     "user_tz": 300
    },
    "id": "k5bIRaN3IVLd",
    "outputId": "9b2468ce-7784-4fae-dae1-4d6bd589ed7e"
   },
   "outputs": [
    {
     "data": {
      "text/plain": [
       "['Avatar',\n",
       " 'Avengers: Endgame',\n",
       " 'Jurassic World',\n",
       " 'Increibles 2',\n",
       " 'Skyfall',\n",
       " 'Toy Story 3',\n",
       " 'Zootopia',\n",
       " 'The Dark Knight',\n",
       " 'Joker',\n",
       " 'The Wolf of WallStreet']"
      ]
     },
     "execution_count": 6,
     "metadata": {},
     "output_type": "execute_result"
    }
   ],
   "source": [
    "peliculas_fav"
   ]
  },
  {
   "cell_type": "code",
   "execution_count": null,
   "metadata": {
    "colab": {
     "base_uri": "https://localhost:8080/"
    },
    "executionInfo": {
     "elapsed": 10,
     "status": "ok",
     "timestamp": 1707435137430,
     "user": {
      "displayName": "Juan Felipe Nájera",
      "userId": "12739768035030133691"
     },
     "user_tz": 300
    },
    "id": "sonPTkkO-sLn",
    "outputId": "1d4f64f0-0b29-49fe-84f3-b71e1247dba4"
   },
   "outputs": [],
   "source": [
    "print(peliculas_fav)"
   ]
  },
  {
   "cell_type": "markdown",
   "metadata": {
    "id": "Xkh08OfwXgqZ"
   },
   "source": [
    "Los **elementos** de una lista también tienen su **índice** correspondiente, al igual que los caracteres de una cadena de texto.\n",
    "\n",
    "Acceder a los elementos de una lista se parece bastante al proceso del trabajo con cadenas de texto."
   ]
  },
  {
   "cell_type": "code",
   "execution_count": 7,
   "metadata": {
    "colab": {
     "base_uri": "https://localhost:8080/"
    },
    "executionInfo": {
     "elapsed": 292,
     "status": "ok",
     "timestamp": 1707431823783,
     "user": {
      "displayName": "Juan Felipe Nájera",
      "userId": "12739768035030133691"
     },
     "user_tz": 300
    },
    "id": "EanJotFDy13X",
    "outputId": "056f7393-1bbc-4c93-86ab-034ddd8e3bf2"
   },
   "outputs": [
    {
     "data": {
      "text/plain": [
       "10"
      ]
     },
     "execution_count": 7,
     "metadata": {},
     "output_type": "execute_result"
    }
   ],
   "source": [
    "len(peliculas_fav)"
   ]
  },
  {
   "cell_type": "code",
   "execution_count": 8,
   "metadata": {
    "colab": {
     "base_uri": "https://localhost:8080/",
     "height": 36
    },
    "executionInfo": {
     "elapsed": 10,
     "status": "ok",
     "timestamp": 1707431850999,
     "user": {
      "displayName": "Juan Felipe Nájera",
      "userId": "12739768035030133691"
     },
     "user_tz": 300
    },
    "id": "S8yvpLobXse0",
    "outputId": "db0af0ad-1e39-4689-822c-d6103978c22c"
   },
   "outputs": [
    {
     "data": {
      "text/plain": [
       "'Increibles 2'"
      ]
     },
     "execution_count": 8,
     "metadata": {},
     "output_type": "execute_result"
    }
   ],
   "source": [
    "peliculas_fav[3]"
   ]
  },
  {
   "cell_type": "code",
   "execution_count": 9,
   "metadata": {
    "colab": {
     "base_uri": "https://localhost:8080/",
     "height": 36
    },
    "executionInfo": {
     "elapsed": 10,
     "status": "ok",
     "timestamp": 1707431849908,
     "user": {
      "displayName": "Juan Felipe Nájera",
      "userId": "12739768035030133691"
     },
     "user_tz": 300
    },
    "id": "MKBp1iyFUB5M",
    "outputId": "70febd47-c360-44eb-f5c4-9be005cfe5f0"
   },
   "outputs": [
    {
     "data": {
      "text/plain": [
       "'Joker'"
      ]
     },
     "execution_count": 9,
     "metadata": {},
     "output_type": "execute_result"
    }
   ],
   "source": [
    "peliculas_fav[-2]"
   ]
  },
  {
   "cell_type": "code",
   "execution_count": 10,
   "metadata": {
    "id": "xdE9hzxIX80S"
   },
   "outputs": [
    {
     "data": {
      "text/plain": [
       "['Avatar',\n",
       " 'Avengers: Endgame',\n",
       " 'Jurassic World',\n",
       " 'Increibles 2',\n",
       " 'Skyfall',\n",
       " 'Toy Story 3',\n",
       " 'Zootopia',\n",
       " 'The Dark Knight',\n",
       " 'Joker',\n",
       " 'The Wolf of WallStreet']"
      ]
     },
     "execution_count": 10,
     "metadata": {},
     "output_type": "execute_result"
    }
   ],
   "source": [
    "peliculas_fav"
   ]
  },
  {
   "cell_type": "markdown",
   "metadata": {
    "id": "u3SOprNEYFGV"
   },
   "source": [
    "Las listas son un tipo de dato extremadamente útil:\n",
    "* Permiten guardar un grupo de valores en un solo lugar.\n",
    "* Permiten guardar distintos tipos de objetos en una lista."
   ]
  },
  {
   "cell_type": "markdown",
   "metadata": {
    "id": "uLx6x1a-Yh5k"
   },
   "source": [
    "### Ejemplo 2\n",
    "Tenemos a continuación el nombre de una película, el rating, y la duración en min en una misma lista."
   ]
  },
  {
   "cell_type": "code",
   "execution_count": 11,
   "metadata": {
    "colab": {
     "base_uri": "https://localhost:8080/"
    },
    "executionInfo": {
     "elapsed": 5,
     "status": "ok",
     "timestamp": 1707431878749,
     "user": {
      "displayName": "Juan Felipe Nájera",
      "userId": "12739768035030133691"
     },
     "user_tz": 300
    },
    "id": "1oQn3hLJYgu-",
    "outputId": "635c4265-0471-4357-855d-68e788a4fea2"
   },
   "outputs": [
    {
     "data": {
      "text/plain": [
       "['Tenet', 3.5, 150]"
      ]
     },
     "execution_count": 11,
     "metadata": {},
     "output_type": "execute_result"
    }
   ],
   "source": [
    "nueva_pelicula = [\"Tenet\", 3.5, 150]\n",
    "nueva_pelicula"
   ]
  },
  {
   "cell_type": "markdown",
   "metadata": {
    "id": "haGB7TE0Y-3J"
   },
   "source": [
    "### Ejemplo 3\n",
    "¿Qué devolverá la función `type()`?"
   ]
  },
  {
   "cell_type": "code",
   "execution_count": 12,
   "metadata": {
    "colab": {
     "base_uri": "https://localhost:8080/"
    },
    "executionInfo": {
     "elapsed": 281,
     "status": "ok",
     "timestamp": 1707431893886,
     "user": {
      "displayName": "Juan Felipe Nájera",
      "userId": "12739768035030133691"
     },
     "user_tz": 300
    },
    "id": "NG48wtvYZEET",
    "outputId": "0227dc39-5f49-4e2e-bc0f-53820688454e"
   },
   "outputs": [
    {
     "data": {
      "text/plain": [
       "list"
      ]
     },
     "execution_count": 12,
     "metadata": {},
     "output_type": "execute_result"
    }
   ],
   "source": [
    "nueva_pelicula = [\"Tenet\", 3.5, 150]\n",
    "type(nueva_pelicula)"
   ]
  },
  {
   "cell_type": "code",
   "execution_count": null,
   "metadata": {
    "colab": {
     "base_uri": "https://localhost:8080/"
    },
    "executionInfo": {
     "elapsed": 303,
     "status": "ok",
     "timestamp": 1707431915572,
     "user": {
      "displayName": "Juan Felipe Nájera",
      "userId": "12739768035030133691"
     },
     "user_tz": 300
    },
    "id": "FDB12gBk3zW8",
    "outputId": "6b18f0bc-6786-49ed-e6d2-315c1a24d6ce"
   },
   "outputs": [],
   "source": [
    "type(nueva_pelicula[0])"
   ]
  },
  {
   "cell_type": "markdown",
   "metadata": {
    "id": "OCXTHLndZqnY"
   },
   "source": [
    "## Índices y slices"
   ]
  },
  {
   "cell_type": "markdown",
   "metadata": {
    "id": "ogBEK75IZvG4"
   },
   "source": [
    "Como se indicó anteriormente, los elementos de las listas se pueden acceder de la misma manera que los caracteres de strings.\n",
    "\n",
    "Veamos un ejemplo más detallado."
   ]
  },
  {
   "cell_type": "markdown",
   "metadata": {
    "id": "xP_PpfXibz3b"
   },
   "source": [
    "### Ejemplo 4\n",
    "Obtengamos el primer, segundo y último elemento de la lista."
   ]
  },
  {
   "cell_type": "code",
   "execution_count": null,
   "metadata": {
    "id": "7nJGJow0b6dg"
   },
   "outputs": [],
   "source": [
    "primera_fila = ['Sueños de fuga', 'EE.UU.', 1994, 'drama', 142, 9.111]\n",
    "print(primera_fila[0], primera_fila[1], primera_fila[-1])"
   ]
  },
  {
   "cell_type": "markdown",
   "metadata": {
    "id": "E8s_wau6cHQL"
   },
   "source": [
    "De igual forma que los strings, en la indexación:\n",
    "* El primer elemento de la lista inicia con 0.\n",
    "* El último elemento de la lista empieza con -1.\n",
    "\n",
    "No importa qué tan larga sea la lista, acceder a los elementos por índice siempre es más rápido sin importar si accedes al índice `1`, `100`, `10000`."
   ]
  },
  {
   "cell_type": "markdown",
   "metadata": {
    "id": "VICBlc8zc3Mx"
   },
   "source": [
    "De igual forma, las listas se cortan de la misma manera que los strings.\n",
    "* Se indica en la primera casilla el índice que se quiere recuperar.\n",
    "* Se debe sumar 1 al índice del último elemento que queremos recuperar."
   ]
  },
  {
   "cell_type": "markdown",
   "metadata": {
    "id": "7aIoNhridZhU"
   },
   "source": [
    "### Ejemplo 5\n",
    "Veamos cómo se puede realizar los slices de varios elementos de una lista."
   ]
  },
  {
   "cell_type": "code",
   "execution_count": 14,
   "metadata": {
    "executionInfo": {
     "elapsed": 308,
     "status": "ok",
     "timestamp": 1707431946488,
     "user": {
      "displayName": "Juan Felipe Nájera",
      "userId": "12739768035030133691"
     },
     "user_tz": 300
    },
    "id": "qdQj_VyCc1f9"
   },
   "outputs": [],
   "source": [
    "primera_fila = ['Sueños de fuga', 'EE.UU.', 1994, 'drama', 142, 9.111]"
   ]
  },
  {
   "cell_type": "markdown",
   "metadata": {
    "id": "Yo0aH4U_dpoU"
   },
   "source": [
    "¿Cómo cortamos los elementos del 1 al 3? ❓"
   ]
  },
  {
   "cell_type": "code",
   "execution_count": 15,
   "metadata": {
    "colab": {
     "base_uri": "https://localhost:8080/"
    },
    "executionInfo": {
     "elapsed": 317,
     "status": "ok",
     "timestamp": 1707432027102,
     "user": {
      "displayName": "Juan Felipe Nájera",
      "userId": "12739768035030133691"
     },
     "user_tz": 300
    },
    "id": "IEG-XM22zUuo",
    "outputId": "6c30a742-28f9-4a2d-ffee-e5ad32c97553"
   },
   "outputs": [
    {
     "data": {
      "text/plain": [
       "['Sueños de fuga', 'EE.UU.', 1994]"
      ]
     },
     "execution_count": 15,
     "metadata": {},
     "output_type": "execute_result"
    }
   ],
   "source": [
    "primera_fila[0:3]"
   ]
  },
  {
   "cell_type": "code",
   "execution_count": null,
   "metadata": {
    "colab": {
     "base_uri": "https://localhost:8080/"
    },
    "executionInfo": {
     "elapsed": 269,
     "status": "ok",
     "timestamp": 1707431994095,
     "user": {
      "displayName": "Juan Felipe Nájera",
      "userId": "12739768035030133691"
     },
     "user_tz": 300
    },
    "id": "GW8ldNgozJHP",
    "outputId": "f7858534-fbeb-4671-ae1d-a221ae4d264f"
   },
   "outputs": [],
   "source": [
    "primera_fila[:3]"
   ]
  },
  {
   "cell_type": "code",
   "execution_count": null,
   "metadata": {
    "id": "vGGSupQ7dtBL"
   },
   "outputs": [],
   "source": [
    "print(primera_fila[0:3])"
   ]
  },
  {
   "cell_type": "markdown",
   "metadata": {
    "id": "pT-UnOPKd419"
   },
   "source": [
    "¿Cómo cortamos los dos últimos elementos? ❓"
   ]
  },
  {
   "cell_type": "code",
   "execution_count": null,
   "metadata": {
    "id": "CRclrBQgd_Sa"
   },
   "outputs": [],
   "source": [
    "print(primera_fila[-2:])"
   ]
  },
  {
   "cell_type": "markdown",
   "metadata": {
    "id": "hIg7FYk8eFDG"
   },
   "source": [
    "¿Cómo obtenemos el año y el género? ❓"
   ]
  },
  {
   "cell_type": "code",
   "execution_count": null,
   "metadata": {
    "id": "I_wA2inleOpM"
   },
   "outputs": [],
   "source": [
    "print(primera_fila[2:4])"
   ]
  },
  {
   "cell_type": "markdown",
   "metadata": {
    "id": "vgJnqDjvfH46"
   },
   "source": [
    "### Ejemplo 6\n",
    "¿Como se puede mostrar en la siguiente lista, un slice que empice con el año de estreno de la película y que termine con la duración de la película?\n",
    "\n",
    "Se tiene la información en el siguiente orden: `[titulo, pais, año_lanzamiento, genero, duracion_min, rating]`"
   ]
  },
  {
   "cell_type": "code",
   "execution_count": null,
   "metadata": {
    "id": "Rhxy-HL6giaG"
   },
   "outputs": [],
   "source": [
    "segunda_fila = ['El padrino', 'EE.UU.', 1972, 'drama, crimen', 175, 8.730]"
   ]
  },
  {
   "cell_type": "code",
   "execution_count": null,
   "metadata": {
    "id": "mnk2QMVBhWSi"
   },
   "outputs": [],
   "source": [
    "slice_pelicula = segunda_fila[2:5]\n",
    "slice_pelicula"
   ]
  },
  {
   "cell_type": "code",
   "execution_count": null,
   "metadata": {
    "id": "6z3oUEnPrJ9h"
   },
   "outputs": [],
   "source": [
    "slice_pelicula = segunda_fila[2:]\n",
    "slice_pelicula"
   ]
  },
  {
   "cell_type": "markdown",
   "metadata": {
    "id": "PSJQ8EMFeYBQ"
   },
   "source": [
    "También se puede obtener la **longitud** (o la cantidad de elementos) de una lista con la función `len()`."
   ]
  },
  {
   "cell_type": "code",
   "execution_count": null,
   "metadata": {
    "id": "zk72qMd7e0RC"
   },
   "outputs": [],
   "source": [
    "primera_fila = ['Sueños de fuga', 'EE.UU.', 1994, 'drama', 142, 9.111]\n",
    "print(len(primera_fila))"
   ]
  },
  {
   "cell_type": "markdown",
   "metadata": {
    "id": "oZtt2APmu_FV"
   },
   "source": [
    "**IMPORTANTE**\n",
    "\n",
    "---\n",
    "\n",
    "Las lista son **mutables**: ya que sus elementos pueden ser modificadas, eliminarse o aumentarse."
   ]
  },
  {
   "cell_type": "markdown",
   "metadata": {
    "id": "XRH4F_r4vPPM"
   },
   "source": [
    "### Ejemplo 7\n",
    "¿Podemos cambiar el elemento de una lista indicando su índice? ¿Se puede cambiar el último dato de la lista con la palabra *dinámicas*? ❓"
   ]
  },
  {
   "cell_type": "code",
   "execution_count": 16,
   "metadata": {
    "colab": {
     "base_uri": "https://localhost:8080/"
    },
    "executionInfo": {
     "elapsed": 282,
     "status": "ok",
     "timestamp": 1707432075894,
     "user": {
      "displayName": "Juan Felipe Nájera",
      "userId": "12739768035030133691"
     },
     "user_tz": 300
    },
    "id": "QMvnrZzZvRLQ",
    "outputId": "9573770c-8266-4976-b4ae-b8c52d5bcb4d"
   },
   "outputs": [
    {
     "data": {
      "text/plain": [
       "['las', 'listas', 'son', 'mutables']"
      ]
     },
     "execution_count": 16,
     "metadata": {},
     "output_type": "execute_result"
    }
   ],
   "source": [
    "t = [\"las\", \"listas\", \"son\", \"mutables\"]\n",
    "t"
   ]
  },
  {
   "cell_type": "code",
   "execution_count": 17,
   "metadata": {
    "colab": {
     "base_uri": "https://localhost:8080/"
    },
    "executionInfo": {
     "elapsed": 8,
     "status": "ok",
     "timestamp": 1707432098997,
     "user": {
      "displayName": "Juan Felipe Nájera",
      "userId": "12739768035030133691"
     },
     "user_tz": 300
    },
    "id": "kyP3Tz5mvmJ-",
    "outputId": "4bca7f55-af99-46ac-b6e5-e6e362e16e12"
   },
   "outputs": [
    {
     "data": {
      "text/plain": [
       "['las', 'listas', 'son', 4]"
      ]
     },
     "execution_count": 17,
     "metadata": {},
     "output_type": "execute_result"
    }
   ],
   "source": [
    "t[-1] = 4\n",
    "t"
   ]
  },
  {
   "cell_type": "markdown",
   "metadata": {
    "id": "Lt_ku2HYhkon"
   },
   "source": [
    "## Agregar y eliminar elementos"
   ]
  },
  {
   "cell_type": "markdown",
   "metadata": {
    "id": "KFN12LT9hqaY"
   },
   "source": [
    "La diferencia más significativa entre `str` y `list` es que las listas se pueden **modificar**.\n",
    "* Recordar que los `str` son inmutables.\n",
    "* Cuando se combina dos strings se está creando un nuevo `str`\n",
    "\n",
    "**Sin embargo**, cuando se agrega elementos a una lista, se está **modificando** la lista **original** sin crear una nueva.\n",
    "\n",
    "Esta diferencia no siempre es visible, pero afecta a la eficiencia.\n",
    "* Las listas están diseñadas para trabajar con **Big Data**, ahorrándole recursos a la PC, ya que no se necesitan crear nuevos objetos después de cada modificación."
   ]
  },
  {
   "cell_type": "markdown",
   "metadata": {
    "id": "PybOuEPBmPGE"
   },
   "source": [
    "Hay tres formas de **agregar** elementos a las listas. Todos se basan en ciertas propiedades de los objetos de la lista."
   ]
  },
  {
   "cell_type": "markdown",
   "metadata": {
    "id": "dT8OkiCqma7k"
   },
   "source": [
    "### Agregar elementos al final de la lista"
   ]
  },
  {
   "cell_type": "markdown",
   "metadata": {
    "id": "plFIlEUvmfay"
   },
   "source": [
    "La forma más fácil de agregar un elemento es utilizar el método `append()`.\n",
    "* **¿Qué admite como argumento?**\n",
    "  * Elemento (cadena de caracteres, número, u otra lista).\n",
    "* **¿Qué agrega?**\n",
    "  * Un elemento.\n",
    "* **¿Dónde?**\n",
    "  * Al final de la lista orginal."
   ]
  },
  {
   "cell_type": "markdown",
   "metadata": {
    "id": "mqyH8fABnQKx"
   },
   "source": [
    "#### Ejemplo 8\n",
    "Agregar el nombre del director de *Sueños de fuga* (Frank Darabont) al final de la lista."
   ]
  },
  {
   "cell_type": "code",
   "execution_count": 18,
   "metadata": {
    "colab": {
     "base_uri": "https://localhost:8080/"
    },
    "executionInfo": {
     "elapsed": 255,
     "status": "ok",
     "timestamp": 1707432187712,
     "user": {
      "displayName": "Juan Felipe Nájera",
      "userId": "12739768035030133691"
     },
     "user_tz": 300
    },
    "id": "p8gTsAOvhkOJ",
    "outputId": "331716d3-edce-4abb-a47f-5eb4afce40f4"
   },
   "outputs": [
    {
     "name": "stdout",
     "output_type": "stream",
     "text": [
      "['Sueños de fuga', 'EE.UU.', 1994, 'drama', 142, 9.111, 'Frank Darabont']\n"
     ]
    }
   ],
   "source": [
    "primera_fila = ['Sueños de fuga', 'EE.UU.', 1994, 'drama', 142, 9.111]\n",
    "primera_fila.append(\"Frank Darabont\")\n",
    "print(primera_fila)"
   ]
  },
  {
   "cell_type": "markdown",
   "metadata": {
    "id": "0f48-nPYj7DA"
   },
   "source": [
    "### Agregar varios elementos al final de la lista"
   ]
  },
  {
   "cell_type": "markdown",
   "metadata": {
    "id": "zk2HudBYj-sZ"
   },
   "source": [
    "Se utiliza el método `extend()`.\n",
    "* **¿Qué admite como argumento?**\n",
    "  * Una lista.\n",
    "* **¿Qué agrega?**\n",
    "  * Elementos de la lista obtenida.\n",
    "* **¿Dónde?**\n",
    "  * Al final de la lista orginal."
   ]
  },
  {
   "cell_type": "markdown",
   "metadata": {
    "id": "pe-etcuZkVBh"
   },
   "source": [
    "#### Ejemplo 9\n",
    "Agregamos los nombres del director y compositor al final de la lista."
   ]
  },
  {
   "cell_type": "code",
   "execution_count": 19,
   "metadata": {
    "colab": {
     "base_uri": "https://localhost:8080/"
    },
    "executionInfo": {
     "elapsed": 268,
     "status": "ok",
     "timestamp": 1707432216446,
     "user": {
      "displayName": "Juan Felipe Nájera",
      "userId": "12739768035030133691"
     },
     "user_tz": 300
    },
    "id": "rFG8TDD2kdx6",
    "outputId": "fe4d0609-bcfc-486b-d459-0b6084c591b7"
   },
   "outputs": [
    {
     "name": "stdout",
     "output_type": "stream",
     "text": [
      "['El padrino', 'EE.UU.', 1972, 'Francis Ford Coppola', 'Nino Rota']\n"
     ]
    }
   ],
   "source": [
    "segunda_fila = ['El padrino', 'EE.UU.', 1972]\n",
    "segunda_fila.extend(['Francis Ford Coppola', 'Nino Rota'])\n",
    "print(segunda_fila)"
   ]
  },
  {
   "cell_type": "code",
   "execution_count": null,
   "metadata": {
    "colab": {
     "base_uri": "https://localhost:8080/"
    },
    "executionInfo": {
     "elapsed": 244,
     "status": "ok",
     "timestamp": 1707432225094,
     "user": {
      "displayName": "Juan Felipe Nájera",
      "userId": "12739768035030133691"
     },
     "user_tz": 300
    },
    "id": "ynPlewxQ1nSZ",
    "outputId": "73f04d4c-5527-4aa6-9aea-e13bd07e0cc8"
   },
   "outputs": [],
   "source": [
    "segunda_fila = ['El padrino', 'EE.UU.', 1972]\n",
    "segunda_fila.extend('Francis Ford Coppola')\n",
    "print(segunda_fila)"
   ]
  },
  {
   "cell_type": "code",
   "execution_count": null,
   "metadata": {
    "colab": {
     "base_uri": "https://localhost:8080/"
    },
    "executionInfo": {
     "elapsed": 333,
     "status": "ok",
     "timestamp": 1707432280125,
     "user": {
      "displayName": "Juan Felipe Nájera",
      "userId": "12739768035030133691"
     },
     "user_tz": 300
    },
    "id": "dmxAjE_52Xg1",
    "outputId": "a2119ba0-0cdb-4ebd-a0fe-d63b4a735c89"
   },
   "outputs": [],
   "source": [
    "segunda_fila = ['El padrino', 'EE.UU.', 1972]\n",
    "segunda_fila.extend(['Francis Ford Coppola'])\n",
    "print(segunda_fila)"
   ]
  },
  {
   "cell_type": "code",
   "execution_count": null,
   "metadata": {
    "colab": {
     "base_uri": "https://localhost:8080/"
    },
    "executionInfo": {
     "elapsed": 248,
     "status": "ok",
     "timestamp": 1707432295286,
     "user": {
      "displayName": "Juan Felipe Nájera",
      "userId": "12739768035030133691"
     },
     "user_tz": 300
    },
    "id": "vN6YRxZa23K3",
    "outputId": "9f3d2c74-1efd-48e4-823d-d03ccf702bde"
   },
   "outputs": [],
   "source": [
    "segunda_fila = ['El padrino', 'EE.UU.', 1972]\n",
    "segunda_fila.extend([123])\n",
    "print(segunda_fila)"
   ]
  },
  {
   "cell_type": "code",
   "execution_count": null,
   "metadata": {
    "colab": {
     "base_uri": "https://localhost:8080/"
    },
    "executionInfo": {
     "elapsed": 231,
     "status": "ok",
     "timestamp": 1707432342667,
     "user": {
      "displayName": "Juan Felipe Nájera",
      "userId": "12739768035030133691"
     },
     "user_tz": 300
    },
    "id": "OsiyQZ622gY_",
    "outputId": "0cffad31-52e6-4f63-ae67-256c44f9e864"
   },
   "outputs": [],
   "source": [
    "segunda_fila = ['El padrino', 'EE.UU.', 1972]\n",
    "segunda_fila.extend(\"123\")\n",
    "print(segunda_fila)"
   ]
  },
  {
   "cell_type": "markdown",
   "metadata": {
    "id": "GRIIVe_9kr8x"
   },
   "source": [
    "Se agregó un total de dos elementos al final de la lista.\n",
    "\n",
    "¿Qué pasará si se realiza lo mismo con el método `append()`? ❓"
   ]
  },
  {
   "cell_type": "code",
   "execution_count": null,
   "metadata": {
    "id": "YTvv2EUolDzb"
   },
   "outputs": [],
   "source": [
    "fila = [1, 2]\n",
    "fila.extend([3, 4])\n",
    "print(fila)"
   ]
  },
  {
   "cell_type": "code",
   "execution_count": null,
   "metadata": {
    "id": "TQBkNx_Fk1vu"
   },
   "outputs": [],
   "source": [
    "fila = [1, 2]\n",
    "fila.append([3, 4])\n",
    "print(fila)"
   ]
  },
  {
   "cell_type": "markdown",
   "metadata": {
    "id": "mWxl81phlHGl"
   },
   "source": [
    "El resultado es diferente, ya que el método `append()` solo incorpora un elemento a la lista."
   ]
  },
  {
   "cell_type": "markdown",
   "metadata": {
    "id": "qD_G_aTOlW-t"
   },
   "source": [
    "### Agregar un elemento con un índice definido"
   ]
  },
  {
   "cell_type": "markdown",
   "metadata": {
    "id": "8mdkWk6nle2F"
   },
   "source": [
    "Para agregar un elemento en algún lugar que no sea el final de la lista, se debe utilizar el método `insert()`.\n",
    "* **¿Qué admite como argumento?**\n",
    "  * El índice y el elemento para poner en ese lugar.\n",
    "* **¿Qué agrega?**\n",
    "  * Un elemento.\n",
    "* **¿Dónde?**\n",
    "  * Al índice indicado en el argumento."
   ]
  },
  {
   "cell_type": "markdown",
   "metadata": {
    "id": "SbZmgOqOpw37"
   },
   "source": [
    "Al añadir un nuevo elemento con este método, el índice de cada elemento posterior de donde se ubicó se incrementan en 1."
   ]
  },
  {
   "cell_type": "markdown",
   "metadata": {
    "id": "2M07_3z0p-C3"
   },
   "source": [
    "#### Ejemplo 10\n",
    "Agreguemos el año en que se estrenó *Batman: El caballero de la noche* a la lista, justo después del país."
   ]
  },
  {
   "cell_type": "code",
   "execution_count": 20,
   "metadata": {
    "executionInfo": {
     "elapsed": 242,
     "status": "ok",
     "timestamp": 1707432368078,
     "user": {
      "displayName": "Juan Felipe Nájera",
      "userId": "12739768035030133691"
     },
     "user_tz": 300
    },
    "id": "5KM209VblSkS"
   },
   "outputs": [],
   "source": [
    "dark_knight_movie = [\"Batman: El caballero de la noche\", \"EE.UU.\", \"fantasía, acción, thriller\", 152]"
   ]
  },
  {
   "cell_type": "code",
   "execution_count": 21,
   "metadata": {
    "id": "Yv5Uga6bFZwE"
   },
   "outputs": [
    {
     "data": {
      "text/plain": [
       "'fantasía, acción, thriller'"
      ]
     },
     "execution_count": 21,
     "metadata": {},
     "output_type": "execute_result"
    }
   ],
   "source": [
    "dark_knight_movie[2]"
   ]
  },
  {
   "cell_type": "code",
   "execution_count": 22,
   "metadata": {
    "colab": {
     "base_uri": "https://localhost:8080/"
    },
    "executionInfo": {
     "elapsed": 251,
     "status": "ok",
     "timestamp": 1707432384653,
     "user": {
      "displayName": "Juan Felipe Nájera",
      "userId": "12739768035030133691"
     },
     "user_tz": 300
    },
    "id": "OBnJ4ceOr4r5",
    "outputId": "79363c1d-a45e-4a33-cb76-a7ed211f20cf"
   },
   "outputs": [
    {
     "name": "stdout",
     "output_type": "stream",
     "text": [
      "['Batman: El caballero de la noche', 'EE.UU.', 2008, 'fantasía, acción, thriller', 152]\n"
     ]
    }
   ],
   "source": [
    "dark_knight_movie.insert(2, 2008)\n",
    "print(dark_knight_movie)"
   ]
  },
  {
   "cell_type": "markdown",
   "metadata": {
    "id": "usHVfP3asAdl"
   },
   "source": [
    "Revisamos cuál es el tercer índice."
   ]
  },
  {
   "cell_type": "code",
   "execution_count": null,
   "metadata": {
    "colab": {
     "base_uri": "https://localhost:8080/",
     "height": 36
    },
    "executionInfo": {
     "elapsed": 281,
     "status": "ok",
     "timestamp": 1707432387971,
     "user": {
      "displayName": "Juan Felipe Nájera",
      "userId": "12739768035030133691"
     },
     "user_tz": 300
    },
    "id": "6VhKHqX9sJ_m",
    "outputId": "ad1c2740-0a73-4799-f955-f669467f4a6b"
   },
   "outputs": [],
   "source": [
    "dark_knight_movie[3]"
   ]
  },
  {
   "cell_type": "markdown",
   "metadata": {
    "id": "NF0FiOf_sa2A"
   },
   "source": [
    "¿Qué pasará si agregamos una lista con `insert()`? ¿Cómo será `dark_knight_movie` después de llamar a este método? ❓"
   ]
  },
  {
   "cell_type": "code",
   "execution_count": null,
   "metadata": {
    "id": "ZB9TEE40ss9M"
   },
   "outputs": [],
   "source": [
    "dark_knight_movie = ['Batman: El caballero de la noche', 'EE.UU.']\n",
    "dark_knight_movie.insert(2, ['fantasía', 'acción', 'thriller'])\n",
    "print(dark_knight_movie)"
   ]
  },
  {
   "cell_type": "markdown",
   "metadata": {
    "id": "fnnwozOVs6HV"
   },
   "source": [
    "El método `insert()` solo puede operar en un elemento. Si le pasamos una lista, agregará la lista completa como un elemento. No la \"separará\", como lo haría `extend()`."
   ]
  },
  {
   "cell_type": "markdown",
   "metadata": {
    "id": "Ki7127RmtRj3"
   },
   "source": [
    "### Eliminar un elemento"
   ]
  },
  {
   "cell_type": "markdown",
   "metadata": {
    "id": "iLPKilSgtUK3"
   },
   "source": [
    "Para eliminar un elemento, utiliza el método `pop()`. Por efecto, elimina el elemento del final de la lista."
   ]
  },
  {
   "cell_type": "markdown",
   "metadata": {
    "id": "WN5wW86BtzA1"
   },
   "source": [
    "#### Ejemplo 11\n",
    "Uso del método `pop()`"
   ]
  },
  {
   "cell_type": "code",
   "execution_count": 23,
   "metadata": {
    "colab": {
     "base_uri": "https://localhost:8080/"
    },
    "executionInfo": {
     "elapsed": 248,
     "status": "ok",
     "timestamp": 1707432422351,
     "user": {
      "displayName": "Juan Felipe Nájera",
      "userId": "12739768035030133691"
     },
     "user_tz": 300
    },
    "id": "58qbjKqut42G",
    "outputId": "67a5fbfe-1888-4d63-cbe8-5d07e21f9b53"
   },
   "outputs": [
    {
     "data": {
      "text/plain": [
       "['Matrix', 'Matrix 2', 'Matrix 3', 'Matrix 4']"
      ]
     },
     "execution_count": 23,
     "metadata": {},
     "output_type": "execute_result"
    }
   ],
   "source": [
    "movies = [\"Matrix\", \"Matrix 2\", \"Matrix 3\", \"Matrix 4\"]\n",
    "movies"
   ]
  },
  {
   "cell_type": "code",
   "execution_count": 24,
   "metadata": {
    "colab": {
     "base_uri": "https://localhost:8080/"
    },
    "executionInfo": {
     "elapsed": 306,
     "status": "ok",
     "timestamp": 1707432425891,
     "user": {
      "displayName": "Juan Felipe Nájera",
      "userId": "12739768035030133691"
     },
     "user_tz": 300
    },
    "id": "XAN1n1wQt_5K",
    "outputId": "a97a0c88-ef3d-4edb-ec52-d6af521f9c77"
   },
   "outputs": [
    {
     "data": {
      "text/plain": [
       "['Matrix', 'Matrix 2', 'Matrix 3']"
      ]
     },
     "execution_count": 24,
     "metadata": {},
     "output_type": "execute_result"
    }
   ],
   "source": [
    "movies.pop()\n",
    "movies"
   ]
  },
  {
   "cell_type": "markdown",
   "metadata": {
    "id": "4fRNmfjtzSpI"
   },
   "source": [
    "## Métodos adicionales"
   ]
  },
  {
   "cell_type": "markdown",
   "metadata": {
    "id": "sEpxuxVKzVGS"
   },
   "source": [
    "### `copy()`"
   ]
  },
  {
   "cell_type": "markdown",
   "metadata": {
    "id": "z5_DXbm5zcr6"
   },
   "source": [
    "El método `copy()` devuelve una copia de la lista, que se puede guardar en otra variable.\n",
    "* Regresa una nueva lista, por lo que no modifica la lista original.\n",
    "* No recibe ningún argumento."
   ]
  },
  {
   "cell_type": "markdown",
   "metadata": {
    "id": "t00ykuz90RJ8"
   },
   "source": [
    "#### Ejemplo 12\n",
    "Utilicemos el método `copy()` para copiar la siguiente lista."
   ]
  },
  {
   "cell_type": "code",
   "execution_count": 35,
   "metadata": {
    "colab": {
     "base_uri": "https://localhost:8080/"
    },
    "executionInfo": {
     "elapsed": 274,
     "status": "ok",
     "timestamp": 1707432687099,
     "user": {
      "displayName": "Juan Felipe Nájera",
      "userId": "12739768035030133691"
     },
     "user_tz": 300
    },
    "id": "UVcMbi3o0Tr_",
    "outputId": "7a11f226-4382-4940-be2f-3bc7a81596ae"
   },
   "outputs": [
    {
     "data": {
      "text/plain": [
       "['Harry Potter y la piedra filosofal', 152, 974.8]"
      ]
     },
     "execution_count": 35,
     "metadata": {},
     "output_type": "execute_result"
    }
   ],
   "source": [
    "mi_lista = [\"Harry Potter y la piedra filosofal\", 152, 974.8]\n",
    "mi_lista"
   ]
  },
  {
   "cell_type": "code",
   "execution_count": 36,
   "metadata": {
    "colab": {
     "base_uri": "https://localhost:8080/"
    },
    "executionInfo": {
     "elapsed": 275,
     "status": "ok",
     "timestamp": 1707432694761,
     "user": {
      "displayName": "Juan Felipe Nájera",
      "userId": "12739768035030133691"
     },
     "user_tz": 300
    },
    "id": "-PaqEbAiLleV",
    "outputId": "704dd5c4-e6ab-4fa7-d440-4e9a853ad356"
   },
   "outputs": [
    {
     "name": "stdout",
     "output_type": "stream",
     "text": [
      "Lista copiada: ['Harry Potter y la piedra filosofal', 152, 974.8]\n"
     ]
    }
   ],
   "source": [
    "nueva_lista = mi_lista.copy()\n",
    "print(\"Lista copiada:\", nueva_lista)"
   ]
  },
  {
   "cell_type": "code",
   "execution_count": 37,
   "metadata": {
    "executionInfo": {
     "elapsed": 322,
     "status": "ok",
     "timestamp": 1707432701594,
     "user": {
      "displayName": "Juan Felipe Nájera",
      "userId": "12739768035030133691"
     },
     "user_tz": 300
    },
    "id": "EHRG2js2vIkA"
   },
   "outputs": [],
   "source": [
    "nueva_lista.append(\"Harry\")"
   ]
  },
  {
   "cell_type": "code",
   "execution_count": 38,
   "metadata": {
    "colab": {
     "base_uri": "https://localhost:8080/"
    },
    "executionInfo": {
     "elapsed": 522,
     "status": "ok",
     "timestamp": 1707432703277,
     "user": {
      "displayName": "Juan Felipe Nájera",
      "userId": "12739768035030133691"
     },
     "user_tz": 300
    },
    "id": "IWzOOq3KvPiR",
    "outputId": "9c751c6a-95fd-4ed6-a6ec-0d27ddc67dbe"
   },
   "outputs": [
    {
     "name": "stdout",
     "output_type": "stream",
     "text": [
      "['Harry Potter y la piedra filosofal', 152, 974.8, 'Harry'] ['Harry Potter y la piedra filosofal', 152, 974.8]\n"
     ]
    }
   ],
   "source": [
    "print(nueva_lista, mi_lista)"
   ]
  },
  {
   "cell_type": "markdown",
   "metadata": {
    "id": "ycX_H1ojL0h5"
   },
   "source": [
    "**IMPORTANTE**\n",
    "\n",
    "---\n",
    "Si se modifica `nueva_lista`, la variable `mi_lista` no es modificada."
   ]
  },
  {
   "cell_type": "markdown",
   "metadata": {
    "id": "NA_lvodOME4X"
   },
   "source": [
    "#### Ejemplo 13\n",
    "¿Se puede copiar una lista solo con el operador de `asignación`? ❓"
   ]
  },
  {
   "cell_type": "code",
   "execution_count": 25,
   "metadata": {
    "colab": {
     "base_uri": "https://localhost:8080/"
    },
    "executionInfo": {
     "elapsed": 288,
     "status": "ok",
     "timestamp": 1707432465781,
     "user": {
      "displayName": "Juan Felipe Nájera",
      "userId": "12739768035030133691"
     },
     "user_tz": 300
    },
    "id": "NySc5HKvL0Gw",
    "outputId": "477a0db0-2a4d-44dc-b596-1975c4346231"
   },
   "outputs": [
    {
     "name": "stdout",
     "output_type": "stream",
     "text": [
      "[1, 2, 3]\n",
      "[1, 2, 3]\n"
     ]
    }
   ],
   "source": [
    "lista_vieja = [1, 2, 3]\n",
    "nueva_lista = lista_vieja\n",
    "print(lista_vieja)\n",
    "print(nueva_lista)"
   ]
  },
  {
   "cell_type": "markdown",
   "metadata": {
    "id": "Qi5sZtj4Mf_h"
   },
   "source": [
    "¿Qué pasa cuando modificamos la variable `nueva_lista`? ❓"
   ]
  },
  {
   "cell_type": "code",
   "execution_count": 26,
   "metadata": {
    "executionInfo": {
     "elapsed": 245,
     "status": "ok",
     "timestamp": 1707432497402,
     "user": {
      "displayName": "Juan Felipe Nájera",
      "userId": "12739768035030133691"
     },
     "user_tz": 300
    },
    "id": "pnabUo5GMoOv"
   },
   "outputs": [],
   "source": [
    "nueva_lista.append(\"a\")"
   ]
  },
  {
   "cell_type": "code",
   "execution_count": 27,
   "metadata": {
    "executionInfo": {
     "elapsed": 284,
     "status": "ok",
     "timestamp": 1707432500980,
     "user": {
      "displayName": "Juan Felipe Nájera",
      "userId": "12739768035030133691"
     },
     "user_tz": 300
    },
    "id": "U2Di53N82RKA"
   },
   "outputs": [],
   "source": [
    "nueva_lista.append(\"hola\")"
   ]
  },
  {
   "cell_type": "code",
   "execution_count": 28,
   "metadata": {
    "colab": {
     "base_uri": "https://localhost:8080/"
    },
    "executionInfo": {
     "elapsed": 267,
     "status": "ok",
     "timestamp": 1707432505334,
     "user": {
      "displayName": "Juan Felipe Nájera",
      "userId": "12739768035030133691"
     },
     "user_tz": 300
    },
    "id": "WuIoxPYfMvAF",
    "outputId": "0a442980-dcea-45d5-e5d7-68644f425610"
   },
   "outputs": [
    {
     "name": "stdout",
     "output_type": "stream",
     "text": [
      "nueva_lista: [1, 2, 3, 'a', 'hola']\n",
      "lista_vieja: [1, 2, 3, 'a', 'hola']\n"
     ]
    }
   ],
   "source": [
    "print(\"nueva_lista:\", nueva_lista)\n",
    "print(\"lista_vieja:\", lista_vieja)"
   ]
  },
  {
   "cell_type": "markdown",
   "metadata": {
    "id": "PgNw5DNxNOgN"
   },
   "source": [
    "¿Va a pasar lo mismo si solo modificamos `lista_vieja`? ❓"
   ]
  },
  {
   "cell_type": "code",
   "execution_count": 29,
   "metadata": {
    "id": "xdkEXPOpNKR8"
   },
   "outputs": [],
   "source": [
    "lista_vieja.append(\"b\")"
   ]
  },
  {
   "cell_type": "code",
   "execution_count": 30,
   "metadata": {
    "id": "Ra7PpQSgNNAk"
   },
   "outputs": [
    {
     "name": "stdout",
     "output_type": "stream",
     "text": [
      "nueva_lista: [1, 2, 3, 'a', 'hola', 'b']\n",
      "lista_vieja: [1, 2, 3, 'a', 'hola', 'b']\n"
     ]
    }
   ],
   "source": [
    "print(\"nueva_lista:\", nueva_lista)\n",
    "print(\"lista_vieja:\", lista_vieja)"
   ]
  },
  {
   "cell_type": "code",
   "execution_count": 31,
   "metadata": {
    "executionInfo": {
     "elapsed": 261,
     "status": "ok",
     "timestamp": 1707432568726,
     "user": {
      "displayName": "Juan Felipe Nájera",
      "userId": "12739768035030133691"
     },
     "user_tz": 300
    },
    "id": "YVHgnYBl41ru"
   },
   "outputs": [],
   "source": [
    "lista_vieja = lista_vieja.copy()"
   ]
  },
  {
   "cell_type": "code",
   "execution_count": 32,
   "metadata": {
    "executionInfo": {
     "elapsed": 264,
     "status": "ok",
     "timestamp": 1707432574356,
     "user": {
      "displayName": "Juan Felipe Nájera",
      "userId": "12739768035030133691"
     },
     "user_tz": 300
    },
    "id": "-fYBloKy4_lq"
   },
   "outputs": [],
   "source": [
    "nueva_lista.append(\"a\")"
   ]
  },
  {
   "cell_type": "code",
   "execution_count": 33,
   "metadata": {
    "executionInfo": {
     "elapsed": 4,
     "status": "ok",
     "timestamp": 1707432584277,
     "user": {
      "displayName": "Juan Felipe Nájera",
      "userId": "12739768035030133691"
     },
     "user_tz": 300
    },
    "id": "oULkYL236YVN"
   },
   "outputs": [],
   "source": [
    "nueva_lista.append(123)"
   ]
  },
  {
   "cell_type": "code",
   "execution_count": 34,
   "metadata": {
    "colab": {
     "base_uri": "https://localhost:8080/"
    },
    "executionInfo": {
     "elapsed": 6,
     "status": "ok",
     "timestamp": 1707432586547,
     "user": {
      "displayName": "Juan Felipe Nájera",
      "userId": "12739768035030133691"
     },
     "user_tz": 300
    },
    "id": "MJtOvqnU5BSg",
    "outputId": "aa5c7e88-3c40-402a-eb44-648a92d5df31"
   },
   "outputs": [
    {
     "name": "stdout",
     "output_type": "stream",
     "text": [
      "nueva_lista: [1, 2, 3, 'a', 'hola', 'b', 'a', 123]\n",
      "lista_vieja: [1, 2, 3, 'a', 'hola', 'b']\n"
     ]
    }
   ],
   "source": [
    "print(\"nueva_lista:\", nueva_lista)\n",
    "print(\"lista_vieja:\", lista_vieja)"
   ]
  },
  {
   "cell_type": "markdown",
   "metadata": {
    "id": "sEzK3v_LM5At"
   },
   "source": [
    "El **problema** con esta forma de copiar es que cuando se modifica cualquiera de las dos variables que tiene la misma lista, se modifica la otra.\n",
    "\n",
    "La razón es porque la `nueva_lista` hace referencia o apunta al mismo objeto de la `lista_vieja`."
   ]
  },
  {
   "cell_type": "markdown",
   "metadata": {
    "id": "ei94MD1sODBH"
   },
   "source": [
    "### `count()`"
   ]
  },
  {
   "cell_type": "markdown",
   "metadata": {
    "id": "d1fcHhm4OHOg"
   },
   "source": [
    "El método `count()` devuelve el número de veces que aparece el elemento especificado en la lista.\n",
    "* Siempre se debe poner un argumento el cual es el elemento que se quiere contar."
   ]
  },
  {
   "cell_type": "markdown",
   "metadata": {
    "id": "PyswYhQUO-gc"
   },
   "source": [
    "#### Ejemplo 14\n",
    "Apliquemos el método `count()` con la siguiente lista de números."
   ]
  },
  {
   "cell_type": "code",
   "execution_count": null,
   "metadata": {
    "id": "YxNq_t1iOGqg"
   },
   "outputs": [],
   "source": [
    "v = [1, 2, 3, 4, 4, 5, 6, 8, 4, 2, 1, 6, 8, 4, 6, 3, 2, 4]"
   ]
  },
  {
   "cell_type": "code",
   "execution_count": null,
   "metadata": {
    "id": "H6HNOMJ0PM6K"
   },
   "outputs": [],
   "source": [
    "v.count(4)"
   ]
  },
  {
   "cell_type": "markdown",
   "metadata": {
    "id": "1xP0x4E4Pi_v"
   },
   "source": [
    "### `remove()`"
   ]
  },
  {
   "cell_type": "markdown",
   "metadata": {
    "id": "ea4ZH2oCPndg"
   },
   "source": [
    "El método `remove()` la primera ocurrencia del objeto especificado en el argumento."
   ]
  },
  {
   "cell_type": "markdown",
   "metadata": {
    "id": "SGghww-3P2zd"
   },
   "source": [
    "#### Ejemplo 15\n",
    "Utilicemos el método `remove()` en la siguiente lista"
   ]
  },
  {
   "cell_type": "code",
   "execution_count": 39,
   "metadata": {
    "id": "rx2bV1fAPmEc"
   },
   "outputs": [
    {
     "name": "stdout",
     "output_type": "stream",
     "text": [
      "[1, 2, 3, 4, 4, 5, 6, 8, 4, 2, 1, 6, 8, 4, 6, 3, 2, 4]\n"
     ]
    }
   ],
   "source": [
    "v = [1, 2, 3, 4, 4, 5, 6, 8, 4, 2, 1, 6, 8, 4, 6, 3, 2, 4]\n",
    "print(v)"
   ]
  },
  {
   "cell_type": "code",
   "execution_count": 40,
   "metadata": {
    "id": "nNz8MaakSl_D"
   },
   "outputs": [
    {
     "name": "stdout",
     "output_type": "stream",
     "text": [
      "[1, 2, 3, 4, 5, 6, 8, 4, 2, 1, 6, 8, 4, 6, 3, 2, 4]\n"
     ]
    }
   ],
   "source": [
    "v.remove(4)\n",
    "print(v)"
   ]
  },
  {
   "cell_type": "code",
   "execution_count": null,
   "metadata": {
    "id": "E9F_qIfRSs4L"
   },
   "outputs": [],
   "source": [
    "v.remove(4)\n",
    "print(v)"
   ]
  },
  {
   "cell_type": "markdown",
   "metadata": {
    "id": "0y4_GD5DSyMe"
   },
   "source": [
    "### `sort()`"
   ]
  },
  {
   "cell_type": "markdown",
   "metadata": {
    "id": "XNuIlzjiS7du"
   },
   "source": [
    "Como las listas son **mutables**, se puede cambiar el orden de los elementos, es decir, ordenarlos de diferentes formas sin que afecte a la longitud de la lista."
   ]
  },
  {
   "cell_type": "markdown",
   "metadata": {
    "id": "UxheHB3bTLBn"
   },
   "source": [
    "El método `sort()` ordena por default de forma ascendente una lista, desde el valor más pequeño al más grande."
   ]
  },
  {
   "cell_type": "markdown",
   "metadata": {
    "id": "crBR08LyTiWe"
   },
   "source": [
    "#### Ejemplo 16\n",
    "Utilicemos `sort()` para ordenar la siguiente lista de forma ascendente."
   ]
  },
  {
   "cell_type": "code",
   "execution_count": 41,
   "metadata": {
    "colab": {
     "base_uri": "https://localhost:8080/"
    },
    "executionInfo": {
     "elapsed": 383,
     "status": "ok",
     "timestamp": 1707432891929,
     "user": {
      "displayName": "Juan Felipe Nájera",
      "userId": "12739768035030133691"
     },
     "user_tz": 300
    },
    "id": "K0J6Tz0tS7FE",
    "outputId": "d6179490-28e9-4389-8407-131193e66a53"
   },
   "outputs": [
    {
     "name": "stdout",
     "output_type": "stream",
     "text": [
      "[4, -3, 5, 0, 1, 8, -5, -10, 1, 12, 3]\n"
     ]
    }
   ],
   "source": [
    "v1 = [4, -3, 5, 0, 1, 8, -5, -10, 1, 12, 3]\n",
    "print(v1)"
   ]
  },
  {
   "cell_type": "code",
   "execution_count": 42,
   "metadata": {
    "executionInfo": {
     "elapsed": 281,
     "status": "ok",
     "timestamp": 1707432894721,
     "user": {
      "displayName": "Juan Felipe Nájera",
      "userId": "12739768035030133691"
     },
     "user_tz": 300
    },
    "id": "BPOoJTNtT5EZ"
   },
   "outputs": [],
   "source": [
    "v1.sort()"
   ]
  },
  {
   "cell_type": "code",
   "execution_count": 43,
   "metadata": {
    "colab": {
     "base_uri": "https://localhost:8080/"
    },
    "executionInfo": {
     "elapsed": 6,
     "status": "ok",
     "timestamp": 1707432897041,
     "user": {
      "displayName": "Juan Felipe Nájera",
      "userId": "12739768035030133691"
     },
     "user_tz": 300
    },
    "id": "Ye1D-mbcT7yU",
    "outputId": "217002e2-f0ea-42f0-a526-cd9edc95615f"
   },
   "outputs": [
    {
     "data": {
      "text/plain": [
       "[-10, -5, -3, 0, 1, 1, 3, 4, 5, 8, 12]"
      ]
     },
     "execution_count": 43,
     "metadata": {},
     "output_type": "execute_result"
    }
   ],
   "source": [
    "v1"
   ]
  },
  {
   "cell_type": "markdown",
   "metadata": {
    "id": "ngNgpMvCUC5-"
   },
   "source": [
    "Tomar en cuenta que este método **cambia** la lista **original** sin crear una nueva."
   ]
  },
  {
   "cell_type": "markdown",
   "metadata": {
    "id": "RxfXE-6IUW-b"
   },
   "source": [
    "También se puede ordenar de forma descendente con el argumento `reverse=` estableciendo su valor como `True`."
   ]
  },
  {
   "cell_type": "markdown",
   "metadata": {
    "id": "_dLfZEkaUrox"
   },
   "source": [
    "#### Ejemplo 17\n",
    "Utilicemos `sort()` para ordenar la siguiente lista de forma descendente."
   ]
  },
  {
   "cell_type": "code",
   "execution_count": null,
   "metadata": {
    "id": "ylt-grUjU3Ps"
   },
   "outputs": [],
   "source": [
    "v1 = [4, -3, 5, 0, 1, 8, -5, -10, 1, 12, 3]\n",
    "print(v1)"
   ]
  },
  {
   "cell_type": "code",
   "execution_count": null,
   "metadata": {
    "id": "GR6X9Q__XS3U"
   },
   "outputs": [],
   "source": [
    "v1.sort(reverse=True)\n",
    "print(v1)"
   ]
  },
  {
   "cell_type": "code",
   "execution_count": null,
   "metadata": {
    "id": "3GzyG1as7zzD"
   },
   "outputs": [],
   "source": [
    "v1.sort(reverse=False)\n",
    "print(v1)"
   ]
  },
  {
   "cell_type": "code",
   "execution_count": null,
   "metadata": {
    "id": "VnZDgAkP7u0U"
   },
   "outputs": [],
   "source": [
    "v1.sort()\n",
    "print(v1)"
   ]
  },
  {
   "cell_type": "markdown",
   "metadata": {
    "id": "uCVEqZ9XXd9O"
   },
   "source": [
    "#### Ejemplo 18\n",
    "¿Qué pasa si ordenamos `str`? ❓\n",
    "\n",
    "¿Se puede ordenar el siguiente ejemplo? ¿Y si es así, cómo sería?"
   ]
  },
  {
   "cell_type": "code",
   "execution_count": null,
   "metadata": {
    "id": "dsz0dXutXiK-"
   },
   "outputs": [],
   "source": [
    "peliculas = ['Sueños de fuga', 'El padrino', 'Batman: El caballero de la noche', 'La lista de Schindler']\n",
    "print(peliculas)"
   ]
  },
  {
   "cell_type": "code",
   "execution_count": null,
   "metadata": {
    "id": "RDBVNHcUYDGM"
   },
   "outputs": [],
   "source": [
    "peliculas.sort()\n",
    "print(peliculas)"
   ]
  },
  {
   "cell_type": "markdown",
   "metadata": {
    "id": "jQgBYS7tYG0X"
   },
   "source": [
    "**IMPORTANTE**\n",
    "\n",
    "---\n",
    "Cuando Python ordena los datos, compara los valores de cada elemento. Para `str` se ordena como en un diccionario, sin embargo toma en cuenta el orden **lexicográfico**, que toma en cuenta los signos de puntuación, números y mayúsculas y minúsculas.\n",
    "\n",
    "Python toma en cuenta el siguiente orden:\n",
    "1. Signos de puntuación.\n",
    "2. Números\n",
    "3. A-Z\n",
    "4. a-z"
   ]
  },
  {
   "cell_type": "code",
   "execution_count": null,
   "metadata": {
    "id": "zeqB63Y1Yz4s"
   },
   "outputs": [],
   "source": [
    "peliculas.sort(reverse=True)\n",
    "print(peliculas)"
   ]
  },
  {
   "cell_type": "markdown",
   "metadata": {
    "id": "7mSDUuzrmLtf"
   },
   "source": [
    "### `clear()`"
   ]
  },
  {
   "cell_type": "markdown",
   "metadata": {
    "id": "e6c_ku2emZCv"
   },
   "source": [
    "El método `clear()` remueve todos los elementos de la lista."
   ]
  },
  {
   "cell_type": "markdown",
   "metadata": {
    "id": "UiIHyim2mh6O"
   },
   "source": [
    "#### Ejemplo 19\n",
    "Utilicemos el método `clear()` para limpiar todos los elementos."
   ]
  },
  {
   "cell_type": "code",
   "execution_count": 44,
   "metadata": {
    "id": "u_-PA7Mmmd9R"
   },
   "outputs": [
    {
     "name": "stdout",
     "output_type": "stream",
     "text": [
      "[1, 2, 3, 4, 4, 5, 6, 8, 4, 2, 1, 6, 8, 4, 6, 3, 2, 4]\n"
     ]
    }
   ],
   "source": [
    "v = [1, 2, 3, 4, 4, 5, 6, 8, 4, 2, 1, 6, 8, 4, 6, 3, 2, 4]\n",
    "print(v)"
   ]
  },
  {
   "cell_type": "code",
   "execution_count": 45,
   "metadata": {
    "id": "68VWRGrnmuVl"
   },
   "outputs": [
    {
     "name": "stdout",
     "output_type": "stream",
     "text": [
      "[]\n"
     ]
    }
   ],
   "source": [
    "v.clear()\n",
    "print(v)"
   ]
  },
  {
   "cell_type": "markdown",
   "metadata": {
    "id": "0EoKwCwRmwwR"
   },
   "source": [
    "Tomar en cuenta que pueden existir listas vacías, como en el resultado final del ejemplo de arriba. O de igual forma, crear variables con listas vacías."
   ]
  },
  {
   "cell_type": "code",
   "execution_count": null,
   "metadata": {
    "id": "AENteSvam4yB"
   },
   "outputs": [],
   "source": [
    "lista_1 = []\n",
    "lista_1"
   ]
  },
  {
   "cell_type": "markdown",
   "metadata": {
    "id": "C3H_uBaJrMaI"
   },
   "source": [
    "### `index()`"
   ]
  },
  {
   "cell_type": "markdown",
   "metadata": {
    "id": "OIl59VksrYLL"
   },
   "source": [
    "El método `index()` regresa el índice del elemento especificado de una lista."
   ]
  },
  {
   "cell_type": "markdown",
   "metadata": {
    "id": "fT19j2cctMKQ"
   },
   "source": [
    "#### Ejemplo 20\n",
    "Utilicemos el método `index()` para saber qué indice está ubicado el cantante Paul McCartney."
   ]
  },
  {
   "cell_type": "code",
   "execution_count": 46,
   "metadata": {
    "colab": {
     "base_uri": "https://localhost:8080/"
    },
    "executionInfo": {
     "elapsed": 253,
     "status": "ok",
     "timestamp": 1707433040572,
     "user": {
      "displayName": "Juan Felipe Nájera",
      "userId": "12739768035030133691"
     },
     "user_tz": 300
    },
    "id": "wLUJOZ8Grk5-",
    "outputId": "1b6969a8-68a9-483c-a173-c1cea03ed134"
   },
   "outputs": [
    {
     "name": "stdout",
     "output_type": "stream",
     "text": [
      "1\n"
     ]
    }
   ],
   "source": [
    "beatles = ['John Lennon', 'Paul McCartney', 'Ringo Starr', 'George Harrison']\n",
    "idx = beatles.index('Paul McCartney')\n",
    "print(idx)"
   ]
  },
  {
   "cell_type": "markdown",
   "metadata": {
    "id": "rb4ngpylteyT"
   },
   "source": [
    "¿Qué pasará si buscamos un elemento en la lista que no existe? ❓"
   ]
  },
  {
   "cell_type": "code",
   "execution_count": 47,
   "metadata": {
    "colab": {
     "base_uri": "https://localhost:8080/",
     "height": 197
    },
    "executionInfo": {
     "elapsed": 246,
     "status": "error",
     "timestamp": 1707433047295,
     "user": {
      "displayName": "Juan Felipe Nájera",
      "userId": "12739768035030133691"
     },
     "user_tz": 300
    },
    "id": "FyDRUzY9tjZq",
    "outputId": "86604803-9ad8-4367-baf6-cd91fc2375c5"
   },
   "outputs": [
    {
     "ename": "ValueError",
     "evalue": "'Yoko Ono' is not in list",
     "output_type": "error",
     "traceback": [
      "\u001b[1;31m---------------------------------------------------------------------------\u001b[0m",
      "\u001b[1;31mValueError\u001b[0m                                Traceback (most recent call last)",
      "Cell \u001b[1;32mIn[47], line 1\u001b[0m\n\u001b[1;32m----> 1\u001b[0m ind \u001b[38;5;241m=\u001b[39m \u001b[43mbeatles\u001b[49m\u001b[38;5;241;43m.\u001b[39;49m\u001b[43mindex\u001b[49m\u001b[43m(\u001b[49m\u001b[38;5;124;43m'\u001b[39;49m\u001b[38;5;124;43mYoko Ono\u001b[39;49m\u001b[38;5;124;43m'\u001b[39;49m\u001b[43m)\u001b[49m\n\u001b[0;32m      2\u001b[0m \u001b[38;5;28mprint\u001b[39m(ind)\n",
      "\u001b[1;31mValueError\u001b[0m: 'Yoko Ono' is not in list"
     ]
    }
   ],
   "source": [
    "ind = beatles.index('Yoko Ono')\n",
    "print(ind)"
   ]
  },
  {
   "cell_type": "markdown",
   "metadata": {
    "id": "LrJbJe66nFsZ"
   },
   "source": [
    "### `split()` - de string a lista"
   ]
  },
  {
   "cell_type": "markdown",
   "metadata": {
    "id": "Y80RmCgEnIxd"
   },
   "source": [
    "El método `split()` separa un tipo de dato `str` en una lista.\n",
    "\n",
    "Se puede especificar el separador, por default el separador es un espacio."
   ]
  },
  {
   "cell_type": "markdown",
   "metadata": {
    "id": "eYLcetXBnp3Z"
   },
   "source": [
    "#### Ejemplo 21\n",
    "Uso de métodod `split` con una cadena de caracteres."
   ]
  },
  {
   "cell_type": "code",
   "execution_count": 48,
   "metadata": {
    "colab": {
     "base_uri": "https://localhost:8080/",
     "height": 36
    },
    "executionInfo": {
     "elapsed": 265,
     "status": "ok",
     "timestamp": 1707433071823,
     "user": {
      "displayName": "Juan Felipe Nájera",
      "userId": "12739768035030133691"
     },
     "user_tz": 300
    },
    "id": "jHcAylkvnpf5",
    "outputId": "512f7d2d-85ee-4319-a75f-0fd3907d68a2"
   },
   "outputs": [
    {
     "data": {
      "text/plain": [
       "'Welcome to the jungle'"
      ]
     },
     "execution_count": 48,
     "metadata": {},
     "output_type": "execute_result"
    }
   ],
   "source": [
    "song = \"Welcome to the jungle\"\n",
    "song"
   ]
  },
  {
   "cell_type": "code",
   "execution_count": 49,
   "metadata": {
    "colab": {
     "base_uri": "https://localhost:8080/"
    },
    "executionInfo": {
     "elapsed": 331,
     "status": "ok",
     "timestamp": 1707433075690,
     "user": {
      "displayName": "Juan Felipe Nájera",
      "userId": "12739768035030133691"
     },
     "user_tz": 300
    },
    "id": "qEMWSvxkn3Rv",
    "outputId": "555e477a-9b40-44ba-939b-fd854b51a941"
   },
   "outputs": [
    {
     "data": {
      "text/plain": [
       "['Welcome', 'to', 'the', 'jungle']"
      ]
     },
     "execution_count": 49,
     "metadata": {},
     "output_type": "execute_result"
    }
   ],
   "source": [
    "list_song = song.split()\n",
    "list_song"
   ]
  },
  {
   "cell_type": "markdown",
   "metadata": {
    "id": "KTRVahw6oDBl"
   },
   "source": [
    "Si se indica el separador, el método solo separará según lo indicado."
   ]
  },
  {
   "cell_type": "code",
   "execution_count": 50,
   "metadata": {
    "colab": {
     "base_uri": "https://localhost:8080/",
     "height": 36
    },
    "executionInfo": {
     "elapsed": 280,
     "status": "ok",
     "timestamp": 1707433092326,
     "user": {
      "displayName": "Juan Felipe Nájera",
      "userId": "12739768035030133691"
     },
     "user_tz": 300
    },
    "id": "OTC4ipcToKx8",
    "outputId": "d474a0b7-353d-4069-9775-607d01b68833"
   },
   "outputs": [
    {
     "data": {
      "text/plain": [
       "'pc#games#keyboard#ps4#ps5#xbox'"
      ]
     },
     "execution_count": 50,
     "metadata": {},
     "output_type": "execute_result"
    }
   ],
   "source": [
    "hashtags = \"pc#games#keyboard#ps4#ps5#xbox\"\n",
    "hashtags"
   ]
  },
  {
   "cell_type": "code",
   "execution_count": 51,
   "metadata": {
    "colab": {
     "base_uri": "https://localhost:8080/"
    },
    "executionInfo": {
     "elapsed": 291,
     "status": "ok",
     "timestamp": 1707433094793,
     "user": {
      "displayName": "Juan Felipe Nájera",
      "userId": "12739768035030133691"
     },
     "user_tz": 300
    },
    "id": "cYeEOvjroYAs",
    "outputId": "1e0b9cf0-3b06-4d97-80fa-83aa7fa4a07f"
   },
   "outputs": [
    {
     "data": {
      "text/plain": [
       "['pc', 'games', 'keyboard', 'ps4', 'ps5', 'xbox']"
      ]
     },
     "execution_count": 51,
     "metadata": {},
     "output_type": "execute_result"
    }
   ],
   "source": [
    "tech_list = hashtags.split(\"#\")\n",
    "tech_list"
   ]
  },
  {
   "cell_type": "markdown",
   "metadata": {
    "id": "QfCVnvQQttjO"
   },
   "source": [
    "### `join()` - de lista a string"
   ]
  },
  {
   "cell_type": "markdown",
   "metadata": {
    "id": "_abm7M_MuFTp"
   },
   "source": [
    "El método `join()` convierte una lista en un string.\n",
    "\n",
    "Se puede indicar con qué se va a unir al inicio."
   ]
  },
  {
   "cell_type": "markdown",
   "metadata": {
    "id": "LJHTc3uRutgF"
   },
   "source": [
    "### Ejemplo 22\n",
    "Utilicemos el método `join`"
   ]
  },
  {
   "cell_type": "code",
   "execution_count": 52,
   "metadata": {
    "colab": {
     "base_uri": "https://localhost:8080/"
    },
    "executionInfo": {
     "elapsed": 283,
     "status": "ok",
     "timestamp": 1707433128517,
     "user": {
      "displayName": "Juan Felipe Nájera",
      "userId": "12739768035030133691"
     },
     "user_tz": 300
    },
    "id": "1Piw7nXSt-qp",
    "outputId": "171a6ec1-68f4-44ab-ff9b-8b2f7c402559"
   },
   "outputs": [
    {
     "name": "stdout",
     "output_type": "stream",
     "text": [
      "La película favorita de Max es The Graduate.\n"
     ]
    }
   ],
   "source": [
    "words = ['La', 'película', 'favorita', 'de', 'Max', 'es', 'The', 'Graduate.']\n",
    "phrase = ' '.join(words) # forma una string de los elementos separados por espacios\n",
    "print(phrase)"
   ]
  },
  {
   "cell_type": "markdown",
   "metadata": {
    "id": "AU1ZVW8Cu92x"
   },
   "source": [
    "¿Qué pasa si cambiamos en vez de espacios? ❓"
   ]
  },
  {
   "cell_type": "code",
   "execution_count": 53,
   "metadata": {
    "colab": {
     "base_uri": "https://localhost:8080/"
    },
    "executionInfo": {
     "elapsed": 289,
     "status": "ok",
     "timestamp": 1707433133273,
     "user": {
      "displayName": "Juan Felipe Nájera",
      "userId": "12739768035030133691"
     },
     "user_tz": 300
    },
    "id": "T61UaOo8u59g",
    "outputId": "8f028c82-f4dd-4b3d-ddd7-b5951321059a"
   },
   "outputs": [
    {
     "name": "stdout",
     "output_type": "stream",
     "text": [
      "La/película/favorita/de/Max/es/The/Graduate.\n"
     ]
    }
   ],
   "source": [
    "words = ['La', 'película', 'favorita', 'de', 'Max', 'es', 'The', 'Graduate.']\n",
    "phrase = '/'.join(words) # forma una string de los elementos separados por #\n",
    "print(phrase)"
   ]
  },
  {
   "cell_type": "markdown",
   "metadata": {
    "id": "MoMuYqtVmM6o"
   },
   "source": [
    "## Función `sorted()`"
   ]
  },
  {
   "cell_type": "markdown",
   "metadata": {
    "id": "1LyJeLFak5Ga"
   },
   "source": [
    "Existe una función muy parecida llamada `sorted()`, que se diferencia de `sort()` en dos maneras:\n",
    "* Mientras que el método `sort()` **cambia la lista original** para la que fue llamada, la función `sorted()` **devuelve una nueva lista ordenada**.\n",
    "* `sort()` es un método, mientras que `sorted()` es una función."
   ]
  },
  {
   "cell_type": "markdown",
   "metadata": {
    "id": "zkQzzP8MqWtR"
   },
   "source": [
    "Tomar en cuenta que igual tiene el argumento `reverse`"
   ]
  },
  {
   "cell_type": "markdown",
   "metadata": {
    "id": "npKJRLhQlay_"
   },
   "source": [
    "#### Ejemplo 23\n",
    "Tenemos la siguiente lista de años, y queremos guardarle en una nueva variable, para no modificar la variable original."
   ]
  },
  {
   "cell_type": "code",
   "execution_count": 54,
   "metadata": {
    "executionInfo": {
     "elapsed": 259,
     "status": "ok",
     "timestamp": 1707432909364,
     "user": {
      "displayName": "Juan Felipe Nájera",
      "userId": "12739768035030133691"
     },
     "user_tz": 300
    },
    "id": "2tXT_SVMY8VW"
   },
   "outputs": [],
   "source": [
    "years = [1994, 1972, 2008, 1993, 2003, 1994, 1966, 1999, 1962, 1997]"
   ]
  },
  {
   "cell_type": "code",
   "execution_count": 55,
   "metadata": {
    "colab": {
     "base_uri": "https://localhost:8080/"
    },
    "executionInfo": {
     "elapsed": 245,
     "status": "ok",
     "timestamp": 1707432983387,
     "user": {
      "displayName": "Juan Felipe Nájera",
      "userId": "12739768035030133691"
     },
     "user_tz": 300
    },
    "id": "29xVIGBuggy8",
    "outputId": "af4db695-fb1c-407e-e10b-6a14d2fa38f1"
   },
   "outputs": [
    {
     "data": {
      "text/plain": [
       "[2008, 2003, 1999, 1997, 1994, 1994, 1993, 1972, 1966, 1962]"
      ]
     },
     "execution_count": 55,
     "metadata": {},
     "output_type": "execute_result"
    }
   ],
   "source": [
    "sorted(years, reverse = True)"
   ]
  },
  {
   "cell_type": "code",
   "execution_count": 56,
   "metadata": {},
   "outputs": [
    {
     "data": {
      "text/plain": [
       "[1962, 1966, 1972, 1993, 1994, 1994, 1997, 1999, 2003, 2008]"
      ]
     },
     "execution_count": 56,
     "metadata": {},
     "output_type": "execute_result"
    }
   ],
   "source": [
    "sorted(years)"
   ]
  },
  {
   "cell_type": "code",
   "execution_count": 57,
   "metadata": {
    "colab": {
     "base_uri": "https://localhost:8080/"
    },
    "executionInfo": {
     "elapsed": 254,
     "status": "ok",
     "timestamp": 1707432933170,
     "user": {
      "displayName": "Juan Felipe Nájera",
      "userId": "12739768035030133691"
     },
     "user_tz": 300
    },
    "id": "hl_F5rTlgivJ",
    "outputId": "083aa48c-34c2-454f-afb1-e00d40a72480"
   },
   "outputs": [
    {
     "data": {
      "text/plain": [
       "[1994, 1972, 2008, 1993, 2003, 1994, 1966, 1999, 1962, 1997]"
      ]
     },
     "execution_count": 57,
     "metadata": {},
     "output_type": "execute_result"
    }
   ],
   "source": [
    "years"
   ]
  },
  {
   "cell_type": "code",
   "execution_count": 58,
   "metadata": {
    "colab": {
     "base_uri": "https://localhost:8080/"
    },
    "executionInfo": {
     "elapsed": 283,
     "status": "ok",
     "timestamp": 1707432948937,
     "user": {
      "displayName": "Juan Felipe Nájera",
      "userId": "12739768035030133691"
     },
     "user_tz": 300
    },
    "id": "H9kDemRVp_XQ",
    "outputId": "30ed9a26-a7f5-44ef-dd59-ef45889ed9a8"
   },
   "outputs": [
    {
     "name": "stdout",
     "output_type": "stream",
     "text": [
      "[1962, 1966, 1972, 1993, 1994, 1994, 1997, 1999, 2003, 2008]\n"
     ]
    }
   ],
   "source": [
    "years_sorted = sorted(years)\n",
    "print(years_sorted)"
   ]
  },
  {
   "cell_type": "markdown",
   "metadata": {
    "id": "Z3n9xVeGqLBd"
   },
   "source": [
    "Si volvemos a revisar la variable `years`, obtendremos los datos en su posición original."
   ]
  },
  {
   "cell_type": "code",
   "execution_count": null,
   "metadata": {
    "id": "ImOpui1gqR5b"
   },
   "outputs": [],
   "source": [
    "years"
   ]
  },
  {
   "cell_type": "markdown",
   "metadata": {
    "id": "YpYVtWfXqeyM"
   },
   "source": [
    "Es necesario guardar en una variable, ya que si solo se llama la función, solo muestra el resultado en ese momento."
   ]
  },
  {
   "cell_type": "code",
   "execution_count": null,
   "metadata": {
    "id": "Bdf36cvWqmpm"
   },
   "outputs": [],
   "source": [
    "years = sorted(years)"
   ]
  },
  {
   "cell_type": "code",
   "execution_count": null,
   "metadata": {
    "id": "2hQR9g4XqqYQ"
   },
   "outputs": [],
   "source": [
    "years"
   ]
  },
  {
   "cell_type": "markdown",
   "metadata": {
    "id": "Z4WukeLizfY9"
   },
   "source": [
    "## Operadores en listas"
   ]
  },
  {
   "cell_type": "markdown",
   "metadata": {
    "id": "8GBpVBxtzj1Q"
   },
   "source": [
    "### Suma y multiplicación"
   ]
  },
  {
   "cell_type": "markdown",
   "metadata": {
    "id": "7XQJW8qlz75M"
   },
   "source": [
    "Las listas pueden concatenarse y repetirse con los operadores `+` y `*`, respectivamente, como los strings."
   ]
  },
  {
   "cell_type": "markdown",
   "metadata": {
    "id": "IeJi5Uqj0VVo"
   },
   "source": [
    "#### Ejemplo 24\n",
    "¿Qué sucede cuando se aplica una suma entre listas? ❓"
   ]
  },
  {
   "cell_type": "code",
   "execution_count": 59,
   "metadata": {
    "executionInfo": {
     "elapsed": 276,
     "status": "ok",
     "timestamp": 1707433151677,
     "user": {
      "displayName": "Juan Felipe Nájera",
      "userId": "12739768035030133691"
     },
     "user_tz": 300
    },
    "id": "MAjtly1ozo3q"
   },
   "outputs": [],
   "source": [
    "v1 = [2, 4, 6, 8, 10]\n",
    "v3 = [3, 5, 7]"
   ]
  },
  {
   "cell_type": "code",
   "execution_count": 60,
   "metadata": {
    "colab": {
     "base_uri": "https://localhost:8080/"
    },
    "executionInfo": {
     "elapsed": 254,
     "status": "ok",
     "timestamp": 1707433156122,
     "user": {
      "displayName": "Juan Felipe Nájera",
      "userId": "12739768035030133691"
     },
     "user_tz": 300
    },
    "id": "Kv81dCTR0e9_",
    "outputId": "4d8f9d5c-0ace-4fb8-8ccb-b3ac8c132df0"
   },
   "outputs": [
    {
     "data": {
      "text/plain": [
       "[2, 4, 6, 8, 10, 3, 5, 7]"
      ]
     },
     "execution_count": 60,
     "metadata": {},
     "output_type": "execute_result"
    }
   ],
   "source": [
    "v1 + v3"
   ]
  },
  {
   "cell_type": "markdown",
   "metadata": {
    "id": "awRtc2mb0iUP"
   },
   "source": [
    "¿Y qué sucede cuando se realiza una multiplicación por un número entero? ❓"
   ]
  },
  {
   "cell_type": "code",
   "execution_count": 61,
   "metadata": {
    "colab": {
     "base_uri": "https://localhost:8080/"
    },
    "executionInfo": {
     "elapsed": 282,
     "status": "ok",
     "timestamp": 1707433161619,
     "user": {
      "displayName": "Juan Felipe Nájera",
      "userId": "12739768035030133691"
     },
     "user_tz": 300
    },
    "id": "cy_Zsr9r0oV7",
    "outputId": "5b52416b-4f99-4cfe-9c4e-ce7c2d16141b"
   },
   "outputs": [
    {
     "data": {
      "text/plain": [
       "[3, 5, 7, 3, 5, 7, 3, 5, 7]"
      ]
     },
     "execution_count": 61,
     "metadata": {},
     "output_type": "execute_result"
    }
   ],
   "source": [
    "v3 * 3"
   ]
  },
  {
   "cell_type": "markdown",
   "metadata": {
    "id": "zYNEbkeK0tiQ"
   },
   "source": [
    "### Operadores booleanos: `in` y `not in`"
   ]
  },
  {
   "cell_type": "markdown",
   "metadata": {
    "id": "xG2R9O7402EU"
   },
   "source": [
    "Los operadores booleanos `in` y `not in` evalúan si un elemento pertenece o no a una secuencia."
   ]
  },
  {
   "cell_type": "markdown",
   "metadata": {
    "id": "i3c6W4Y11gGL"
   },
   "source": [
    "#### Ejemplo 25\n",
    "¿Qué resultado se obtendrá con la siguiente lista y operador booleano? ❓"
   ]
  },
  {
   "cell_type": "code",
   "execution_count": 62,
   "metadata": {
    "id": "q30-c0Ct1fP8"
   },
   "outputs": [],
   "source": [
    "v2 = [7, 8, 'a', 'Hola', [11, 12]]"
   ]
  },
  {
   "cell_type": "code",
   "execution_count": 63,
   "metadata": {
    "id": "YAApoO_w1ufY"
   },
   "outputs": [
    {
     "data": {
      "text/plain": [
       "True"
      ]
     },
     "execution_count": 63,
     "metadata": {},
     "output_type": "execute_result"
    }
   ],
   "source": [
    "8 in v2"
   ]
  },
  {
   "cell_type": "markdown",
   "metadata": {
    "id": "nZPwpf841yUf"
   },
   "source": [
    "¿Y con la siguiente? ❓"
   ]
  },
  {
   "cell_type": "code",
   "execution_count": null,
   "metadata": {
    "id": "ihV2X75R13y4"
   },
   "outputs": [],
   "source": [
    "\"hola\" not in v2"
   ]
  }
 ],
 "metadata": {
  "colab": {
   "authorship_tag": "ABX9TyMYniJZ+NTzgUpSL7iznHbi",
   "provenance": []
  },
  "kernelspec": {
   "display_name": "Python 3",
   "name": "python3"
  },
  "language_info": {
   "codemirror_mode": {
    "name": "ipython",
    "version": 3
   },
   "file_extension": ".py",
   "mimetype": "text/x-python",
   "name": "python",
   "nbconvert_exporter": "python",
   "pygments_lexer": "ipython3",
   "version": "3.12.6"
  }
 },
 "nbformat": 4,
 "nbformat_minor": 0
}
