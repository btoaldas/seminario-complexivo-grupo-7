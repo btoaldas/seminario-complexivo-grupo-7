{
 "cells": [
  {
   "cell_type": "markdown",
   "metadata": {
    "id": "zgwR_gX8-rf-"
   },
   "source": [
    "# Introducción a Python: Clase #6"
   ]
  },
  {
   "cell_type": "markdown",
   "metadata": {},
   "source": [
    "**Profesor**: Juan Felipe Nájera Puente"
   ]
  },
  {
   "cell_type": "markdown",
   "metadata": {
    "id": "oZSqJMhM8iDd"
   },
   "source": [
    "# Listas anidadas"
   ]
  },
  {
   "cell_type": "markdown",
   "metadata": {
    "id": "v-8hWBmE8tYx"
   },
   "source": [
    "## ¿Qué son las listas anidadas?"
   ]
  },
  {
   "cell_type": "markdown",
   "metadata": {
    "id": "hrUqVPIq80hO"
   },
   "source": [
    "Hemos visto en un breve ejemplo cómo una lista puede guardar cualquier tipo de valor, incluso una lista dentro de sí misma.\n",
    "\n",
    "Una lista anidada son **listas de listas**.\n",
    "\n",
    "La estructura de una lista anidada es:\n",
    "* Primer nivel: la lista principal\n",
    "* Niveles posteriores: listas dentro de la lista principal o dentro de otras listas dentro de estas (sublistas).\n",
    "\n",
    "**NOTA**: así como las listas, las sublistas pueden almacenar todo tipo de dato: `str`, `int`, `float`, `boolean`."
   ]
  },
  {
   "cell_type": "markdown",
   "metadata": {
    "id": "HmQ_pE7J_GHE"
   },
   "source": [
    "### Ejemplo 1\n",
    "Veamos cómo se escribe una lista anidada.\n",
    "\n",
    "Se tiene la información de películas (`movies_info`) que contiene información de:\n",
    "* Título\n",
    "* País\n",
    "* Año de lanzamiento\n",
    "* Género\n",
    "* Duración en minutos\n",
    "* Rating"
   ]
  },
  {
   "cell_type": "code",
   "execution_count": 1,
   "metadata": {
    "colab": {
     "base_uri": "https://localhost:8080/"
    },
    "executionInfo": {
     "elapsed": 3,
     "status": "ok",
     "timestamp": 1709075085733,
     "user": {
      "displayName": "Juan Felipe Nájera",
      "userId": "12739768035030133691"
     },
     "user_tz": 300
    },
    "id": "zKxgdITO80M8",
    "outputId": "10b7fbae-e010-49a1-9d31-0f7573e0d44b"
   },
   "outputs": [
    {
     "name": "stdout",
     "output_type": "stream",
     "text": [
      "[['Sueños de fuga', 'EE.UU', 1994, 'drama', 142, 9.111], ['El padrino', 'EE.UU', 1972, 'drama, crimen', 175, 8.73], ['Batman: El caballero de la noche', 'EE.UU', 2008, 'fantasía, acción, thriller', 152, 8.499], ['La lista de Schindler', 'EE.UU', 1993, 'drama', 195, 8.818], ['El señor de los anillos: el retorno del rey', 'New Zealand', 2003, 'fantasía, adventure, drama', 201, 8.625], ['Tiempos violentos', 'EE.UU', 1994, 'thriller, comedia, crimen', 154, 8.619], ['El bueno, el malo y el feo', 'Italia', 1966, 'western', 178, 8.521], ['El club de la pelea', 'EE.UU', 1999, 'thriller, drama, crimen', 139, 8.644], ['Harakiri', 'Japan', 1962, 'drama, acción, histórico', 133, 8.106], ['Mente indomable', 'EE.UU', 1997, 'drama, romance', 126, 8.077]]\n"
     ]
    }
   ],
   "source": [
    "movies_info = [\n",
    "    ['Sueños de fuga', 'EE.UU', 1994, 'drama', 142, 9.111],\n",
    "    ['El padrino', 'EE.UU', 1972, 'drama, crimen', 175, 8.730],\n",
    "    ['Batman: El caballero de la noche', 'EE.UU', 2008, 'fantasía, acción, thriller', 152, 8.499],\n",
    "    ['La lista de Schindler', 'EE.UU', 1993, 'drama', 195, 8.818],\n",
    "    ['El señor de los anillos: el retorno del rey', 'New Zealand', 2003, 'fantasía, adventure, drama', 201, 8.625],\n",
    "    ['Tiempos violentos', 'EE.UU', 1994, 'thriller, comedia, crimen', 154, 8.619],\n",
    "    ['El bueno, el malo y el feo', 'Italia', 1966, 'western', 178, 8.521],\n",
    "    ['El club de la pelea', 'EE.UU', 1999, 'thriller, drama, crimen', 139, 8.644],\n",
    "    ['Harakiri', 'Japan', 1962, 'drama, acción, histórico', 133, 8.106],\n",
    "    ['Mente indomable', 'EE.UU', 1997, 'drama, romance', 126, 8.077]\n",
    "]\n",
    "print(movies_info)"
   ]
  },
  {
   "cell_type": "markdown",
   "metadata": {
    "id": "jmtxVni1_qr0"
   },
   "source": [
    "Así como las listas y los strings, podemos utilizar **índices** para acceder a sublistas.\n",
    "\n",
    "¿Qué información aparecerá en las siguientes líneas de código? ❓"
   ]
  },
  {
   "cell_type": "code",
   "execution_count": 2,
   "metadata": {
    "colab": {
     "base_uri": "https://localhost:8080/"
    },
    "executionInfo": {
     "elapsed": 192,
     "status": "ok",
     "timestamp": 1709075088928,
     "user": {
      "displayName": "Juan Felipe Nájera",
      "userId": "12739768035030133691"
     },
     "user_tz": 300
    },
    "id": "-PDLItS6_wcM",
    "outputId": "22263014-6f82-4864-cbcc-3668d04297dc"
   },
   "outputs": [
    {
     "name": "stdout",
     "output_type": "stream",
     "text": [
      "['Sueños de fuga', 'EE.UU', 1994, 'drama', 142, 9.111]\n",
      "['Mente indomable', 'EE.UU', 1997, 'drama, romance', 126, 8.077]\n"
     ]
    }
   ],
   "source": [
    "print(movies_info[0])\n",
    "print(movies_info[-1])"
   ]
  },
  {
   "cell_type": "markdown",
   "metadata": {
    "id": "ii2K498WAGpH"
   },
   "source": [
    "**IMPORTANTE**\n",
    "\n",
    "---\n",
    "También podemos acceder a los elementos de uns sublista añadiendo un segundo índice en los corchetes.\n",
    "\n",
    "¿Qué información aparecerá en las siguientes líneas de código? ❓"
   ]
  },
  {
   "cell_type": "code",
   "execution_count": 3,
   "metadata": {
    "executionInfo": {
     "elapsed": 227,
     "status": "ok",
     "timestamp": 1709075237057,
     "user": {
      "displayName": "Juan Felipe Nájera",
      "userId": "12739768035030133691"
     },
     "user_tz": 300
    },
    "id": "WLkuAfqqAfpO"
   },
   "outputs": [],
   "source": [
    "movies_info = [\n",
    "    ['Sueños de fuga', 'EE.UU', 1994, 'drama', 142, 9.111],\n",
    "    ['El padrino', 'EE.UU', 1972, 'drama, crimen', 175, 8.730],\n",
    "    ['Batman: El caballero de la noche', 'EE.UU', 2008, 'fantasía, acción, thriller', 152, 8.499],\n",
    "    ['La lista de Schindler', 'EE.UU', 1993, 'drama', 195, 8.818],\n",
    "    ['El señor de los anillos: el retorno del rey', 'New Zealand', 2003, 'fantasía, adventure, drama', 201, 8.625],\n",
    "    ['Tiempos violentos', 'EE.UU', 1994, 'thriller, comedia, crimen', 154, 8.619],\n",
    "    ['El bueno, el malo y el feo', 'Italia', 1966, 'western', 178, 8.521],\n",
    "    ['El club de la pelea', 'EE.UU', 1999, 'thriller, drama, crimen', 139, 8.644],\n",
    "    ['Harakiri', 'Japan', 1962, 'drama, acción, histórico', 133, 8.106],\n",
    "    ['Mente indomable', 'EE.UU', 1997, 'drama, romance', 126, 8.077]\n",
    "]"
   ]
  },
  {
   "cell_type": "code",
   "execution_count": 5,
   "metadata": {
    "colab": {
     "base_uri": "https://localhost:8080/"
    },
    "executionInfo": {
     "elapsed": 217,
     "status": "ok",
     "timestamp": 1709075265200,
     "user": {
      "displayName": "Juan Felipe Nájera",
      "userId": "12739768035030133691"
     },
     "user_tz": 300
    },
    "id": "OM0FaR1eAWey",
    "outputId": "e9118d66-6f9d-4497-d4bf-cf7a142e0d67"
   },
   "outputs": [
    {
     "name": "stdout",
     "output_type": "stream",
     "text": [
      "1994\n",
      "Mente indomable\n",
      "Batman: El caballero de la noche\n"
     ]
    }
   ],
   "source": [
    "print(movies_info[0][2])\n",
    "print(movies_info[-1][0])\n",
    "print(movies_info[2][0])"
   ]
  },
  {
   "cell_type": "markdown",
   "metadata": {
    "id": "6FgyHg8UAkVx"
   },
   "source": [
    "* En el primer `print` recuperamos el tercer valor (año) de la primera fila.\n",
    "* En el segundo `print` recuperamos el primer valor (título) de la última fila."
   ]
  },
  {
   "cell_type": "markdown",
   "metadata": {
    "id": "vBoqw6XiA2Tx"
   },
   "source": [
    "Como se puede observar, una **tabla** puede ser representada como una lista de listas, donde el primer índice indica una **fila** y el segundo índice una **columna**.\n",
    "* Con esto se puede acceder a cualquier elemento individual de la lista anidada."
   ]
  },
  {
   "cell_type": "markdown",
   "metadata": {
    "id": "THJQsj0KGfz8"
   },
   "source": [
    "### Ejemplo 2\n",
    "¿Qué elementos devolverá las siguientes líneas de código? ❓"
   ]
  },
  {
   "cell_type": "code",
   "execution_count": 14,
   "metadata": {
    "id": "pT7ZEeLJAkIt"
   },
   "outputs": [],
   "source": [
    "movies_info = [\n",
    "    ['Sueños de fuga', 'EE.UU', 1994, 'drama', 142, 9.111],\n",
    "    ['El padrino', 'EE.UU', 1972, 'drama, crimen', 175, 8.730],\n",
    "    ['Batman: El caballero de la noche', 'EE.UU', 2008, 'fantasía, acción, thriller', 152, 8.499],\n",
    "    ['La lista de Schindler', 'EE.UU', 1993, 'drama', 195, 8.818],\n",
    "    ['El señor de los anillos: el retorno del rey', 'New Zealand', 2003, 'fantasía, adventure, drama', 201, 8.625],\n",
    "    ['Tiempos violentos', 'EE.UU', 1994, 'thriller, comedia, crimen', 154, 8.619],\n",
    "    ['El bueno, el malo y el feo', 'Italia', 1966, 'western', 178, 8.521],\n",
    "    ['El club de la pelea', 'EE.UU', 1999, 'thriller, drama, crimen', 139, 8.644],\n",
    "    ['Harakiri', 'Japan', 1962, 'drama, acción, histórico', 133, 8.106],\n",
    "    ['Mente indomable', 'EE.UU', 1997, 'drama, romance', 126, 8.077]\n",
    "]"
   ]
  },
  {
   "cell_type": "code",
   "execution_count": 18,
   "metadata": {
    "id": "RxkY6xk9GrB5"
   },
   "outputs": [
    {
     "name": "stdout",
     "output_type": "stream",
     "text": [
      "EE.UU\n",
      "1994\n",
      "drama\n",
      "['Sueños de fuga', 'EE.UU', 1994, 'drama', 142, 9.111]\n"
     ]
    }
   ],
   "source": [
    "print(movies_info[-1][1])\n",
    "print(movies_info[5][2])\n",
    "print(movies_info[3][-3])\n",
    "print(movies_info[0])"
   ]
  },
  {
   "cell_type": "markdown",
   "metadata": {
    "id": "kNTC4hmhG3R9"
   },
   "source": [
    "## Recorrer listas anidadas con un bucle"
   ]
  },
  {
   "cell_type": "markdown",
   "metadata": {
    "id": "csU7QxfYG621"
   },
   "source": [
    "Ya hemos visto cómo recorrer, acceder y utilizar o modificar listas normales con bucles `for`.\n",
    "\n",
    "Se puede hacer lo mismo con las listas anidadas."
   ]
  },
  {
   "cell_type": "markdown",
   "metadata": {
    "id": "c_Z6PrBBHO0X"
   },
   "source": [
    "### Ejemplo 3\n",
    "¿Qué va a imprimir el siguiente bucle `for`?"
   ]
  },
  {
   "cell_type": "code",
   "execution_count": 6,
   "metadata": {
    "colab": {
     "base_uri": "https://localhost:8080/"
    },
    "executionInfo": {
     "elapsed": 217,
     "status": "ok",
     "timestamp": 1709075300869,
     "user": {
      "displayName": "Juan Felipe Nájera",
      "userId": "12739768035030133691"
     },
     "user_tz": 300
    },
    "id": "kyX4fed5n3wr",
    "outputId": "669ec109-9f29-427b-9b5a-1707cbbcbb38"
   },
   "outputs": [
    {
     "name": "stdout",
     "output_type": "stream",
     "text": [
      "1\n",
      "23\n",
      "45\n",
      "256\n"
     ]
    }
   ],
   "source": [
    "lista = [1,23,45,256]\n",
    "\n",
    "for number in lista:\n",
    "    print(number)"
   ]
  },
  {
   "cell_type": "code",
   "execution_count": 7,
   "metadata": {
    "colab": {
     "base_uri": "https://localhost:8080/"
    },
    "executionInfo": {
     "elapsed": 200,
     "status": "ok",
     "timestamp": 1709075310552,
     "user": {
      "displayName": "Juan Felipe Nájera",
      "userId": "12739768035030133691"
     },
     "user_tz": 300
    },
    "id": "mIPeefqeIvR3",
    "outputId": "9ae0f93e-4ee0-4c7f-aace-e955d900c2c8"
   },
   "outputs": [
    {
     "name": "stdout",
     "output_type": "stream",
     "text": [
      "['Sueños de fuga', 'EE.UU', 1994, 'drama', 142, 9.111]\n",
      "['El padrino', 'EE.UU', 1972, 'drama, crimen', 175, 8.73]\n",
      "['Batman: El caballero de la noche', 'EE.UU', 2008, 'fantasía, acción, thriller', 152, 8.499]\n",
      "['La lista de Schindler', 'EE.UU', 1993, 'drama', 195, 8.818]\n",
      "['El señor de los anillos: el retorno del rey', 'New Zealand', 2003, 'fantasía, adventure, drama', 201, 8.625]\n",
      "['Tiempos violentos', 'EE.UU', 1994, 'thriller, comedia, crimen', 154, 8.619]\n",
      "['El bueno, el malo y el feo', 'Italia', 1966, 'western', 178, 8.521]\n",
      "['El club de la pelea', 'EE.UU', 1999, 'thriller, drama, crimen', 139, 8.644]\n",
      "['Harakiri', 'Japan', 1962, 'drama, acción, histórico', 133, 8.106]\n",
      "['Mente indomable', 'EE.UU', 1997, 'drama, romance', 126, 8.077]\n"
     ]
    }
   ],
   "source": [
    "movies_info = [\n",
    "    ['Sueños de fuga', 'EE.UU', 1994, 'drama', 142, 9.111],\n",
    "    ['El padrino', 'EE.UU', 1972, 'drama, crimen', 175, 8.730],\n",
    "    ['Batman: El caballero de la noche', 'EE.UU', 2008, 'fantasía, acción, thriller', 152, 8.499],\n",
    "    ['La lista de Schindler', 'EE.UU', 1993, 'drama', 195, 8.818],\n",
    "    ['El señor de los anillos: el retorno del rey', 'New Zealand', 2003, 'fantasía, adventure, drama', 201, 8.625],\n",
    "    ['Tiempos violentos', 'EE.UU', 1994, 'thriller, comedia, crimen', 154, 8.619],\n",
    "    ['El bueno, el malo y el feo', 'Italia', 1966, 'western', 178, 8.521],\n",
    "    ['El club de la pelea', 'EE.UU', 1999, 'thriller, drama, crimen', 139, 8.644],\n",
    "    ['Harakiri', 'Japan', 1962, 'drama, acción, histórico', 133, 8.106],\n",
    "    ['Mente indomable', 'EE.UU', 1997, 'drama, romance', 126, 8.077]\n",
    "]\n",
    "\n",
    "for row in movies_info:\n",
    "    print(row)"
   ]
  },
  {
   "cell_type": "markdown",
   "metadata": {
    "id": "cW_cGDftI1Ph"
   },
   "source": [
    "¿Y el siguiente? ❓"
   ]
  },
  {
   "cell_type": "code",
   "execution_count": 8,
   "metadata": {
    "id": "BntwbzTvI3C5"
   },
   "outputs": [
    {
     "name": "stdout",
     "output_type": "stream",
     "text": [
      "drama\n",
      "drama, crimen\n",
      "fantasía, acción, thriller\n",
      "drama\n",
      "fantasía, adventure, drama\n",
      "thriller, comedia, crimen\n",
      "western\n",
      "thriller, drama, crimen\n",
      "drama, acción, histórico\n",
      "drama, romance\n"
     ]
    }
   ],
   "source": [
    "for row in movies_info:\n",
    "    print(row[3])"
   ]
  },
  {
   "cell_type": "markdown",
   "metadata": {
    "id": "vMojGZ-PI54h"
   },
   "source": [
    "Estamos accediendo solo la información de la columna Título.\n",
    "\n",
    "¿Cómo mostramos la información de la columna título y género?"
   ]
  },
  {
   "cell_type": "code",
   "execution_count": null,
   "metadata": {
    "id": "Pu5PgbSqKn4Q"
   },
   "outputs": [],
   "source": [
    "for row in movies_info:\n",
    "    print(f\"Título: {row[0]}. Género: {row[-3]}\")"
   ]
  },
  {
   "cell_type": "markdown",
   "metadata": {
    "id": "6PBeG_I_JE9f"
   },
   "source": [
    "### Ejemplo 4\n",
    "¿Cómo recorremos todos los elementos de la lista principal? ❓"
   ]
  },
  {
   "cell_type": "code",
   "execution_count": null,
   "metadata": {
    "executionInfo": {
     "elapsed": 1,
     "status": "ok",
     "timestamp": 1709075386651,
     "user": {
      "displayName": "Juan Felipe Nájera",
      "userId": "12739768035030133691"
     },
     "user_tz": 300
    },
    "id": "DsPBJ_9DpWDz"
   },
   "outputs": [],
   "source": [
    "movies_info = [\n",
    "    ['Sueños de fuga', 'EE.UU', 1994, 'drama', 142, 9.111],\n",
    "    ['El padrino', 'EE.UU', 1972, 'drama, crimen', 175, 8.730],\n",
    "    ['Batman: El caballero de la noche', 'EE.UU', 2008, 'fantasía, acción, thriller', 152, 8.499],\n",
    "    ['La lista de Schindler', 'EE.UU', 1993, 'drama', 195, 8.818],\n",
    "    ['El señor de los anillos: el retorno del rey', 'New Zealand', 2003, 'fantasía, adventure, drama', 201, 8.625],\n",
    "    ['Tiempos violentos', 'EE.UU', 1994, 'thriller, comedia, crimen', 154, 8.619],\n",
    "    ['El bueno, el malo y el feo', 'Italia', 1966, 'western', 178, 8.521],\n",
    "    ['El club de la pelea', 'EE.UU', 1999, 'thriller, drama, crimen', 139, 8.644],\n",
    "    ['Harakiri', 'Japan', 1962, 'drama, acción, histórico', 133, 8.106],\n",
    "    ['Mente indomable', 'EE.UU', 1997, 'drama, romance', 126, 8.077]\n",
    "]"
   ]
  },
  {
   "cell_type": "code",
   "execution_count": 11,
   "metadata": {
    "colab": {
     "base_uri": "https://localhost:8080/"
    },
    "executionInfo": {
     "elapsed": 188,
     "status": "ok",
     "timestamp": 1709075503597,
     "user": {
      "displayName": "Juan Felipe Nájera",
      "userId": "12739768035030133691"
     },
     "user_tz": 300
    },
    "id": "HxEy8I-eLW3-",
    "outputId": "5d5ff825-fc3a-4852-bd7f-77d9d8bb15e9"
   },
   "outputs": [
    {
     "name": "stdout",
     "output_type": "stream",
     "text": [
      "Sueños de fuga\n",
      "EE.UU\n",
      "1994\n",
      "drama\n",
      "142\n",
      "9.111\n",
      "\n",
      "El padrino\n",
      "EE.UU\n",
      "1972\n",
      "drama, crimen\n",
      "175\n",
      "8.73\n",
      "\n",
      "Batman: El caballero de la noche\n",
      "EE.UU\n",
      "2008\n",
      "fantasía, acción, thriller\n",
      "152\n",
      "8.499\n",
      "\n",
      "La lista de Schindler\n",
      "EE.UU\n",
      "1993\n",
      "drama\n",
      "195\n",
      "8.818\n",
      "\n",
      "El señor de los anillos: el retorno del rey\n",
      "New Zealand\n",
      "2003\n",
      "fantasía, adventure, drama\n",
      "201\n",
      "8.625\n",
      "\n",
      "Tiempos violentos\n",
      "EE.UU\n",
      "1994\n",
      "thriller, comedia, crimen\n",
      "154\n",
      "8.619\n",
      "\n",
      "El bueno, el malo y el feo\n",
      "Italia\n",
      "1966\n",
      "western\n",
      "178\n",
      "8.521\n",
      "\n",
      "El club de la pelea\n",
      "EE.UU\n",
      "1999\n",
      "thriller, drama, crimen\n",
      "139\n",
      "8.644\n",
      "\n",
      "Harakiri\n",
      "Japan\n",
      "1962\n",
      "drama, acción, histórico\n",
      "133\n",
      "8.106\n",
      "\n",
      "Mente indomable\n",
      "EE.UU\n",
      "1997\n",
      "drama, romance\n",
      "126\n",
      "8.077\n",
      "\n"
     ]
    }
   ],
   "source": [
    "for sublist in movies_info:   # recorremos cada sublista\n",
    "  for element in sublist:     # recorremos cada elemento de la sublista\n",
    "    print(element)            # mostramos un elemento de la fila actual\n",
    "  print(\"\")                   # añadimos una línea extra después que todos los elementos de la fila hayan sido mostrados"
   ]
  },
  {
   "cell_type": "markdown",
   "metadata": {
    "id": "L9A3yW2PMBfz"
   },
   "source": [
    "**Explicación**:\n",
    "1. El primer bucle analiza cada sublista y llama al segundo bucle en cada una de estas.\n",
    "2. El segundo bucle revisa e imprime en pantalla los elementos de la sublista.\n",
    "3. Cuando el segundo bucle termina, el primero llama a la función `print()` para añadir una línea vacía.\n",
    "4. Finalmente, el primer bucle continúa con la siguiente sublista y todos los pasos se repiten, hasta llegar a la última sublista y último elemento."
   ]
  },
  {
   "cell_type": "markdown",
   "metadata": {
    "id": "ldgS6IiFMjI3"
   },
   "source": [
    "**Sintaxis de bucles anidados**:\n",
    "* Tomar en cuenta que el segundo `for` tiene varios espacios o sangría adicional, al igual que la instrucción de ese bucle `for`.\n",
    "\n",
    "      for row in movies_info:\n",
    "        for column in row:\n",
    "          print(column)\n",
    "        print(\"\")\n",
    "\n",
    "**IMPORTANTE**\n",
    "\n",
    "---\n",
    "El espacio en cada bucle o sentencia es importante, porque le dice a Python **dónde termina una estructura y empieza otra.**"
   ]
  },
  {
   "cell_type": "markdown",
   "metadata": {
    "id": "AMxrpBEWOF7g"
   },
   "source": [
    "### Ejemplo 5\n",
    "¿Cómo podemos obtener la duración total de las películas? ❓"
   ]
  },
  {
   "cell_type": "code",
   "execution_count": 19,
   "metadata": {
    "executionInfo": {
     "elapsed": 2,
     "status": "ok",
     "timestamp": 1709075605095,
     "user": {
      "displayName": "Juan Felipe Nájera",
      "userId": "12739768035030133691"
     },
     "user_tz": 300
    },
    "id": "5fH6O1eLN-KO"
   },
   "outputs": [],
   "source": [
    "movies_info = [\n",
    "    ['Sueños de fuga', 'EE.UU', 1994, 'drama', 142, 9.111],\n",
    "    ['El padrino', 'EE.UU', 1972, 'drama, crimen', 175, 8.730],\n",
    "    ['Batman: El caballero de la noche', 'EE.UU', 2008, 'fantasía, acción, thriller', 152, 8.499],\n",
    "    ['La lista de Schindler', 'EE.UU', 1993, 'drama', 195, 8.818],\n",
    "    ['El señor de los anillos: el retorno del rey', 'New Zealand', 2003, 'fantasía, adventure, drama', 201, 8.625],\n",
    "    ['Tiempos violentos', 'EE.UU', 1994, 'thriller, comedia, crimen', 154, 8.619],\n",
    "    ['El bueno, el malo y el feo', 'Italia', 1966, 'western', 178, 8.521],\n",
    "    ['El club de la pelea', 'EE.UU', 1999, 'thriller, drama, crimen', 139, 8.644],\n",
    "    ['Harakiri', 'Japan', 1962, 'drama, acción, histórico', 133, 8.106],\n",
    "    ['Mente indomable', 'EE.UU', 1997, 'drama, romance', 126, 8.077]\n",
    "]"
   ]
  },
  {
   "cell_type": "code",
   "execution_count": 20,
   "metadata": {
    "colab": {
     "base_uri": "https://localhost:8080/"
    },
    "executionInfo": {
     "elapsed": 209,
     "status": "ok",
     "timestamp": 1709075607200,
     "user": {
      "displayName": "Juan Felipe Nájera",
      "userId": "12739768035030133691"
     },
     "user_tz": 300
    },
    "id": "O2rF6F3gPca6",
    "outputId": "e8e8c6e7-a140-45ce-b893-2424b442ac59"
   },
   "outputs": [
    {
     "name": "stdout",
     "output_type": "stream",
     "text": [
      "1595\n"
     ]
    }
   ],
   "source": [
    "timing_total = 0              # el contador establece su valor en 0 antes de lanzar el bucle\n",
    "\n",
    "for movie in movies_info:     # el iterador de películas accede a cada sublista por turno\n",
    "    timing_total += movie[-2] # añadimos la duración de la película al contador, timing_total = timing_total + movies[-2]\n",
    "\n",
    "print(timing_total)           # se imprime el resultado final"
   ]
  },
  {
   "cell_type": "markdown",
   "metadata": {
    "id": "483O5pJXQDp0"
   },
   "source": [
    "### Ejemplo 6\n",
    "¿Cómo podemos obtener el promedio del rating de todas las películas? ❓"
   ]
  },
  {
   "cell_type": "code",
   "execution_count": 25,
   "metadata": {
    "executionInfo": {
     "elapsed": 221,
     "status": "ok",
     "timestamp": 1709075645980,
     "user": {
      "displayName": "Juan Felipe Nájera",
      "userId": "12739768035030133691"
     },
     "user_tz": 300
    },
    "id": "evwukUasQPgR"
   },
   "outputs": [],
   "source": [
    "movies_info = [\n",
    "    ['Sueños de fuga', 'EE.UU', 1994, 'drama', 142, 9.111],\n",
    "    ['El padrino', 'EE.UU', 1972, 'drama, crimen', 175, 8.730],\n",
    "    ['Batman: El caballero de la noche', 'EE.UU', 2008, 'fantasía, acción, thriller', 152, 8.499],\n",
    "    ['La lista de Schindler', 'EE.UU', 1993, 'drama', 195, 8.818],\n",
    "    ['El señor de los anillos: el retorno del rey', 'New Zealand', 2003, 'fantasía, adventure, drama', 201, 8.625],\n",
    "    ['Tiempos violentos', 'EE.UU', 1994, 'thriller, comedia, crimen', 154, 8.619],\n",
    "    ['El bueno, el malo y el feo', 'Italia', 1966, 'western', 178, 8.521],\n",
    "    ['El club de la pelea', 'EE.UU', 1999, 'thriller, drama, crimen', 139, 8.644],\n",
    "    ['Harakiri', 'Japan', 1962, 'drama, acción, histórico', 133, 8.106],\n",
    "    ['Mente indomable', 'EE.UU', 1997, 'drama, romance', 126, 8.077]\n",
    "]"
   ]
  },
  {
   "cell_type": "code",
   "execution_count": null,
   "metadata": {
    "colab": {
     "base_uri": "https://localhost:8080/"
    },
    "executionInfo": {
     "elapsed": 215,
     "status": "ok",
     "timestamp": 1709075649994,
     "user": {
      "displayName": "Juan Felipe Nájera",
      "userId": "12739768035030133691"
     },
     "user_tz": 300
    },
    "id": "T17caBmrsFkU",
    "outputId": "daa6cffe-8167-47af-ee59-6166e68e5f6f"
   },
   "outputs": [],
   "source": [
    "len(movies_info)"
   ]
  },
  {
   "cell_type": "code",
   "execution_count": null,
   "metadata": {
    "colab": {
     "base_uri": "https://localhost:8080/"
    },
    "executionInfo": {
     "elapsed": 200,
     "status": "ok",
     "timestamp": 1709075654082,
     "user": {
      "displayName": "Juan Felipe Nájera",
      "userId": "12739768035030133691"
     },
     "user_tz": 300
    },
    "id": "RVsCvW11QR1W",
    "outputId": "6fd67774-d13a-4590-9bc2-e0b915638e03"
   },
   "outputs": [],
   "source": [
    "total_rating = 0                # contador en 0\n",
    "\n",
    "for movie in movies_info:       # accede a cada película\n",
    "    total_rating += movie[-1]   # se suma el valor de cada rating de cada película\n",
    "\n",
    "mean_rating = total_rating/len(movies_info)       # se divide la suma total por la cantidad de películas en movies_info\n",
    "print(mean_rating)              # se imprime el resultado final"
   ]
  },
  {
   "cell_type": "code",
   "execution_count": null,
   "metadata": {
    "id": "dr-hJar6zYx6"
   },
   "outputs": [],
   "source": [
    "print(len(movies_info))"
   ]
  },
  {
   "cell_type": "markdown",
   "metadata": {
    "id": "kccdl25KXC9s"
   },
   "source": [
    "## Manipulación de columnas"
   ]
  },
  {
   "cell_type": "markdown",
   "metadata": {
    "id": "XEA-PE87XG_l"
   },
   "source": [
    "Con el bucle `for` y los métodos que se han aprendido, se puede modificar información de las listas anidadas."
   ]
  },
  {
   "cell_type": "markdown",
   "metadata": {
    "id": "geOPotiaXQdu"
   },
   "source": [
    "### Ejemplo 7\n",
    "Queremos añadir un nuevo elemento `Plataforma en línea` al final de cada sublista.\n",
    "\n",
    "¿Cómo lo hacemos?"
   ]
  },
  {
   "cell_type": "code",
   "execution_count": 28,
   "metadata": {
    "executionInfo": {
     "elapsed": 187,
     "status": "ok",
     "timestamp": 1709075716983,
     "user": {
      "displayName": "Juan Felipe Nájera",
      "userId": "12739768035030133691"
     },
     "user_tz": 300
    },
    "id": "9fmg1UqMXZtg"
   },
   "outputs": [],
   "source": [
    "movies_info = [\n",
    "    ['Sueños de fuga', 'EE.UU', 1994, 'drama', 142, 9.111],\n",
    "    ['El padrino', 'EE.UU', 1972, 'drama, crimen', 175, 8.730],\n",
    "    ['Batman: El caballero de la noche', 'EE.UU', 2008, 'fantasía, acción, thriller', 152, 8.499],\n",
    "    ['La lista de Schindler', 'EE.UU', 1993, 'drama', 195, 8.818],\n",
    "    ['El señor de los anillos: el retorno del rey', 'New Zealand', 2003, 'fantasía, adventure, drama', 201, 8.625],\n",
    "    ['Tiempos violentos', 'EE.UU', 1994, 'thriller, comedia, crimen', 154, 8.619],\n",
    "    ['El bueno, el malo y el feo', 'Italia', 1966, 'western', 178, 8.521],\n",
    "    ['El club de la pelea', 'EE.UU', 1999, 'thriller, drama, crimen', 139, 8.644],\n",
    "    ['Harakiri', 'Japan', 1962, 'drama, acción, histórico', 133, 8.106],\n",
    "    ['Mente indomable', 'EE.UU', 1997, 'drama, romance', 126, 8.077]\n",
    "]"
   ]
  },
  {
   "cell_type": "code",
   "execution_count": 29,
   "metadata": {
    "executionInfo": {
     "elapsed": 214,
     "status": "ok",
     "timestamp": 1709075719484,
     "user": {
      "displayName": "Juan Felipe Nájera",
      "userId": "12739768035030133691"
     },
     "user_tz": 300
    },
    "id": "IoS6omIJXcCP"
   },
   "outputs": [],
   "source": [
    "for movie in movies_info:\n",
    "    movie.append('Plataforma en línea')    # método append añade un elemento al final de la lista"
   ]
  },
  {
   "cell_type": "code",
   "execution_count": null,
   "metadata": {
    "colab": {
     "base_uri": "https://localhost:8080/"
    },
    "executionInfo": {
     "elapsed": 4,
     "status": "ok",
     "timestamp": 1709075721120,
     "user": {
      "displayName": "Juan Felipe Nájera",
      "userId": "12739768035030133691"
     },
     "user_tz": 300
    },
    "id": "mEgDtaXmq-yV",
    "outputId": "7c015be0-431d-4441-c306-bcad60dd8792"
   },
   "outputs": [],
   "source": [
    "for movie in movies_info:                  # se imprime cada fila\n",
    "\t  print(movie)"
   ]
  },
  {
   "cell_type": "markdown",
   "metadata": {
    "id": "q6EKKjqFXqV8"
   },
   "source": [
    "Para que nuestra tabla se vea mejor, se puede utilizar las `F-strings` y el parámetro `end` de `print()` para establecer el mismo tamaño en todas las celdas."
   ]
  },
  {
   "cell_type": "code",
   "execution_count": null,
   "metadata": {
    "colab": {
     "base_uri": "https://localhost:8080/"
    },
    "executionInfo": {
     "elapsed": 233,
     "status": "ok",
     "timestamp": 1709075750031,
     "user": {
      "displayName": "Juan Felipe Nájera",
      "userId": "12739768035030133691"
     },
     "user_tz": 300
    },
    "id": "y7cs0SB6X1Sy",
    "outputId": "ea1e7100-9dee-4de8-cd9c-20731159aec7"
   },
   "outputs": [],
   "source": [
    "for movie in movies_info:             # para cada sublista de una lista\n",
    "    for elem in movie:                # recorrer cada elemento de la sublista\n",
    "        print(f'{elem:<46}', end='')  # alineación izquierda con una longitud de string fija de 46, se completa con espacios \"señor de los anillos\"\n",
    "    print()                           # pasar a una nueva línea después de mostrar los datos de cada película"
   ]
  },
  {
   "cell_type": "markdown",
   "metadata": {
    "id": "X79XmDH9YeVB"
   },
   "source": [
    "Con el bucle `for` se puede manipular varias columnas a la vez."
   ]
  },
  {
   "cell_type": "markdown",
   "metadata": {
    "id": "_z3bLVIMZ0jy"
   },
   "source": [
    "### Ejemplo 8\n",
    "Con la siguiente información, queremos conseguir la media de la calificación de usuarios y la calificación IMDB."
   ]
  },
  {
   "cell_type": "code",
   "execution_count": 34,
   "metadata": {
    "executionInfo": {
     "elapsed": 189,
     "status": "ok",
     "timestamp": 1709075874926,
     "user": {
      "displayName": "Juan Felipe Nájera",
      "userId": "12739768035030133691"
     },
     "user_tz": 300
    },
    "id": "0u6Vym75ZtcA"
   },
   "outputs": [],
   "source": [
    "movies_info = [\n",
    "    ['Sueños de fuga', 'EE.UU', 1994, 'drama', 142, 9.111, 9.3],\n",
    "    ['El padrino', 'EE.UU', 1972, 'drama, crimen', 175, 8.730, 9.2],\n",
    "    ['Batman: El caballero de la noche', 'EE.UU', 2008, 'fantasía, acción, thriller', 152, 8.499, 8.9],\n",
    "    ['La lista de Schindler', 'EE.UU', 1993, 'drama', 195, 8.818, 8.9],\n",
    "    ['El señor de los anillos: el retorno del rey', 'New Zealand', 2003, 'fantasía, adventure, drama', 201, 8.625, 8.9],\n",
    "    ['Tiempos violentos', 'EE.UU', 1994, 'thriller, comedia, crimen', 154, 8.619, 8.9],\n",
    "    ['El bueno, el malo y el feo', 'Italia', 1966, 'western', 178, 8.521, 8.8],\n",
    "    ['El club de la pelea', 'EE.UU', 1999, 'thriller, drama, crimen', 139, 8.644, 8.8],\n",
    "    ['Harakiri', 'Japan', 1962, 'drama, acción, histórico', 133, 8.106, 8.7],\n",
    "    ['Mente indomable', 'EE.UU', 1997, 'drama, romance', 126, 8.077, 8.3]\n",
    "]"
   ]
  },
  {
   "cell_type": "code",
   "execution_count": null,
   "metadata": {
    "colab": {
     "base_uri": "https://localhost:8080/"
    },
    "executionInfo": {
     "elapsed": 203,
     "status": "ok",
     "timestamp": 1709075877228,
     "user": {
      "displayName": "Juan Felipe Nájera",
      "userId": "12739768035030133691"
     },
     "user_tz": 300
    },
    "id": "cblJocJDaHNf",
    "outputId": "1a4fb843-338f-4103-ae36-0d423b1a0477"
   },
   "outputs": [],
   "source": [
    "for movie in movies_info:                             # recorremos las sublistas\n",
    "    avg_rating = round((movie[5] + movie[6]) / 2, 5)  # recuperamos dos valores de calificación de la lista actual, sumamos, dividimos entre 2\n",
    "    movie.append(avg_rating)                          # añadimos el valor resultante al final de la lista actual\n",
    "\n",
    "for movie in movies_info:\n",
    "    for elem in movie:\n",
    "        print(f'{elem:<46}', end='')\n",
    "    print()"
   ]
  },
  {
   "cell_type": "markdown",
   "metadata": {
    "id": "GARddl5Ycw2i"
   },
   "source": [
    "## Filtrar tablas"
   ]
  },
  {
   "cell_type": "markdown",
   "metadata": {
    "id": "TEfmk9k5cz36"
   },
   "source": [
    "**Uso de filtros**\n",
    "\n",
    "Se ha aprendido lo siguiente:\n",
    "* Las listas anidadas se pueden utilizar para **almacenar tablas**.\n",
    "* Los bucles **recorren** sublistas o valores dentro de ellas.\n",
    "* Los **operadores condicionales** (`if`, `else`, `elif`) cambian el comportamiento del código dependiendo de ciertos criterios."
   ]
  },
  {
   "cell_type": "markdown",
   "metadata": {
    "id": "A3RFZubEf2PD"
   },
   "source": [
    "Al reunir estos tres hechos, se puede obtener el concepto de un **filtro**:\n",
    "* Herramienta para procesar una tabla seleccionando solo los datos que cumplen una condición determinada y utilizándolos para crear una nueva tabla."
   ]
  },
  {
   "cell_type": "markdown",
   "metadata": {
    "id": "2CQOMlMog3De"
   },
   "source": [
    "### Ejemplo 9\n",
    "Creemos un filtro que almacene películas de más de 180 minutos en una nueva lista anidada en `movies_info`."
   ]
  },
  {
   "cell_type": "code",
   "execution_count": 36,
   "metadata": {
    "executionInfo": {
     "elapsed": 222,
     "status": "ok",
     "timestamp": 1709075952810,
     "user": {
      "displayName": "Juan Felipe Nájera",
      "userId": "12739768035030133691"
     },
     "user_tz": 300
    },
    "id": "4YrhCeiYdTJ0"
   },
   "outputs": [],
   "source": [
    "movies_info = [\n",
    "    ['Sueños de fuga', 'EE.UU.', 1994, 'drama', 142, 9.111],\n",
    "    ['El padrino', 'EE.UU.', 1972, 'drama, crimen', 175, 8.730],\n",
    "    ['Batman: El caballero de la noche', 'EE.UU.', 2008, 'fantasía, acción, thriller', 152, 8.499],\n",
    "    ['La lista de Schindler', 'EE.UU.', 1993, 'drama', 195, 8.818],\n",
    "    ['El señor de los anillos: el retorno del rey', 'New Zealand', 2003, 'fantasía, adventure, drama', 201, 8.625],\n",
    "    ['Tiempos violentos', 'EE.UU.', 1994, 'thriller, comedia, crimen', 154, 8.619],\n",
    "    ['El bueno, el malo y el feo', 'Italia', 1966, 'western', 178, 8.521],\n",
    "    ['El club de la pelea', 'EE.UU.', 1999, 'thriller, drama, crimen', 139, 8.644],\n",
    "    ['Harakiri', 'Japan', 1962, 'drama, acción, histórico', 133, 8.106],\n",
    "    ['Mente indomable', 'EE.UU.', 1997, 'drama, romance', 126, 8.077]\n",
    "]"
   ]
  },
  {
   "cell_type": "code",
   "execution_count": null,
   "metadata": {
    "colab": {
     "base_uri": "https://localhost:8080/"
    },
    "executionInfo": {
     "elapsed": 203,
     "status": "ok",
     "timestamp": 1709076040981,
     "user": {
      "displayName": "Juan Felipe Nájera",
      "userId": "12739768035030133691"
     },
     "user_tz": 300
    },
    "id": "MAfnlNw2hBsm",
    "outputId": "1c2f5e00-3c9f-4878-d180-30a3601c62e1"
   },
   "outputs": [],
   "source": [
    "movies_filtered = []                  # una lista vacía para almacenar el resultado\n",
    "\n",
    "for movie in movies_info:             # un bucle sobre las filas de la tabla original\n",
    "    if movie[-2] > 140:                # si una película dura más de 180 minutos\n",
    "        movies_filtered.append(movie) # agrega la fila a movies_filtered\n",
    "\n",
    "for movie in movies_filtered:         # mostrando el contenido de movies_filtered\n",
    "    print(movie)"
   ]
  },
  {
   "cell_type": "markdown",
   "metadata": {
    "id": "0f-Oe0nahUWO"
   },
   "source": [
    "**Partes de un filtro**\n",
    "\n",
    "Un filtro para una lista de listas consta de tres partes:\n",
    "* **Una variable** con una lista vacía para añadir las filas correspondientes.\n",
    "* **Un bucle** que recorreo la lista de listas original y ejecuta la condición `if` para cada sublista.\n",
    "* **Una construcción condicional** con `if`. Si una sublista cumple la condición, se almacenará en la variable que almacena los resultados."
   ]
  },
  {
   "cell_type": "markdown",
   "metadata": {
    "id": "dlcxuT9Xh3Rl"
   },
   "source": [
    "### Ejemplo 10\n",
    "Realicemos un filtro para almacenar todas las películas japonesas en una nueva lista:"
   ]
  },
  {
   "cell_type": "code",
   "execution_count": 39,
   "metadata": {
    "executionInfo": {
     "elapsed": 211,
     "status": "ok",
     "timestamp": 1709076064458,
     "user": {
      "displayName": "Juan Felipe Nájera",
      "userId": "12739768035030133691"
     },
     "user_tz": 300
    },
    "id": "2NyyMFtshyOs"
   },
   "outputs": [],
   "source": [
    "movies_info = [\n",
    "    ['Sueños de fuga', 'EE.UU.', 1994, 'drama', 142, 9.111],\n",
    "    ['El padrino', 'EE.UU.', 1972, 'drama, crimen', 175, 8.730],\n",
    "    ['Batman: El caballero de la noche', 'EE.UU.', 2008, 'fantasía, acción, thriller', 152, 8.499],\n",
    "    ['La lista de Schindler', 'EE.UU.', 1993, 'drama', 195, 8.818],\n",
    "    ['El señor de los anillos: el retorno del rey', 'New Zealand', 2003, 'fantasía, adventure, drama', 201, 8.625],\n",
    "    ['Tiempos violentos', 'EE.UU.', 1994, 'thriller, comedia, crimen', 154, 8.619],\n",
    "    ['El bueno, el malo y el feo', 'Italia', 1966, 'western', 178, 8.521],\n",
    "    ['El club de la pelea', 'EE.UU.', 1999, 'thriller, drama, crimen', 139, 8.644],\n",
    "    ['Harakiri', 'Japan', 1962, 'drama, acción, histórico', 133, 8.106],\n",
    "    ['Mente indomable', 'EE.UU.', 1997, 'drama, romance', 126, 8.077]\n",
    "]"
   ]
  },
  {
   "cell_type": "code",
   "execution_count": null,
   "metadata": {
    "colab": {
     "base_uri": "https://localhost:8080/"
    },
    "executionInfo": {
     "elapsed": 203,
     "status": "ok",
     "timestamp": 1709076073044,
     "user": {
      "displayName": "Juan Felipe Nájera",
      "userId": "12739768035030133691"
     },
     "user_tz": 300
    },
    "id": "uKywBYgQh-hF",
    "outputId": "ee8ac5fb-a498-41ea-c373-05ff7cbbb394"
   },
   "outputs": [],
   "source": [
    "movies_filtered = []                  # una lista vacía para almacenar el resultado\n",
    "\n",
    "for movie in movies_info:             # un bucle sobre las filas de la tabla original\n",
    "    if movie[1] == 'Japan':           # si una película es de Japón,\n",
    "        movies_filtered.append(movie) # agrega la fila a movies_filtered\n",
    "\n",
    "for movie in movies_filtered:         # mostrando el contenido de movies_filtered\n",
    "    print(movie)"
   ]
  },
  {
   "cell_type": "markdown",
   "metadata": {
    "id": "exsC616GiW1k"
   },
   "source": [
    "#### Operadores lógicos y filtros"
   ]
  },
  {
   "cell_type": "markdown",
   "metadata": {
    "id": "rY2Pxbtgie4z"
   },
   "source": [
    "Se puede crear un algoritmo filtrado más inteligente utilizando varias condicionaes unidas por operadores lógicos."
   ]
  },
  {
   "cell_type": "markdown",
   "metadata": {
    "id": "f7vGDJJpiqa8"
   },
   "source": [
    "##### Ejemplo 11\n",
    "Encontremos las películas producidas en Italia o con una calificación superior a 9."
   ]
  },
  {
   "cell_type": "code",
   "execution_count": 41,
   "metadata": {
    "executionInfo": {
     "elapsed": 203,
     "status": "ok",
     "timestamp": 1709076086302,
     "user": {
      "displayName": "Juan Felipe Nájera",
      "userId": "12739768035030133691"
     },
     "user_tz": 300
    },
    "id": "1uoL62hciqDM"
   },
   "outputs": [],
   "source": [
    "movies_info = [\n",
    "    ['Sueños de fuga', 'EE.UU.', 1994, 'drama', 142, 9.111],\n",
    "    ['El padrino', 'EE.UU.', 1972, 'drama, crimen', 175, 8.730],\n",
    "    ['Batman: El caballero de la noche', 'EE.UU.', 2008, 'fantasía, acción, thriller', 152, 8.499],\n",
    "    ['La lista de Schindler', 'EE.UU.', 1993, 'drama', 195, 8.818],\n",
    "    ['El señor de los anillos: el retorno del rey', 'New Zealand', 2003, 'fantasía, adventure, drama', 201, 8.625],\n",
    "    ['Tiempos violentos', 'EE.UU.', 1994, 'thriller, comedia, crimen', 154, 8.619],\n",
    "    ['El bueno, el malo y el feo', 'Italia', 1966, 'western', 178, 8.521],\n",
    "    ['El club de la pelea', 'EE.UU.', 1999, 'thriller, drama, crimen', 139, 8.644],\n",
    "    ['Harakiri', 'Japan', 1962, 'drama, acción, histórico', 133, 8.106],\n",
    "    ['Mente indomable', 'EE.UU.', 1997, 'drama, romance', 126, 8.077]\n",
    "]"
   ]
  },
  {
   "cell_type": "code",
   "execution_count": null,
   "metadata": {
    "colab": {
     "base_uri": "https://localhost:8080/"
    },
    "executionInfo": {
     "elapsed": 202,
     "status": "ok",
     "timestamp": 1709076110109,
     "user": {
      "displayName": "Juan Felipe Nájera",
      "userId": "12739768035030133691"
     },
     "user_tz": 300
    },
    "id": "sXq-TdQvizEb",
    "outputId": "dfe2fe7f-d454-4175-b926-93fd0b200d3e"
   },
   "outputs": [],
   "source": [
    "movies_filtered = []\n",
    "\n",
    "for movie in movies_info:                     # un bucle sobre cada película\n",
    "    if movie[1] == \"Italia\" or movie[-1] > 9:\n",
    "        movies_filtered.append(movie)         # añadimos una película a la lista\n",
    "\n",
    "for movie in movies_filtered:\n",
    "    print(movie)"
   ]
  },
  {
   "cell_type": "markdown",
   "metadata": {
    "id": "jLLRce_ji5jz"
   },
   "source": [
    "##### Ejemplo 12\n",
    "Encontremos las películas que se produjeron en Estados Unidos y duran más de 150 min."
   ]
  },
  {
   "cell_type": "code",
   "execution_count": 43,
   "metadata": {
    "executionInfo": {
     "elapsed": 198,
     "status": "ok",
     "timestamp": 1709076140674,
     "user": {
      "displayName": "Juan Felipe Nájera",
      "userId": "12739768035030133691"
     },
     "user_tz": 300
    },
    "id": "CBcvFUrxjAEV"
   },
   "outputs": [],
   "source": [
    "movies_info = [\n",
    "    ['Sueños de fuga', 'EE.UU.', 1994, 'drama', 142, 9.111],\n",
    "    ['El padrino', 'EE.UU.', 1972, 'drama, crimen', 175, 8.730],\n",
    "    ['Batman: El caballero de la noche', 'EE.UU.', 2008, 'fantasía, acción, thriller', 152, 8.499],\n",
    "    ['La lista de Schindler', 'EE.UU.', 1993, 'drama', 195, 8.818],\n",
    "    ['El señor de los anillos: el retorno del rey', 'New Zealand', 2003, 'fantasía, adventure, drama', 201, 8.625],\n",
    "    ['Tiempos violentos', 'EE.UU.', 1994, 'thriller, comedia, crimen', 154, 8.619],\n",
    "    ['El bueno, el malo y el feo', 'Italia', 1966, 'western', 178, 8.521],\n",
    "    ['El club de la pelea', 'EE.UU.', 1999, 'thriller, drama, crimen', 139, 8.644],\n",
    "    ['Harakiri', 'Japan', 1962, 'drama, acción, histórico', 133, 8.106],\n",
    "    ['Mente indomable', 'EE.UU.', 1997, 'drama, romance', 126, 8.077]\n",
    "]"
   ]
  },
  {
   "cell_type": "code",
   "execution_count": null,
   "metadata": {
    "colab": {
     "base_uri": "https://localhost:8080/"
    },
    "executionInfo": {
     "elapsed": 203,
     "status": "ok",
     "timestamp": 1709076164515,
     "user": {
      "displayName": "Juan Felipe Nájera",
      "userId": "12739768035030133691"
     },
     "user_tz": 300
    },
    "id": "wb0wXAaIjDB6",
    "outputId": "8666e093-cc47-450c-8ad9-c9a80d3c06a9"
   },
   "outputs": [],
   "source": [
    "movies_filtered = []\n",
    "\n",
    "for movie in movies_info:\n",
    "    if movie[1] == \"EE.UU.\" and movie[-2] > 150:\n",
    "        movies_filtered.append(movie)\n",
    "\n",
    "for movie in movies_filtered:\n",
    "    print(movie)"
   ]
  },
  {
   "cell_type": "markdown",
   "metadata": {
    "id": "XtkLmsiqnsc0"
   },
   "source": [
    "#### Contadores y operadores lógicos"
   ]
  },
  {
   "cell_type": "markdown",
   "metadata": {
    "id": "GkkaH2xYnwKg"
   },
   "source": [
    "Como se ha observado en varios ejemplos, se puede iniciar un contador desde 0 para que se añada un valor, en caso de que se cumpla algo."
   ]
  },
  {
   "cell_type": "markdown",
   "metadata": {
    "id": "rgnbzNmhncP2"
   },
   "source": [
    "##### Ejemplo 13\n",
    "Contemos cuántas películas fueron estrenadas después de 1990."
   ]
  },
  {
   "cell_type": "code",
   "execution_count": null,
   "metadata": {
    "id": "Gio0qR5hoBaX"
   },
   "outputs": [],
   "source": [
    "movies_info = [\n",
    "    ['Sueños de fuga', 'EE.UU.', 1994, 'drama', 142, 9.111],\n",
    "    ['El padrino', 'EE.UU.', 1972, 'drama, crimen', 175, 8.730],\n",
    "    ['Batman: El caballero de la noche', 'EE.UU.', 2008, 'fantasía, acción, thriller', 152, 8.499],\n",
    "    ['La lista de Schindler', 'EE.UU.', 1993, 'drama', 195, 8.818],\n",
    "    ['El señor de los anillos: el retorno del rey', 'New Zealand', 2003, 'fantasía, adventure, drama', 201, 8.625],\n",
    "    ['Tiempos violentos', 'EE.UU.', 1994, 'thriller, comedia, crimen', 154, 8.619],\n",
    "    ['El bueno, el malo y el feo', 'Italia', 1966, 'western', 178, 8.521],\n",
    "    ['El club de la pelea', 'EE.UU.', 1999, 'thriller, drama, crimen', 139, 8.644],\n",
    "    ['Harakiri', 'Japan', 1962, 'drama, acción, histórico', 133, 8.106],\n",
    "    ['Mente indomable', 'EE.UU.', 1997, 'drama, romance', 126, 8.077]\n",
    "]"
   ]
  },
  {
   "cell_type": "code",
   "execution_count": null,
   "metadata": {
    "id": "tGPz_gHLoD3d"
   },
   "outputs": [],
   "source": [
    "after_ninety_count = 0\n",
    "\n",
    "for movie in movies_info:\n",
    "  if movie[2] > 1990:\n",
    "    after_ninety_count += 1\n",
    "\n",
    "print(after_ninety_count)"
   ]
  },
  {
   "cell_type": "markdown",
   "metadata": {
    "id": "WD1mOUC8qMc9"
   },
   "source": [
    "## Funciones en listas anidadas"
   ]
  },
  {
   "cell_type": "markdown",
   "metadata": {
    "id": "de_cjTptqVbf"
   },
   "source": [
    "Se puede crear **funciones** para mejorar el filtro de una tabla"
   ]
  },
  {
   "cell_type": "markdown",
   "metadata": {
    "id": "Do4uat-oqfvM"
   },
   "source": [
    "### Ejemplo 14\n",
    "Creemos una función que devuelva las películas que tengan una duración definida."
   ]
  },
  {
   "cell_type": "code",
   "execution_count": 21,
   "metadata": {
    "executionInfo": {
     "elapsed": 189,
     "status": "ok",
     "timestamp": 1709076279531,
     "user": {
      "displayName": "Juan Felipe Nájera",
      "userId": "12739768035030133691"
     },
     "user_tz": 300
    },
    "id": "pcmaiaP6r4B6"
   },
   "outputs": [],
   "source": [
    "movies_info = [\n",
    "    ['The Shawshank Redemption', 'USA', 1994, 'drama', 142, 9.111],\n",
    "    ['The Godfather', 'USA', 1972, 'drama, crime', 175, 8.730],\n",
    "    ['The Dark Knight', 'USA', 2008, 'fantasy, action, thriller', 152, 8.499],\n",
    "    [\"Schindler's List\", 'USA', 1993, 'drama', 195, 8.818],\n",
    "    ['The Lord of the Rings: The Return of the King', 'New Zealand', 2003, 'fantasy, adventure, drama', 201, 8.625],\n",
    "    ['Pulp Fiction', 'USA', 1994, 'thriller, comedy, crime', 154, 8.619],\n",
    "    ['The Good, the Bad and the Ugly', 'Italy', 1966, 'western', 178, 8.521],\n",
    "    ['Fight Club', 'USA', 1999, 'thriller, drama, crime', 139, 8.644],\n",
    "    ['Harakiri', 'Japan', 1962, 'drama, action, history', 133, 8.106],\n",
    "    ['Stalker', 'USSR', 1979, 'science fiction, drama, detective', 163, 8.083],\n",
    "    ['Come and See', 'USSR', 1985, 'drama, war', 136, 8.094]\n",
    "]"
   ]
  },
  {
   "cell_type": "code",
   "execution_count": 22,
   "metadata": {},
   "outputs": [
    {
     "name": "stdout",
     "output_type": "stream",
     "text": [
      "[]\n"
     ]
    }
   ],
   "source": [
    "lista = []\n",
    "print(lista)"
   ]
  },
  {
   "cell_type": "code",
   "execution_count": 30,
   "metadata": {},
   "outputs": [
    {
     "data": {
      "text/plain": [
       "True"
      ]
     },
     "execution_count": 30,
     "metadata": {},
     "output_type": "execute_result"
    }
   ],
   "source": [
    "movies_info[0][4] > 140"
   ]
  },
  {
   "cell_type": "code",
   "execution_count": 31,
   "metadata": {},
   "outputs": [
    {
     "data": {
      "text/plain": [
       "True"
      ]
     },
     "execution_count": 31,
     "metadata": {},
     "output_type": "execute_result"
    }
   ],
   "source": [
    "movies_info[1][4] > 140"
   ]
  },
  {
   "cell_type": "code",
   "execution_count": 32,
   "metadata": {},
   "outputs": [
    {
     "data": {
      "text/plain": [
       "True"
      ]
     },
     "execution_count": 32,
     "metadata": {},
     "output_type": "execute_result"
    }
   ],
   "source": [
    "movies_info[2][4] > 140"
   ]
  },
  {
   "cell_type": "code",
   "execution_count": 33,
   "metadata": {},
   "outputs": [
    {
     "data": {
      "text/plain": [
       "False"
      ]
     },
     "execution_count": 33,
     "metadata": {},
     "output_type": "execute_result"
    }
   ],
   "source": [
    "movies_info[7][4] > 140"
   ]
  },
  {
   "cell_type": "code",
   "execution_count": 34,
   "metadata": {},
   "outputs": [
    {
     "name": "stdout",
     "output_type": "stream",
     "text": [
      "142\n",
      "175\n",
      "152\n",
      "195\n",
      "201\n",
      "154\n",
      "178\n",
      "139\n",
      "133\n",
      "163\n",
      "136\n"
     ]
    }
   ],
   "source": [
    "for row in movies_info:\n",
    "    print(row[4])"
   ]
  },
  {
   "cell_type": "code",
   "execution_count": 23,
   "metadata": {
    "executionInfo": {
     "elapsed": 207,
     "status": "ok",
     "timestamp": 1709076294951,
     "user": {
      "displayName": "Juan Felipe Nájera",
      "userId": "12739768035030133691"
     },
     "user_tz": 300
    },
    "id": "30Uw9E9sqOds"
   },
   "outputs": [],
   "source": [
    "# función que devuelve una copia filtrada de una lista anidada\n",
    "def filter_by_timing(data, target_duration=140):  # target_duration tiene un valor predeterminado\n",
    "    res = []\n",
    "    for row in data:\n",
    "        if row[4] > target_duration:\n",
    "            res.append(row)\n",
    "    return res                                    # devuelve los resultados filtrados"
   ]
  },
  {
   "cell_type": "code",
   "execution_count": 24,
   "metadata": {
    "executionInfo": {
     "elapsed": 212,
     "status": "ok",
     "timestamp": 1709076790005,
     "user": {
      "displayName": "Juan Felipe Nájera",
      "userId": "12739768035030133691"
     },
     "user_tz": 300
    },
    "id": "WrJFMPRbtCu5"
   },
   "outputs": [],
   "source": [
    "# esta función acepta la lista anidada como entrada y la muestra, sin devolver nada\n",
    "def print_movie_info(data):\n",
    "    for movie in data:\n",
    "        for elem in movie:\n",
    "            print(f'{elem:<46}', end='')\n",
    "        print()"
   ]
  },
  {
   "cell_type": "code",
   "execution_count": 36,
   "metadata": {},
   "outputs": [
    {
     "data": {
      "text/plain": [
       "[[\"Schindler's List\", 'USA', 1993, 'drama', 195, 8.818],\n",
       " ['The Lord of the Rings: The Return of the King',\n",
       "  'New Zealand',\n",
       "  2003,\n",
       "  'fantasy, adventure, drama',\n",
       "  201,\n",
       "  8.625]]"
      ]
     },
     "execution_count": 36,
     "metadata": {},
     "output_type": "execute_result"
    }
   ],
   "source": [
    "filter_by_timing(movies_info, 190)"
   ]
  },
  {
   "cell_type": "code",
   "execution_count": 25,
   "metadata": {
    "colab": {
     "base_uri": "https://localhost:8080/"
    },
    "executionInfo": {
     "elapsed": 4,
     "status": "ok",
     "timestamp": 1709076675761,
     "user": {
      "displayName": "Juan Felipe Nájera",
      "userId": "12739768035030133691"
     },
     "user_tz": 300
    },
    "id": "yGfFwcEDvYA8",
    "outputId": "39606c5d-767f-4fd5-8477-be9923a816bd"
   },
   "outputs": [
    {
     "data": {
      "text/plain": [
       "[[\"Schindler's List\", 'USA', 1993, 'drama', 195, 8.818],\n",
       " ['The Lord of the Rings: The Return of the King',\n",
       "  'New Zealand',\n",
       "  2003,\n",
       "  'fantasy, adventure, drama',\n",
       "  201,\n",
       "  8.625]]"
      ]
     },
     "execution_count": 25,
     "metadata": {},
     "output_type": "execute_result"
    }
   ],
   "source": [
    "filter_by_timing(data=movies_info, target_duration=180)"
   ]
  },
  {
   "cell_type": "code",
   "execution_count": 26,
   "metadata": {
    "colab": {
     "base_uri": "https://localhost:8080/",
     "height": 273
    },
    "executionInfo": {
     "elapsed": 201,
     "status": "error",
     "timestamp": 1709076715053,
     "user": {
      "displayName": "Juan Felipe Nájera",
      "userId": "12739768035030133691"
     },
     "user_tz": 300
    },
    "id": "HfnthK6J6JFG",
    "outputId": "512594ce-111c-4905-a4ee-96220df89092"
   },
   "outputs": [
    {
     "ename": "TypeError",
     "evalue": "'int' object is not iterable",
     "output_type": "error",
     "traceback": [
      "\u001b[1;31m---------------------------------------------------------------------------\u001b[0m",
      "\u001b[1;31mTypeError\u001b[0m                                 Traceback (most recent call last)",
      "Cell \u001b[1;32mIn[26], line 1\u001b[0m\n\u001b[1;32m----> 1\u001b[0m \u001b[43mfilter_by_timing\u001b[49m\u001b[43m(\u001b[49m\u001b[38;5;241;43m180\u001b[39;49m\u001b[43m,\u001b[49m\u001b[43m \u001b[49m\u001b[43mmovies_info\u001b[49m\u001b[43m)\u001b[49m\n",
      "Cell \u001b[1;32mIn[23], line 4\u001b[0m, in \u001b[0;36mfilter_by_timing\u001b[1;34m(data, target_duration)\u001b[0m\n\u001b[0;32m      2\u001b[0m \u001b[38;5;28;01mdef\u001b[39;00m \u001b[38;5;21mfilter_by_timing\u001b[39m(data, target_duration\u001b[38;5;241m=\u001b[39m\u001b[38;5;241m140\u001b[39m):  \u001b[38;5;66;03m# target_duration tiene un valor predeterminado\u001b[39;00m\n\u001b[0;32m      3\u001b[0m     res \u001b[38;5;241m=\u001b[39m []\n\u001b[1;32m----> 4\u001b[0m \u001b[43m    \u001b[49m\u001b[38;5;28;43;01mfor\u001b[39;49;00m\u001b[43m \u001b[49m\u001b[43mrow\u001b[49m\u001b[43m \u001b[49m\u001b[38;5;129;43;01min\u001b[39;49;00m\u001b[43m \u001b[49m\u001b[43mdata\u001b[49m\u001b[43m:\u001b[49m\n\u001b[0;32m      5\u001b[0m \u001b[43m        \u001b[49m\u001b[38;5;28;43;01mif\u001b[39;49;00m\u001b[43m \u001b[49m\u001b[43mrow\u001b[49m\u001b[43m[\u001b[49m\u001b[38;5;241;43m4\u001b[39;49m\u001b[43m]\u001b[49m\u001b[43m \u001b[49m\u001b[38;5;241;43m>\u001b[39;49m\u001b[43m \u001b[49m\u001b[43mtarget_duration\u001b[49m\u001b[43m:\u001b[49m\n\u001b[0;32m      6\u001b[0m \u001b[43m            \u001b[49m\u001b[43mres\u001b[49m\u001b[38;5;241;43m.\u001b[39;49m\u001b[43mappend\u001b[49m\u001b[43m(\u001b[49m\u001b[43mrow\u001b[49m\u001b[43m)\u001b[49m\n",
      "\u001b[1;31mTypeError\u001b[0m: 'int' object is not iterable"
     ]
    }
   ],
   "source": [
    "filter_by_timing(180, movies_info)"
   ]
  },
  {
   "cell_type": "code",
   "execution_count": 27,
   "metadata": {},
   "outputs": [
    {
     "data": {
      "text/plain": [
       "[[\"Schindler's List\", 'USA', 1993, 'drama', 195, 8.818],\n",
       " ['The Lord of the Rings: The Return of the King',\n",
       "  'New Zealand',\n",
       "  2003,\n",
       "  'fantasy, adventure, drama',\n",
       "  201,\n",
       "  8.625]]"
      ]
     },
     "execution_count": 27,
     "metadata": {},
     "output_type": "execute_result"
    }
   ],
   "source": [
    "filter_by_timing(target_duration=180, data=movies_info)"
   ]
  },
  {
   "cell_type": "code",
   "execution_count": 28,
   "metadata": {
    "id": "D3auFGAlvIi9"
   },
   "outputs": [
    {
     "name": "stdout",
     "output_type": "stream",
     "text": [
      "The Shawshank Redemption                      USA                                           1994                                          drama                                         142                                           9.111                                         \n",
      "The Godfather                                 USA                                           1972                                          drama, crime                                  175                                           8.73                                          \n",
      "The Dark Knight                               USA                                           2008                                          fantasy, action, thriller                     152                                           8.499                                         \n",
      "Schindler's List                              USA                                           1993                                          drama                                         195                                           8.818                                         \n",
      "The Lord of the Rings: The Return of the King New Zealand                                   2003                                          fantasy, adventure, drama                     201                                           8.625                                         \n",
      "Pulp Fiction                                  USA                                           1994                                          thriller, comedy, crime                       154                                           8.619                                         \n",
      "The Good, the Bad and the Ugly                Italy                                         1966                                          western                                       178                                           8.521                                         \n",
      "Stalker                                       USSR                                          1979                                          science fiction, drama, detective             163                                           8.083                                         \n"
     ]
    }
   ],
   "source": [
    "print_movie_info(filter_by_timing(movies_info))"
   ]
  },
  {
   "cell_type": "markdown",
   "metadata": {
    "id": "9c-x6QPLr1Eb"
   },
   "source": [
    "Tomar en cuenta lo siguiente:\n",
    "* Se creó una función con argumentos.\n",
    "* El primer argumento `data` son los datos que ingresamos, que si no se agrega en la función saldrá error.\n",
    "* El segundo argumento `target_duration` tiene un valor predeterminado de 140.\n",
    "  * Esto permite que en caso de no indicar este argumento siempre nos devolverá las películas mayores a 140.\n",
    "  * Este valor es opcional ingresar."
   ]
  },
  {
   "cell_type": "markdown",
   "metadata": {
    "id": "6DYevwEks-8l"
   },
   "source": [
    "Adicional se creó una función que permite visualizar mejor la información."
   ]
  },
  {
   "cell_type": "code",
   "execution_count": null,
   "metadata": {
    "colab": {
     "base_uri": "https://localhost:8080/"
    },
    "executionInfo": {
     "elapsed": 202,
     "status": "ok",
     "timestamp": 1709076805772,
     "user": {
      "displayName": "Juan Felipe Nájera",
      "userId": "12739768035030133691"
     },
     "user_tz": 300
    },
    "id": "u8bnkyETszf0",
    "outputId": "cdd7efa5-11d0-430e-b78c-964bb1689341"
   },
   "outputs": [],
   "source": [
    "movies_filtered = filter_by_timing(movies_info)\n",
    "print_movie_info(movies_filtered)"
   ]
  },
  {
   "cell_type": "markdown",
   "metadata": {
    "id": "si8nGwLWtOzm"
   },
   "source": [
    "Utilicemos el segundo argumento con 170."
   ]
  },
  {
   "cell_type": "code",
   "execution_count": null,
   "metadata": {
    "colab": {
     "base_uri": "https://localhost:8080/"
    },
    "executionInfo": {
     "elapsed": 278,
     "status": "ok",
     "timestamp": 1709076799039,
     "user": {
      "displayName": "Juan Felipe Nájera",
      "userId": "12739768035030133691"
     },
     "user_tz": 300
    },
    "id": "FJtFyBFYtRTh",
    "outputId": "0a5a614d-7025-4342-d241-d5654c6a5765"
   },
   "outputs": [],
   "source": [
    "movies_filtered = filter_by_timing(movies_info, 170)\n",
    "print_movie_info(movies_filtered)"
   ]
  },
  {
   "cell_type": "markdown",
   "metadata": {
    "id": "0Un8d7jHtWGR"
   },
   "source": [
    "Y ahora con 145."
   ]
  },
  {
   "cell_type": "code",
   "execution_count": null,
   "metadata": {
    "colab": {
     "base_uri": "https://localhost:8080/"
    },
    "executionInfo": {
     "elapsed": 201,
     "status": "ok",
     "timestamp": 1709076810885,
     "user": {
      "displayName": "Juan Felipe Nájera",
      "userId": "12739768035030133691"
     },
     "user_tz": 300
    },
    "id": "FQLCEw4mtV2h",
    "outputId": "896f1cb2-9d76-4d88-cfc9-802060683c0e"
   },
   "outputs": [],
   "source": [
    "movies_filtered = filter_by_timing(movies_info, 145)\n",
    "print_movie_info(movies_filtered)"
   ]
  },
  {
   "cell_type": "code",
   "execution_count": null,
   "metadata": {
    "colab": {
     "base_uri": "https://localhost:8080/"
    },
    "executionInfo": {
     "elapsed": 209,
     "status": "ok",
     "timestamp": 1709076814237,
     "user": {
      "displayName": "Juan Felipe Nájera",
      "userId": "12739768035030133691"
     },
     "user_tz": 300
    },
    "id": "7d2_6alZwHdr",
    "outputId": "615850c0-0825-42f3-d9a0-2e67ef8334b7"
   },
   "outputs": [],
   "source": [
    "movies_filtered = filter_by_timing(movies_info, 200)\n",
    "print_movie_info(movies_filtered)"
   ]
  },
  {
   "cell_type": "markdown",
   "metadata": {
    "id": "ScSxjDQLusHm"
   },
   "source": [
    "### Argumentos posicionales y de palabras clave"
   ]
  },
  {
   "cell_type": "markdown",
   "metadata": {
    "id": "H5G8nBfuu0G6"
   },
   "source": [
    "Veamos la siguiente función:"
   ]
  },
  {
   "cell_type": "code",
   "execution_count": null,
   "metadata": {
    "id": "3PKA1E7HuyNz"
   },
   "outputs": [],
   "source": [
    "# función que resta dos valores\n",
    "def subtraction(minuend, subtrahend):\n",
    "    result = minuend - subtrahend\n",
    "    return result"
   ]
  },
  {
   "cell_type": "markdown",
   "metadata": {
    "id": "kRZI9h3Au80H"
   },
   "source": [
    "¿Qué resultado va a aparecer?"
   ]
  },
  {
   "cell_type": "code",
   "execution_count": null,
   "metadata": {
    "id": "nJI7ya4au-hl"
   },
   "outputs": [],
   "source": [
    "subtraction(5, 7)"
   ]
  },
  {
   "cell_type": "markdown",
   "metadata": {
    "id": "MbDsAU78vMl6"
   },
   "source": [
    "¿Qué pasará si cambiamos la función de la siguiente forma?"
   ]
  },
  {
   "cell_type": "code",
   "execution_count": null,
   "metadata": {
    "id": "Gctdayb7vMSK"
   },
   "outputs": [],
   "source": [
    "def subtraction(subtrahend, minuend):\n",
    "    result = minuend - subtrahend\n",
    "    return result"
   ]
  },
  {
   "cell_type": "code",
   "execution_count": null,
   "metadata": {
    "id": "zyyo3r65vTYv"
   },
   "outputs": [],
   "source": [
    "subtraction(10, 1)"
   ]
  },
  {
   "cell_type": "markdown",
   "metadata": {
    "id": "bAyipGecvY8d"
   },
   "source": [
    "Se ha cambiado la posición de los argumentos, que de forma lógica se utilizó en la primera función.\n",
    "\n",
    "Hay que tomar en cuenta que las funciones tienen **nombres** además de **posiciones**, y estos **nombres** se pueden utilizar para pasar argumentos cuando se llama una función."
   ]
  },
  {
   "cell_type": "markdown",
   "metadata": {
    "id": "8IESJokcwCfW"
   },
   "source": [
    "Definamos nuevamente la función inicial:"
   ]
  },
  {
   "cell_type": "code",
   "execution_count": null,
   "metadata": {
    "id": "LWnRtccFvr5d"
   },
   "outputs": [],
   "source": [
    "def subtraction(minuend, subtrahend):\n",
    "    result = minuend - subtrahend\n",
    "    return result"
   ]
  },
  {
   "cell_type": "markdown",
   "metadata": {
    "id": "PKQgYl5wwGRC"
   },
   "source": [
    "Podemos llamar la función de esta forma, indicando el nombre de cada parámetro."
   ]
  },
  {
   "cell_type": "code",
   "execution_count": null,
   "metadata": {
    "id": "VCsBs5K7wExW"
   },
   "outputs": [],
   "source": [
    "subtraction(minuend=6, subtrahend=3)"
   ]
  },
  {
   "cell_type": "code",
   "execution_count": null,
   "metadata": {
    "id": "8u4VyZvUw1nU"
   },
   "outputs": [],
   "source": [
    "subtraction(6, 3)"
   ]
  },
  {
   "cell_type": "markdown",
   "metadata": {
    "id": "Z2t4rbwgwT5r"
   },
   "source": [
    "También se puede utilizar una combinación de argumentos posicionales y de palabras clave."
   ]
  },
  {
   "cell_type": "code",
   "execution_count": null,
   "metadata": {
    "id": "wsH-r5aFwbyu"
   },
   "outputs": [],
   "source": [
    "def multiplication(first_number=1, second_number=1):\n",
    "    result = first_number * second_number\n",
    "    return result"
   ]
  },
  {
   "cell_type": "code",
   "execution_count": null,
   "metadata": {
    "id": "wJOQbqTVwg-O"
   },
   "outputs": [],
   "source": [
    "multiplication()"
   ]
  },
  {
   "cell_type": "code",
   "execution_count": null,
   "metadata": {
    "id": "9TTqrJVKwjds"
   },
   "outputs": [],
   "source": [
    "multiplication(2, second_number=6)"
   ]
  },
  {
   "cell_type": "code",
   "execution_count": null,
   "metadata": {
    "id": "lIMTwUEDxEOa"
   },
   "outputs": [],
   "source": [
    "multiplication(5)"
   ]
  }
 ],
 "metadata": {
  "colab": {
   "authorship_tag": "ABX9TyPr5tNGHAPXVhSwgZqbsO59",
   "provenance": []
  },
  "kernelspec": {
   "display_name": "Python 3",
   "name": "python3"
  },
  "language_info": {
   "codemirror_mode": {
    "name": "ipython",
    "version": 3
   },
   "file_extension": ".py",
   "mimetype": "text/x-python",
   "name": "python",
   "nbconvert_exporter": "python",
   "pygments_lexer": "ipython3",
   "version": "3.12.6"
  }
 },
 "nbformat": 4,
 "nbformat_minor": 0
}
