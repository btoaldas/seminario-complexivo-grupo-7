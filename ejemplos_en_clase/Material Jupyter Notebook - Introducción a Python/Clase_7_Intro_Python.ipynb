{
 "cells": [
  {
   "cell_type": "markdown",
   "metadata": {
    "id": "zgwR_gX8-rf-"
   },
   "source": [
    "# Introducción a Python: Clase #7"
   ]
  },
  {
   "cell_type": "markdown",
   "metadata": {},
   "source": [
    "**Profesor**: Juan Felipe Nájera Puente"
   ]
  },
  {
   "cell_type": "markdown",
   "metadata": {
    "id": "CongNc_ycpuO"
   },
   "source": [
    "# Tuplas"
   ]
  },
  {
   "cell_type": "markdown",
   "metadata": {
    "id": "GX8pu89LfijX"
   },
   "source": [
    "## ¿Qué es una tupla?"
   ]
  },
  {
   "cell_type": "markdown",
   "metadata": {
    "id": "kQKp-DfLfnpA"
   },
   "source": [
    "Las **tuplas** (`tuple`) son una secuencia de elementos ordenados en un objeto de Python.\n",
    "\n",
    "* Son **inmutables** como los strings.\n",
    "* A diferencia de los strings (elementos que son caracteres), las **tuplas** pueden contener elementos de cualquier tipo, incluso elementos de diferente tipo.\n",
    "* Los elementos se indexan y rebanan igual que los **strings**, a través de un número entero.\n",
    "* La sintaxis de las **tuplas** es una secuencia de valores separados por comas. Se suelen encerrar entre paréntesis (aunque no es necesario)."
   ]
  },
  {
   "cell_type": "markdown",
   "metadata": {
    "id": "IruZekzDip9L"
   },
   "source": [
    "### Ejemplo 1\n",
    "Verifiquemos cómo se crean las tuplas y cómo Python las presenta."
   ]
  },
  {
   "cell_type": "code",
   "execution_count": 1,
   "metadata": {
    "executionInfo": {
     "elapsed": 205,
     "status": "ok",
     "timestamp": 1709851588494,
     "user": {
      "displayName": "Juan Felipe Nájera",
      "userId": "12739768035030133691"
     },
     "user_tz": 300
    },
    "id": "xWMioiC8hZ-f"
   },
   "outputs": [],
   "source": [
    "a = 1, 2, 3"
   ]
  },
  {
   "cell_type": "code",
   "execution_count": 2,
   "metadata": {
    "colab": {
     "base_uri": "https://localhost:8080/"
    },
    "executionInfo": {
     "elapsed": 229,
     "status": "ok",
     "timestamp": 1709851592745,
     "user": {
      "displayName": "Juan Felipe Nájera",
      "userId": "12739768035030133691"
     },
     "user_tz": 300
    },
    "id": "Ls67dCsqhib2",
    "outputId": "9ff18b68-ced5-4be6-91b6-87bc4838c871"
   },
   "outputs": [
    {
     "data": {
      "text/plain": [
       "(1, 2, 3)"
      ]
     },
     "execution_count": 2,
     "metadata": {},
     "output_type": "execute_result"
    }
   ],
   "source": [
    "a"
   ]
  },
  {
   "cell_type": "code",
   "execution_count": 3,
   "metadata": {
    "id": "dcgRqTn6GADV"
   },
   "outputs": [
    {
     "data": {
      "text/plain": [
       "(3, 1, 5)"
      ]
     },
     "execution_count": 3,
     "metadata": {},
     "output_type": "execute_result"
    }
   ],
   "source": [
    "3,1,5"
   ]
  },
  {
   "cell_type": "code",
   "execution_count": 4,
   "metadata": {
    "executionInfo": {
     "elapsed": 212,
     "status": "ok",
     "timestamp": 1709851600458,
     "user": {
      "displayName": "Juan Felipe Nájera",
      "userId": "12739768035030133691"
     },
     "user_tz": 300
    },
    "id": "WjN773NmhkNY"
   },
   "outputs": [],
   "source": [
    "b = (3, 4, \"a\", \"c\")"
   ]
  },
  {
   "cell_type": "code",
   "execution_count": 5,
   "metadata": {
    "colab": {
     "base_uri": "https://localhost:8080/"
    },
    "executionInfo": {
     "elapsed": 211,
     "status": "ok",
     "timestamp": 1709851601709,
     "user": {
      "displayName": "Juan Felipe Nájera",
      "userId": "12739768035030133691"
     },
     "user_tz": 300
    },
    "id": "to02DLCLhpW7",
    "outputId": "c1cd65e5-f848-43e8-8d98-065a3b5ccd31"
   },
   "outputs": [
    {
     "data": {
      "text/plain": [
       "(3, 4, 'a', 'c')"
      ]
     },
     "execution_count": 5,
     "metadata": {},
     "output_type": "execute_result"
    }
   ],
   "source": [
    "b"
   ]
  },
  {
   "cell_type": "code",
   "execution_count": 6,
   "metadata": {
    "colab": {
     "base_uri": "https://localhost:8080/"
    },
    "executionInfo": {
     "elapsed": 207,
     "status": "ok",
     "timestamp": 1709851604426,
     "user": {
      "displayName": "Juan Felipe Nájera",
      "userId": "12739768035030133691"
     },
     "user_tz": 300
    },
    "id": "h8lCE8luhq__",
    "outputId": "7de8d052-3e39-4a30-d0a3-2db570b09c21"
   },
   "outputs": [
    {
     "name": "stdout",
     "output_type": "stream",
     "text": [
      "<class 'tuple'>\n",
      "<class 'tuple'>\n"
     ]
    }
   ],
   "source": [
    "print(type(a))\n",
    "print(type(b))"
   ]
  },
  {
   "cell_type": "markdown",
   "metadata": {
    "id": "Rts34sgih4Tz"
   },
   "source": [
    "Lo importante es incluir las comas entre los elementos:"
   ]
  },
  {
   "cell_type": "code",
   "execution_count": null,
   "metadata": {
    "colab": {
     "base_uri": "https://localhost:8080/"
    },
    "executionInfo": {
     "elapsed": 237,
     "status": "ok",
     "timestamp": 1709851656374,
     "user": {
      "displayName": "Juan Felipe Nájera",
      "userId": "12739768035030133691"
     },
     "user_tz": 300
    },
    "id": "bK9YNbs3h7K9",
    "outputId": "ae0a1e00-d7eb-4b85-be83-6b867f8e7f97"
   },
   "outputs": [],
   "source": [
    "t = \"k\",\n",
    "t"
   ]
  },
  {
   "cell_type": "code",
   "execution_count": null,
   "metadata": {
    "colab": {
     "base_uri": "https://localhost:8080/",
     "height": 35
    },
    "executionInfo": {
     "elapsed": 194,
     "status": "ok",
     "timestamp": 1709851675478,
     "user": {
      "displayName": "Juan Felipe Nájera",
      "userId": "12739768035030133691"
     },
     "user_tz": 300
    },
    "id": "AwcCe20biFeT",
    "outputId": "926e8950-49fe-4de2-f3e7-09f645aee96d"
   },
   "outputs": [],
   "source": [
    "t2 = \"k\"\n",
    "t2"
   ]
  },
  {
   "cell_type": "code",
   "execution_count": null,
   "metadata": {
    "colab": {
     "base_uri": "https://localhost:8080/"
    },
    "executionInfo": {
     "elapsed": 234,
     "status": "ok",
     "timestamp": 1709851677085,
     "user": {
      "displayName": "Juan Felipe Nájera",
      "userId": "12739768035030133691"
     },
     "user_tz": 300
    },
    "id": "dpr8aRNFh_TO",
    "outputId": "f5732035-ab9e-4c61-ef48-8cdc003d1870"
   },
   "outputs": [],
   "source": [
    "print(type(t))\n",
    "print(type(t2))"
   ]
  },
  {
   "cell_type": "markdown",
   "metadata": {
    "id": "OVJv7_09iSTz"
   },
   "source": [
    "### Ejemplo 2\n",
    "La función interna `tuple()` convierte una secuencia iterable, como un `str` o una `lst`, a una **tupla**, o puede crear una tupla vacía.\n",
    "\n",
    "Veamos varios ejemplos:"
   ]
  },
  {
   "cell_type": "code",
   "execution_count": null,
   "metadata": {
    "colab": {
     "base_uri": "https://localhost:8080/"
    },
    "executionInfo": {
     "elapsed": 199,
     "status": "ok",
     "timestamp": 1709851703905,
     "user": {
      "displayName": "Juan Felipe Nájera",
      "userId": "12739768035030133691"
     },
     "user_tz": 300
    },
    "id": "AxmCTE02ieIv",
    "outputId": "ccd07edd-069c-42e6-9261-9e03eda23af5"
   },
   "outputs": [],
   "source": [
    "tuple(\"Hola\")"
   ]
  },
  {
   "cell_type": "code",
   "execution_count": null,
   "metadata": {
    "colab": {
     "base_uri": "https://localhost:8080/"
    },
    "executionInfo": {
     "elapsed": 200,
     "status": "ok",
     "timestamp": 1709851708818,
     "user": {
      "displayName": "Juan Felipe Nájera",
      "userId": "12739768035030133691"
     },
     "user_tz": 300
    },
    "id": "6EEhAPJAignS",
    "outputId": "bc583c34-a6ae-450f-8662-3978e2aa2512"
   },
   "outputs": [],
   "source": [
    "tuple([1, 2])"
   ]
  },
  {
   "cell_type": "code",
   "execution_count": null,
   "metadata": {
    "colab": {
     "base_uri": "https://localhost:8080/"
    },
    "executionInfo": {
     "elapsed": 197,
     "status": "ok",
     "timestamp": 1709851712885,
     "user": {
      "displayName": "Juan Felipe Nájera",
      "userId": "12739768035030133691"
     },
     "user_tz": 300
    },
    "id": "KlgBurO-ikpU",
    "outputId": "c2f7279a-41df-4e13-f221-ec3afc8a2a9e"
   },
   "outputs": [],
   "source": [
    "tuple()"
   ]
  },
  {
   "cell_type": "markdown",
   "metadata": {
    "id": "d2P4kZCunoRB"
   },
   "source": [
    "## Indexación, recorte y otras operaciones de tuplas"
   ]
  },
  {
   "cell_type": "markdown",
   "metadata": {
    "id": "AgfnqorFnudr"
   },
   "source": [
    "Tal como los strings y las listas, las tuplas tienen un comportamiento parecido."
   ]
  },
  {
   "cell_type": "markdown",
   "metadata": {
    "id": "0iGLM4XgjKdU"
   },
   "source": [
    "### Ejemplo 3\n",
    "El acceso a los elementos de las tuplas, la extracción de elementos y las operaciones se realizan de igual forma que los strings.\n",
    "\n",
    "Veamos varios ejemplos:"
   ]
  },
  {
   "cell_type": "code",
   "execution_count": 7,
   "metadata": {
    "id": "k1ZxoIupjUFW"
   },
   "outputs": [],
   "source": [
    "b = (3, 4, 5, \"a\")"
   ]
  },
  {
   "cell_type": "code",
   "execution_count": 8,
   "metadata": {
    "id": "bj6bS0wRjX8U"
   },
   "outputs": [
    {
     "name": "stdout",
     "output_type": "stream",
     "text": [
      "3\n",
      "a\n",
      "(3, 4, 5)\n"
     ]
    }
   ],
   "source": [
    "print(b[0])\n",
    "print(b[-1])\n",
    "print(b[:3])"
   ]
  },
  {
   "cell_type": "markdown",
   "metadata": {
    "id": "4nrHtJHRjp5H"
   },
   "source": [
    "### Ejemplo 4\n",
    "Recordemos que las tuplas son **inmutables**\n",
    "\n",
    "Veamos un ejemplo:"
   ]
  },
  {
   "cell_type": "code",
   "execution_count": 9,
   "metadata": {
    "executionInfo": {
     "elapsed": 194,
     "status": "ok",
     "timestamp": 1709851765718,
     "user": {
      "displayName": "Juan Felipe Nájera",
      "userId": "12739768035030133691"
     },
     "user_tz": 300
    },
    "id": "PF_VfLGBj83x"
   },
   "outputs": [],
   "source": [
    "t = (\"las\", \"tuplas\", \"son\", \"inmutables\")"
   ]
  },
  {
   "cell_type": "code",
   "execution_count": 10,
   "metadata": {
    "colab": {
     "base_uri": "https://localhost:8080/",
     "height": 35
    },
    "executionInfo": {
     "elapsed": 4,
     "status": "ok",
     "timestamp": 1709851767208,
     "user": {
      "displayName": "Juan Felipe Nájera",
      "userId": "12739768035030133691"
     },
     "user_tz": 300
    },
    "id": "cYkHSoqul9H-",
    "outputId": "8d676728-4880-483e-855e-a94927f94bca"
   },
   "outputs": [
    {
     "data": {
      "text/plain": [
       "'las'"
      ]
     },
     "execution_count": 10,
     "metadata": {},
     "output_type": "execute_result"
    }
   ],
   "source": [
    "t[0]"
   ]
  },
  {
   "cell_type": "markdown",
   "metadata": {
    "id": "fOver5PSmCT4"
   },
   "source": [
    "¿Qué va a pasar en el siguiente código? ❓"
   ]
  },
  {
   "cell_type": "code",
   "execution_count": 11,
   "metadata": {
    "colab": {
     "base_uri": "https://localhost:8080/",
     "height": 141
    },
    "executionInfo": {
     "elapsed": 210,
     "status": "error",
     "timestamp": 1709851777981,
     "user": {
      "displayName": "Juan Felipe Nájera",
      "userId": "12739768035030133691"
     },
     "user_tz": 300
    },
    "id": "XWCgjX5Pl-vT",
    "outputId": "68877c27-2272-4600-bee6-d9395bdcfcdf"
   },
   "outputs": [
    {
     "ename": "TypeError",
     "evalue": "'tuple' object does not support item assignment",
     "output_type": "error",
     "traceback": [
      "\u001b[1;31m---------------------------------------------------------------------------\u001b[0m",
      "\u001b[1;31mTypeError\u001b[0m                                 Traceback (most recent call last)",
      "Cell \u001b[1;32mIn[11], line 1\u001b[0m\n\u001b[1;32m----> 1\u001b[0m \u001b[43mt\u001b[49m\u001b[43m[\u001b[49m\u001b[38;5;241;43m1\u001b[39;49m\u001b[43m]\u001b[49m \u001b[38;5;241m=\u001b[39m \u001b[38;5;124m\"\u001b[39m\u001b[38;5;124mlistas\u001b[39m\u001b[38;5;124m\"\u001b[39m\n",
      "\u001b[1;31mTypeError\u001b[0m: 'tuple' object does not support item assignment"
     ]
    }
   ],
   "source": [
    "t[1] = \"listas\""
   ]
  },
  {
   "cell_type": "markdown",
   "metadata": {
    "id": "_INmqMuFErTj"
   },
   "source": [
    "**La única opción para cambiar una tupla es volviendo a definirla**."
   ]
  },
  {
   "cell_type": "markdown",
   "metadata": {
    "id": "EFS4jj2pmI3y"
   },
   "source": [
    "### Ejemplo 5\n",
    "Podemos incluir tuplas dentro de las tuplas, concatenarlas y repetirlas, como los strings."
   ]
  },
  {
   "cell_type": "code",
   "execution_count": 12,
   "metadata": {
    "executionInfo": {
     "elapsed": 211,
     "status": "ok",
     "timestamp": 1709851807584,
     "user": {
      "displayName": "Juan Felipe Nájera",
      "userId": "12739768035030133691"
     },
     "user_tz": 300
    },
    "id": "YDx1VmKxmPPP"
   },
   "outputs": [],
   "source": [
    "b = (3, 4, 5, \"a\")\n",
    "c = (b, 2, \"hola\")"
   ]
  },
  {
   "cell_type": "code",
   "execution_count": 13,
   "metadata": {
    "colab": {
     "base_uri": "https://localhost:8080/"
    },
    "executionInfo": {
     "elapsed": 203,
     "status": "ok",
     "timestamp": 1709851813497,
     "user": {
      "displayName": "Juan Felipe Nájera",
      "userId": "12739768035030133691"
     },
     "user_tz": 300
    },
    "id": "gwXbjA8bmUiK",
    "outputId": "49dbb309-12af-4da0-d022-dd7ab04ad575"
   },
   "outputs": [
    {
     "data": {
      "text/plain": [
       "(3, 4, 5, 'a', (3, 4, 5, 'a'), 2, 'hola')"
      ]
     },
     "execution_count": 13,
     "metadata": {},
     "output_type": "execute_result"
    }
   ],
   "source": [
    "b + c"
   ]
  },
  {
   "cell_type": "markdown",
   "metadata": {
    "id": "F4hyNCg6mmoX"
   },
   "source": [
    "### Ejemplo 6\n",
    "La composición iterativa `for - in` de Python puede usar la secuencia iterable, incluyendo las **tuplas**:"
   ]
  },
  {
   "cell_type": "code",
   "execution_count": 14,
   "metadata": {
    "executionInfo": {
     "elapsed": 225,
     "status": "ok",
     "timestamp": 1709851853775,
     "user": {
      "displayName": "Juan Felipe Nájera",
      "userId": "12739768035030133691"
     },
     "user_tz": 300
    },
    "id": "sHJKk0RLmvE-"
   },
   "outputs": [],
   "source": [
    "juegos = (\"tennis\", \"baseball\", \"football\", \"voleyball\", \"natación\")"
   ]
  },
  {
   "cell_type": "code",
   "execution_count": 15,
   "metadata": {
    "colab": {
     "base_uri": "https://localhost:8080/"
    },
    "executionInfo": {
     "elapsed": 200,
     "status": "ok",
     "timestamp": 1709851859526,
     "user": {
      "displayName": "Juan Felipe Nájera",
      "userId": "12739768035030133691"
     },
     "user_tz": 300
    },
    "id": "AVw7EOQWm4Fe",
    "outputId": "6db02d45-fc16-473d-e805-7552684636fd"
   },
   "outputs": [
    {
     "name": "stdout",
     "output_type": "stream",
     "text": [
      "tennis\n",
      "baseball\n",
      "football\n",
      "voleyball\n",
      "natación\n"
     ]
    }
   ],
   "source": [
    "for deporte in juegos:\n",
    "  print(deporte)"
   ]
  },
  {
   "cell_type": "markdown",
   "metadata": {
    "id": "a9i2Pc4koKdA"
   },
   "source": [
    "## Asignaciones múltiples en tuplas"
   ]
  },
  {
   "cell_type": "markdown",
   "metadata": {
    "id": "MYLEmPoNoNVO"
   },
   "source": [
    "Python permite **asignaciones múltiples** mediantes asignaciones con **tuplas**.\n",
    "\n",
    "Estas acciones permiten que una **tupla** de variables a la izquierda de una asignación le sea asignada una tupla de valores a la derecha de ésta.\n",
    "\n",
    "¿A qué se refiere esto?"
   ]
  },
  {
   "cell_type": "markdown",
   "metadata": {
    "id": "lQA8Dxcto83J"
   },
   "source": [
    "### Ejemplo 7\n",
    "Asignación múltiple con tuplas.\n",
    "\n",
    "¿Qué resultado saldrá en el siguiente código? ❓"
   ]
  },
  {
   "cell_type": "code",
   "execution_count": 16,
   "metadata": {
    "executionInfo": {
     "elapsed": 222,
     "status": "ok",
     "timestamp": 1709851964916,
     "user": {
      "displayName": "Juan Felipe Nájera",
      "userId": "12739768035030133691"
     },
     "user_tz": 300
    },
    "id": "sIbFUPluoM8g"
   },
   "outputs": [],
   "source": [
    "a,b,c = 1,2,3"
   ]
  },
  {
   "cell_type": "code",
   "execution_count": 17,
   "metadata": {
    "colab": {
     "base_uri": "https://localhost:8080/"
    },
    "executionInfo": {
     "elapsed": 221,
     "status": "ok",
     "timestamp": 1709851966307,
     "user": {
      "displayName": "Juan Felipe Nájera",
      "userId": "12739768035030133691"
     },
     "user_tz": 300
    },
    "id": "gMxj1pS8pH4l",
    "outputId": "d4883189-edb0-491e-e75e-cd7666005b0f"
   },
   "outputs": [
    {
     "name": "stdout",
     "output_type": "stream",
     "text": [
      "1\n",
      "2\n",
      "3\n"
     ]
    }
   ],
   "source": [
    "print(a)\n",
    "print(b)\n",
    "print(c)"
   ]
  },
  {
   "cell_type": "code",
   "execution_count": 18,
   "metadata": {
    "colab": {
     "base_uri": "https://localhost:8080/"
    },
    "executionInfo": {
     "elapsed": 197,
     "status": "ok",
     "timestamp": 1709851972277,
     "user": {
      "displayName": "Juan Felipe Nájera",
      "userId": "12739768035030133691"
     },
     "user_tz": 300
    },
    "id": "pKJzfx1CpOE3",
    "outputId": "1492942f-b13e-4700-e02d-05e8bdef1675"
   },
   "outputs": [
    {
     "name": "stdout",
     "output_type": "stream",
     "text": [
      "<class 'int'>\n",
      "<class 'int'>\n",
      "<class 'int'>\n"
     ]
    }
   ],
   "source": [
    "print(type(a))\n",
    "print(type(b))\n",
    "print(type(c))"
   ]
  },
  {
   "cell_type": "markdown",
   "metadata": {
    "id": "VjhFIDkjpaiE"
   },
   "source": [
    "¿Podemos hacer lo mismo con el siguiente string? ❓"
   ]
  },
  {
   "cell_type": "code",
   "execution_count": 19,
   "metadata": {
    "executionInfo": {
     "elapsed": 196,
     "status": "ok",
     "timestamp": 1709852036979,
     "user": {
      "displayName": "Juan Felipe Nájera",
      "userId": "12739768035030133691"
     },
     "user_tz": 300
    },
    "id": "kYcEHccPpeKF"
   },
   "outputs": [],
   "source": [
    "d,e,f = \"xyz\""
   ]
  },
  {
   "cell_type": "code",
   "execution_count": 20,
   "metadata": {
    "colab": {
     "base_uri": "https://localhost:8080/"
    },
    "executionInfo": {
     "elapsed": 2,
     "status": "ok",
     "timestamp": 1709852038379,
     "user": {
      "displayName": "Juan Felipe Nájera",
      "userId": "12739768035030133691"
     },
     "user_tz": 300
    },
    "id": "YJDq3uK2phOj",
    "outputId": "a9e89c9f-9efd-4bbc-9cd1-119cddb5baf7"
   },
   "outputs": [
    {
     "name": "stdout",
     "output_type": "stream",
     "text": [
      "x\n",
      "y\n",
      "z\n"
     ]
    }
   ],
   "source": [
    "print(d)\n",
    "print(e)\n",
    "print(f)"
   ]
  },
  {
   "cell_type": "code",
   "execution_count": 21,
   "metadata": {
    "colab": {
     "base_uri": "https://localhost:8080/"
    },
    "executionInfo": {
     "elapsed": 235,
     "status": "ok",
     "timestamp": 1709852046448,
     "user": {
      "displayName": "Juan Felipe Nájera",
      "userId": "12739768035030133691"
     },
     "user_tz": 300
    },
    "id": "O2M2MxRmpirg",
    "outputId": "0b893083-89d9-4ab4-89f8-0b0bb36909f2"
   },
   "outputs": [
    {
     "name": "stdout",
     "output_type": "stream",
     "text": [
      "<class 'str'>\n",
      "<class 'str'>\n",
      "<class 'str'>\n"
     ]
    }
   ],
   "source": [
    "print(type(d))\n",
    "print(type(e))\n",
    "print(type(f))"
   ]
  },
  {
   "cell_type": "markdown",
   "metadata": {
    "id": "WPbXwk0CqF9U"
   },
   "source": [
    "El objeto a asignar de forma múltip0le a la **tupla** de variables pueden ser un **string** o una **lista**."
   ]
  },
  {
   "cell_type": "markdown",
   "metadata": {
    "id": "NIrw-1kvpqxx"
   },
   "source": [
    "**IMPORTANTE**\n",
    "\n",
    "---\n",
    "La condición que se debe cumplir es que el número de variables de la tupla de variables sea igual al número de elementos de la tupla de valores.\n",
    "\n",
    "Esto también se toma en cuenta en los **strings** o las **listas**."
   ]
  },
  {
   "cell_type": "markdown",
   "metadata": {
    "id": "3upE4Kpsp8-c"
   },
   "source": [
    "¿Qué va a ocurrir en el siguiente código? ❓"
   ]
  },
  {
   "cell_type": "code",
   "execution_count": 22,
   "metadata": {
    "colab": {
     "base_uri": "https://localhost:8080/",
     "height": 141
    },
    "executionInfo": {
     "elapsed": 7,
     "status": "error",
     "timestamp": 1709852123637,
     "user": {
      "displayName": "Juan Felipe Nájera",
      "userId": "12739768035030133691"
     },
     "user_tz": 300
    },
    "id": "o6vjSrFQp6Fd",
    "outputId": "f095f519-6587-4d26-8610-06fb9abdca35"
   },
   "outputs": [
    {
     "ename": "TypeError",
     "evalue": "cannot unpack non-iterable int object",
     "output_type": "error",
     "traceback": [
      "\u001b[1;31m---------------------------------------------------------------------------\u001b[0m",
      "\u001b[1;31mTypeError\u001b[0m                                 Traceback (most recent call last)",
      "Cell \u001b[1;32mIn[22], line 1\u001b[0m\n\u001b[1;32m----> 1\u001b[0m a, b \u001b[38;5;241m=\u001b[39m \u001b[38;5;241m1\u001b[39m\n",
      "\u001b[1;31mTypeError\u001b[0m: cannot unpack non-iterable int object"
     ]
    }
   ],
   "source": [
    "a, b = 1"
   ]
  },
  {
   "cell_type": "code",
   "execution_count": 28,
   "metadata": {
    "executionInfo": {
     "elapsed": 211,
     "status": "ok",
     "timestamp": 1709852147381,
     "user": {
      "displayName": "Juan Felipe Nájera",
      "userId": "12739768035030133691"
     },
     "user_tz": 300
    },
    "id": "DiWWsWhdqZjz"
   },
   "outputs": [],
   "source": [
    "variable_1,variable_2,variable_3,variable_4 = \"hola\""
   ]
  },
  {
   "cell_type": "code",
   "execution_count": 29,
   "metadata": {},
   "outputs": [
    {
     "name": "stdout",
     "output_type": "stream",
     "text": [
      "h\n",
      "o\n",
      "l\n",
      "a\n"
     ]
    }
   ],
   "source": [
    "print(variable_1)\n",
    "print(variable_2)\n",
    "print(variable_3)\n",
    "print(variable_4)"
   ]
  },
  {
   "cell_type": "code",
   "execution_count": 30,
   "metadata": {
    "executionInfo": {
     "elapsed": 205,
     "status": "ok",
     "timestamp": 1709852154541,
     "user": {
      "displayName": "Juan Felipe Nájera",
      "userId": "12739768035030133691"
     },
     "user_tz": 300
    },
    "id": "HjuP_8-BNRjR"
   },
   "outputs": [],
   "source": [
    "a = [1,2]"
   ]
  },
  {
   "cell_type": "code",
   "execution_count": 30,
   "metadata": {
    "executionInfo": {
     "elapsed": 207,
     "status": "ok",
     "timestamp": 1709852161146,
     "user": {
      "displayName": "Juan Felipe Nájera",
      "userId": "12739768035030133691"
     },
     "user_tz": 300
    },
    "id": "WIzJxWSqNYLw"
   },
   "outputs": [],
   "source": [
    "d,e = a"
   ]
  },
  {
   "cell_type": "code",
   "execution_count": null,
   "metadata": {
    "colab": {
     "base_uri": "https://localhost:8080/"
    },
    "executionInfo": {
     "elapsed": 231,
     "status": "ok",
     "timestamp": 1709852162968,
     "user": {
      "displayName": "Juan Felipe Nájera",
      "userId": "12739768035030133691"
     },
     "user_tz": 300
    },
    "id": "CJbypgXxNbxq",
    "outputId": "e401acb2-67cd-4805-a690-be46328a25bf"
   },
   "outputs": [],
   "source": [
    "d"
   ]
  },
  {
   "cell_type": "code",
   "execution_count": null,
   "metadata": {
    "colab": {
     "base_uri": "https://localhost:8080/"
    },
    "executionInfo": {
     "elapsed": 193,
     "status": "ok",
     "timestamp": 1709852164540,
     "user": {
      "displayName": "Juan Felipe Nájera",
      "userId": "12739768035030133691"
     },
     "user_tz": 300
    },
    "id": "5TWF88_9Nc6A",
    "outputId": "4d342896-0c1f-48df-fd1a-b876c2d657d0"
   },
   "outputs": [],
   "source": [
    "e"
   ]
  },
  {
   "cell_type": "code",
   "execution_count": 31,
   "metadata": {
    "id": "mnS40P-SqBXp"
   },
   "outputs": [],
   "source": [
    "a,b = [1,2]"
   ]
  },
  {
   "cell_type": "code",
   "execution_count": 32,
   "metadata": {},
   "outputs": [
    {
     "name": "stdout",
     "output_type": "stream",
     "text": [
      "1\n",
      "2\n"
     ]
    }
   ],
   "source": [
    "print(a)\n",
    "print(b)"
   ]
  },
  {
   "cell_type": "code",
   "execution_count": null,
   "metadata": {
    "id": "1fDaV9PIqb-x"
   },
   "outputs": [],
   "source": [
    "a,b,c,d = \"hola\""
   ]
  },
  {
   "cell_type": "markdown",
   "metadata": {
    "id": "g4Ff2kaLqnhw"
   },
   "source": [
    "### Ejemplo 8\n",
    "Veamos el siguiente ejemplo de asignación múltiple.\n",
    "\n",
    "¿Qué resultado tendrá `a` y `b` al final? ❓"
   ]
  },
  {
   "cell_type": "code",
   "execution_count": 33,
   "metadata": {
    "executionInfo": {
     "elapsed": 214,
     "status": "ok",
     "timestamp": 1709852170564,
     "user": {
      "displayName": "Juan Felipe Nájera",
      "userId": "12739768035030133691"
     },
     "user_tz": 300
    },
    "id": "OaRgPm9wqwSV"
   },
   "outputs": [],
   "source": [
    "a = 10\n",
    "b = 20"
   ]
  },
  {
   "cell_type": "code",
   "execution_count": 34,
   "metadata": {
    "executionInfo": {
     "elapsed": 206,
     "status": "ok",
     "timestamp": 1709852180133,
     "user": {
      "displayName": "Juan Felipe Nájera",
      "userId": "12739768035030133691"
     },
     "user_tz": 300
    },
    "id": "nJMhrNZIqzDw"
   },
   "outputs": [],
   "source": [
    "a, b = b, a"
   ]
  },
  {
   "cell_type": "code",
   "execution_count": null,
   "metadata": {
    "colab": {
     "base_uri": "https://localhost:8080/"
    },
    "executionInfo": {
     "elapsed": 205,
     "status": "ok",
     "timestamp": 1709852181874,
     "user": {
      "displayName": "Juan Felipe Nájera",
      "userId": "12739768035030133691"
     },
     "user_tz": 300
    },
    "id": "xC6Bb_Svq1a_",
    "outputId": "6e6e54d5-8911-4d48-845a-a946f46d3eae"
   },
   "outputs": [],
   "source": [
    "print(a)\n",
    "print(b)"
   ]
  },
  {
   "cell_type": "markdown",
   "metadata": {
    "id": "mk9KgQXjq8Ej"
   },
   "source": [
    "## Funciones con devoluciones múltiples"
   ]
  },
  {
   "cell_type": "markdown",
   "metadata": {
    "id": "89B_tMt8q_Vp"
   },
   "source": [
    "Las funciones pueden devolver múltiples resultados que pueden ser asignados a múltiples variables con el uso de **tuplas**.\n",
    "\n",
    "Siendo **estrictos**, **las funciones solo devuelven un resultado**. Pero si ese valor es una tupla, entonces ésta se puede asignar a una tupla de variables."
   ]
  },
  {
   "cell_type": "markdown",
   "metadata": {
    "id": "a8NnFRQDrSBc"
   },
   "source": [
    "### Ejemplo 9\n",
    "Veamos la siguiente función"
   ]
  },
  {
   "cell_type": "code",
   "execution_count": 33,
   "metadata": {
    "executionInfo": {
     "elapsed": 3,
     "status": "ok",
     "timestamp": 1709852229481,
     "user": {
      "displayName": "Juan Felipe Nájera",
      "userId": "12739768035030133691"
     },
     "user_tz": 300
    },
    "id": "QmimF5HWq-ty"
   },
   "outputs": [],
   "source": [
    "def mi_funcion(x):\n",
    "  # devuelve 2 valores: x incrementado y decrecido en 1\n",
    "  return x + 1, x - 1"
   ]
  },
  {
   "cell_type": "code",
   "execution_count": 34,
   "metadata": {
    "executionInfo": {
     "elapsed": 217,
     "status": "ok",
     "timestamp": 1709852241358,
     "user": {
      "displayName": "Juan Felipe Nájera",
      "userId": "12739768035030133691"
     },
     "user_tz": 300
    },
    "id": "C8qJADOvrjRC"
   },
   "outputs": [],
   "source": [
    "a, b = mi_funcion(10)"
   ]
  },
  {
   "cell_type": "code",
   "execution_count": 35,
   "metadata": {
    "colab": {
     "base_uri": "https://localhost:8080/"
    },
    "executionInfo": {
     "elapsed": 222,
     "status": "ok",
     "timestamp": 1709852243749,
     "user": {
      "displayName": "Juan Felipe Nájera",
      "userId": "12739768035030133691"
     },
     "user_tz": 300
    },
    "id": "7eIcGVUurmQ4",
    "outputId": "db92c083-a44e-4a98-df88-e713dbe0eff7"
   },
   "outputs": [
    {
     "name": "stdout",
     "output_type": "stream",
     "text": [
      "11 9\n"
     ]
    }
   ],
   "source": [
    "print(a, b)"
   ]
  },
  {
   "cell_type": "code",
   "execution_count": 37,
   "metadata": {
    "colab": {
     "base_uri": "https://localhost:8080/"
    },
    "executionInfo": {
     "elapsed": 189,
     "status": "ok",
     "timestamp": 1709852249840,
     "user": {
      "displayName": "Juan Felipe Nájera",
      "userId": "12739768035030133691"
     },
     "user_tz": 300
    },
    "id": "PKulLUUI8WYZ",
    "outputId": "cf8f836d-0724-45e0-bd13-91c5c17d014f"
   },
   "outputs": [
    {
     "name": "stdout",
     "output_type": "stream",
     "text": [
      "(21, 19)\n",
      "(11, 9)\n",
      "(116, 114)\n",
      "(1001, 999)\n"
     ]
    }
   ],
   "source": [
    "print(mi_funcion(20))\n",
    "print(mi_funcion(10))\n",
    "print(mi_funcion(115))\n",
    "print(mi_funcion(1000))"
   ]
  },
  {
   "cell_type": "markdown",
   "metadata": {
    "id": "g2M5oVfXsQ2X"
   },
   "source": [
    "### Ejemplo 10\n",
    "Función con un número arbitrario de parámetros usando tuplas."
   ]
  },
  {
   "cell_type": "code",
   "execution_count": null,
   "metadata": {
    "id": "fw27lAoPsW8M"
   },
   "outputs": [],
   "source": [
    "def media(*par):              # La sintaxis *par indica que la función puede tomar cualquier número de argumentos.\n",
    "  # devuelve la media de una tupla de valores enteros\n",
    "  suma = sum(par)\n",
    "  return suma/len(par)"
   ]
  },
  {
   "cell_type": "code",
   "execution_count": null,
   "metadata": {
    "id": "-K4wH16xsfcP"
   },
   "outputs": [],
   "source": [
    "print(media(3, 4))"
   ]
  },
  {
   "cell_type": "code",
   "execution_count": null,
   "metadata": {
    "id": "bYpeSrAZ80m3"
   },
   "outputs": [],
   "source": [
    "print(media(10.2, 14, 12, 9.5, 13.4, 8, 9.2))"
   ]
  },
  {
   "cell_type": "code",
   "execution_count": null,
   "metadata": {
    "id": "xeb80T8d82ac"
   },
   "outputs": [],
   "source": [
    "print(media(2))"
   ]
  },
  {
   "cell_type": "markdown",
   "metadata": {
    "id": "Hk58GSgXsshA"
   },
   "source": [
    "`*` antes del nombre del argumento en una función, se le conoce como el operador de desempacar (**unpacking**), que basicamente desempaca una tupla."
   ]
  },
  {
   "cell_type": "markdown",
   "metadata": {
    "id": "fdDnshkmtJOw"
   },
   "source": [
    "## Métodos de las tuplas"
   ]
  },
  {
   "cell_type": "markdown",
   "metadata": {
    "id": "MmwOmswetM-R"
   },
   "source": [
    "Al igual que en los strings, existen métodos asociados a los objetos tipo tupla, pero solo los siguientes métodos:\n",
    "* `index()`\n",
    "* `count()`\n",
    "\n",
    "También se pueden usar las funciones internas `max()` y `min()` cuando las tuplas sean valores **numéricos**."
   ]
  },
  {
   "cell_type": "markdown",
   "metadata": {
    "id": "XJ0mDhG6t5z8"
   },
   "source": [
    "### Ejemplo 11\n",
    "Veamos los métodos y las funciones en tuplas."
   ]
  },
  {
   "cell_type": "code",
   "execution_count": null,
   "metadata": {
    "id": "VsZ1Dlv2s-S_"
   },
   "outputs": [],
   "source": [
    "a = (2, 3, 4, 5, 79, -8, 5, -4)"
   ]
  },
  {
   "cell_type": "code",
   "execution_count": null,
   "metadata": {
    "id": "MDARGmzutqwC"
   },
   "outputs": [],
   "source": [
    "a.index(5)      # indice de la primera ocurrencia de 5 en a"
   ]
  },
  {
   "cell_type": "code",
   "execution_count": null,
   "metadata": {
    "id": "zlk4fjY_ty-N"
   },
   "outputs": [],
   "source": [
    "a.count(5)      # ocurrencias totales de 5 en a"
   ]
  },
  {
   "cell_type": "code",
   "execution_count": null,
   "metadata": {
    "id": "IAUmd3Bet4-I"
   },
   "outputs": [],
   "source": [
    "print(max(a), min(a))"
   ]
  },
  {
   "cell_type": "markdown",
   "metadata": {
    "id": "3hFdo46eFJ3L"
   },
   "source": [
    "## ¿En qué se diferencias las tuplas de las listas?"
   ]
  },
  {
   "cell_type": "markdown",
   "metadata": {
    "id": "rOFb-F1sFPIH"
   },
   "source": [
    "* Las tuplas son **más rápidas** que las listas porque tienen un valor constante que no se cambia con el tiempo.\n",
    "  * A nivel computacional se procesan más rápido.\n",
    "* Las tuplas hacen que el código esté a salvo de cualquier modificación accidental.\n",
    "  * Si se necesita un dato en un programa que no se debe cambiar, entonces es mejor ponerlo como una **tupla** en vez de una lista."
   ]
  },
  {
   "cell_type": "markdown",
   "metadata": {
    "id": "l4wqKuQDGJIe"
   },
   "source": [
    "### Ejemplo de un ejercicio"
   ]
  },
  {
   "cell_type": "markdown",
   "metadata": {
    "id": "jl89LsyVGX11"
   },
   "source": [
    "En este ejercicio la función debe devolver una **tupla**."
   ]
  },
  {
   "cell_type": "markdown",
   "metadata": {
    "id": "g6fkq1wKG7Oh"
   },
   "source": [
    "![ejer_10.png](data:image/png;base64,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)"
   ]
  },
  {
   "cell_type": "markdown",
   "metadata": {
    "id": "sleZSPWWHAdt"
   },
   "source": [
    "**IMPORTANTE**\n",
    "\n",
    "---\n",
    "Las funciones deben devolver lo que se está pidiendo.\n",
    "  * Si pide que se devuelva un `strng` debe ser un `str`. Si es una lista, debe ser una lista. Si es `True` or `False`, el resultado debe ser tipo `bool`.\n",
    "    * Caso contrario no está realizando lo que se pide en el enunciado."
   ]
  },
  {
   "cell_type": "markdown",
   "metadata": {
    "id": "M2R9E9WTvccz"
   },
   "source": [
    "# Diccionarios"
   ]
  },
  {
   "cell_type": "markdown",
   "metadata": {
    "id": "_n4Dyy0ivork"
   },
   "source": [
    "## ¿Qué es un diccionario?"
   ]
  },
  {
   "cell_type": "markdown",
   "metadata": {
    "id": "duKNPpQdvrjo"
   },
   "source": [
    "Un **diccionario** es un **objeto** de Python similar a una lista, excepto que todas las entradas de un diccionario constan de dos partes que son clave y valor:\n",
    "* **Clave**: un string o número que identifica el valor.\n",
    "* **Valor**: datos asociados a la clave."
   ]
  },
  {
   "cell_type": "markdown",
   "metadata": {
    "id": "VZjRw08fBsCR"
   },
   "source": [
    "Veamos el siguiente ejemplo:"
   ]
  },
  {
   "cell_type": "markdown",
   "metadata": {
    "id": "zkYbgzVGBt3a"
   },
   "source": [
    "![python_dic_lst.png](data:image/png;base64,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)"
   ]
  },
  {
   "cell_type": "markdown",
   "metadata": {
    "id": "NKaYgGSUB_jk"
   },
   "source": [
    "* A la derecha vemos que cada parte se asocia a un número, y el número está vinculado a una descripción.\n",
    "  * Buscamos el número que corresponde con la parte que nos interesa de la serpiente, con este modo damos con la descripción.\n",
    "    * Así funcionan las listas: extraemos un valor a través de su índice.\n",
    "\n",
    "* A la izquierda vemos que cada parte del cuerpo de la serpiente se señala con una leyenda.\n",
    "  * Así funcionan los diccionarios: el objeto que se describe (el valor) se enlaza directamente con el nombre (clave)."
   ]
  },
  {
   "cell_type": "markdown",
   "metadata": {
    "id": "8LB3BAJbIRux"
   },
   "source": [
    "## Sintaxis"
   ]
  },
  {
   "cell_type": "markdown",
   "metadata": {
    "id": "dsrB46YCIUIN"
   },
   "source": [
    "Estas son las tres reglas básicas de la sintaxis de los diccionarios:\n",
    "* Los diccionarios se escriben con llaves.\n",
    "* Las comas sirven para separar elementos (pares de clave y valor) dentro del diccionario.\n",
    "* Dentro de un mismo par, la clave y el valor se separan con dos puntos."
   ]
  },
  {
   "cell_type": "markdown",
   "metadata": {
    "id": "aFDI4Y-LIkfo"
   },
   "source": [
    "### Ejemplo 12\n",
    "Vamos a crear un diccionario que contenga la información de un vuelo.\n",
    "\n",
    "La clave es el número de vuelo y el valor es la fecha y hora de salida."
   ]
  },
  {
   "cell_type": "code",
   "execution_count": 38,
   "metadata": {
    "executionInfo": {
     "elapsed": 218,
     "status": "ok",
     "timestamp": 1709852546236,
     "user": {
      "displayName": "Juan Felipe Nájera",
      "userId": "12739768035030133691"
     },
     "user_tz": 300
    },
    "id": "itNO_ZkDvevr"
   },
   "outputs": [],
   "source": [
    "schedule = {                        # las llaves indican el comienzo o el final\n",
    "    'SU2222': '12.06.18 12:30',     # a la izquierda de los dos puntos tenemos la clave,\n",
    "    'SU1111': '12.06.18 14:05',     # a la derecha, el valor\n",
    "    'SU0777': '12.06.18 17:00',     # cada elemento se separa con una coma\n",
    "    'SU5555': '15.06.18 11:25'\n",
    "}"
   ]
  },
  {
   "cell_type": "code",
   "execution_count": 39,
   "metadata": {
    "executionInfo": {
     "elapsed": 4,
     "status": "ok",
     "timestamp": 1709852568951,
     "user": {
      "displayName": "Juan Felipe Nájera",
      "userId": "12739768035030133691"
     },
     "user_tz": 300
    },
    "id": "AcMvT1RZBKGA"
   },
   "outputs": [],
   "source": [
    "schedule = {'SU2222': '12.06.18 12:30','SU1111': '12.06.18 14:05','SU0777': '12.06.18 17:00','SU5555': '15.06.18 11:25'}"
   ]
  },
  {
   "cell_type": "code",
   "execution_count": 40,
   "metadata": {
    "colab": {
     "base_uri": "https://localhost:8080/"
    },
    "executionInfo": {
     "elapsed": 228,
     "status": "ok",
     "timestamp": 1709852570741,
     "user": {
      "displayName": "Juan Felipe Nájera",
      "userId": "12739768035030133691"
     },
     "user_tz": 300
    },
    "id": "KI6_WjEDJBU7",
    "outputId": "5ff5a9f2-e2db-4b56-fe8f-97e2065a6c9b"
   },
   "outputs": [
    {
     "data": {
      "text/plain": [
       "{'SU2222': '12.06.18 12:30',\n",
       " 'SU1111': '12.06.18 14:05',\n",
       " 'SU0777': '12.06.18 17:00',\n",
       " 'SU5555': '15.06.18 11:25'}"
      ]
     },
     "execution_count": 40,
     "metadata": {},
     "output_type": "execute_result"
    }
   ],
   "source": [
    "schedule"
   ]
  },
  {
   "cell_type": "markdown",
   "metadata": {
    "id": "SeLLBuo-JKIQ"
   },
   "source": [
    "**IMPORTANTE**\n",
    "\n",
    "---\n",
    "\n",
    "* La obtención de datos a partir de diccionario es más rápida, aunque los diccionarios ocupan más espacio en la memoria.\n",
    "* Los diccionarios pueden almacenar datos de todo tipo, pero las claves solo pueden ser de datos inmutables:\n",
    "  * Strings\n",
    "  * Números (números enteros y de coma flotante)\n",
    "  * Tuplas\n",
    "* No hay restricción para los **valores**."
   ]
  },
  {
   "cell_type": "markdown",
   "metadata": {
    "id": "n3BzUzEhNJcx"
   },
   "source": [
    "## Acceso a los diccionarios"
   ]
  },
  {
   "cell_type": "markdown",
   "metadata": {
    "id": "5lBLE9g6Jubm"
   },
   "source": [
    "### Ejemplo 13\n",
    "Al igual que las listas, podemos pasar diccionarios la función `len()` para obtener el número de elementos."
   ]
  },
  {
   "cell_type": "code",
   "execution_count": 41,
   "metadata": {
    "colab": {
     "base_uri": "https://localhost:8080/"
    },
    "executionInfo": {
     "elapsed": 194,
     "status": "ok",
     "timestamp": 1709852647227,
     "user": {
      "displayName": "Juan Felipe Nájera",
      "userId": "12739768035030133691"
     },
     "user_tz": 300
    },
    "id": "SH5hbwvsJmzw",
    "outputId": "46e07023-b098-4ba3-c0c2-0397c98be908"
   },
   "outputs": [
    {
     "name": "stdout",
     "output_type": "stream",
     "text": [
      "5\n"
     ]
    }
   ],
   "source": [
    "# el valor es el número de goles marcados en el 2019\n",
    "players_result = {\n",
    "    'Cristiano Ronaldo': 39,\n",
    "    'Robert Lewandowski': 54,\n",
    "    'Lionel Messi': 50,\n",
    "    'Harry Kane': 36,\n",
    "    'Karim Benzema': 35\n",
    "}\n",
    "print(len(players_result))"
   ]
  },
  {
   "cell_type": "markdown",
   "metadata": {
    "id": "QHFeGc7rKY3-"
   },
   "source": [
    "Verificamos el tipo de dato con la función `type()`"
   ]
  },
  {
   "cell_type": "code",
   "execution_count": 42,
   "metadata": {
    "colab": {
     "base_uri": "https://localhost:8080/"
    },
    "executionInfo": {
     "elapsed": 216,
     "status": "ok",
     "timestamp": 1709852671384,
     "user": {
      "displayName": "Juan Felipe Nájera",
      "userId": "12739768035030133691"
     },
     "user_tz": 300
    },
    "id": "VaE3ZssPKfe0",
    "outputId": "a75f5d89-e56a-4e4d-e6e9-7b7e9fbc9a7e"
   },
   "outputs": [
    {
     "data": {
      "text/plain": [
       "dict"
      ]
     },
     "execution_count": 42,
     "metadata": {},
     "output_type": "execute_result"
    }
   ],
   "source": [
    "type(players_result)"
   ]
  },
  {
   "cell_type": "markdown",
   "metadata": {
    "id": "eIQ1QQUyKmJA"
   },
   "source": [
    "Se puede crear un diccionario con la función `dict()`"
   ]
  },
  {
   "cell_type": "code",
   "execution_count": null,
   "metadata": {},
   "outputs": [],
   "source": [
    "int()\n",
    "bool()\n",
    "list()"
   ]
  },
  {
   "cell_type": "code",
   "execution_count": 43,
   "metadata": {
    "colab": {
     "base_uri": "https://localhost:8080/"
    },
    "executionInfo": {
     "elapsed": 204,
     "status": "ok",
     "timestamp": 1709852706052,
     "user": {
      "displayName": "Juan Felipe Nájera",
      "userId": "12739768035030133691"
     },
     "user_tz": 300
    },
    "id": "-VOJhu-QKqvd",
    "outputId": "8279f261-f71e-4244-8705-be238e7a9afb"
   },
   "outputs": [
    {
     "name": "stdout",
     "output_type": "stream",
     "text": [
      "{'Sevilla': 25.5, 'Londres': 15.5, 'Lisboa': 17.5}\n"
     ]
    }
   ],
   "source": [
    "# temperatura en ciudades\n",
    "temperatura = dict(Sevilla=25.5, Londres=15.5, Lisboa=17.5)\n",
    "print(temperatura)"
   ]
  },
  {
   "cell_type": "code",
   "execution_count": null,
   "metadata": {
    "colab": {
     "base_uri": "https://localhost:8080/"
    },
    "executionInfo": {
     "elapsed": 195,
     "status": "ok",
     "timestamp": 1709852732287,
     "user": {
      "displayName": "Juan Felipe Nájera",
      "userId": "12739768035030133691"
     },
     "user_tz": 300
    },
    "id": "G2DQ8m4gCPLQ",
    "outputId": "93e37964-5475-4313-fc9b-68a0ff3379c0"
   },
   "outputs": [],
   "source": [
    "temperatura"
   ]
  },
  {
   "cell_type": "markdown",
   "metadata": {
    "id": "302CdEUSLAM-"
   },
   "source": [
    "Son datos estructurados **mutables**, por lo que podemos añadirle un nuevo par *clave-valor*."
   ]
  },
  {
   "cell_type": "code",
   "execution_count": 44,
   "metadata": {
    "colab": {
     "base_uri": "https://localhost:8080/"
    },
    "executionInfo": {
     "elapsed": 3,
     "status": "ok",
     "timestamp": 1709852763693,
     "user": {
      "displayName": "Juan Felipe Nájera",
      "userId": "12739768035030133691"
     },
     "user_tz": 300
    },
    "id": "Qq0y9F5RLHX1",
    "outputId": "57cb8086-cf14-4bee-9797-0ccec66acb20"
   },
   "outputs": [
    {
     "name": "stdout",
     "output_type": "stream",
     "text": [
      "{'Sevilla': 25.5, 'Londres': 15.5, 'Lisboa': 17.5, 'Valencia': 26}\n"
     ]
    }
   ],
   "source": [
    "temperatura[\"Valencia\"] = 26\n",
    "print(temperatura)"
   ]
  },
  {
   "cell_type": "markdown",
   "metadata": {
    "id": "BoL-eEryLdSW"
   },
   "source": [
    "Los diccionarios se acceden al valor de los elementos a través de la **clave** como un índice, y se pueden borrar elementos con `del`."
   ]
  },
  {
   "cell_type": "code",
   "execution_count": 45,
   "metadata": {
    "colab": {
     "base_uri": "https://localhost:8080/"
    },
    "executionInfo": {
     "elapsed": 211,
     "status": "ok",
     "timestamp": 1709852782497,
     "user": {
      "displayName": "Juan Felipe Nájera",
      "userId": "12739768035030133691"
     },
     "user_tz": 300
    },
    "id": "6MDzWi67LlnT",
    "outputId": "59f05434-dbb7-4745-c854-35582f2d75f4"
   },
   "outputs": [
    {
     "data": {
      "text/plain": [
       "15.5"
      ]
     },
     "execution_count": 45,
     "metadata": {},
     "output_type": "execute_result"
    }
   ],
   "source": [
    "# como índice\n",
    "temperatura[\"Londres\"]"
   ]
  },
  {
   "cell_type": "code",
   "execution_count": 46,
   "metadata": {
    "colab": {
     "base_uri": "https://localhost:8080/"
    },
    "executionInfo": {
     "elapsed": 196,
     "status": "ok",
     "timestamp": 1709852804016,
     "user": {
      "displayName": "Juan Felipe Nájera",
      "userId": "12739768035030133691"
     },
     "user_tz": 300
    },
    "id": "Me1rJvgfLzu8",
    "outputId": "2daa346b-e59b-49b3-9f73-ee326068ddd9"
   },
   "outputs": [
    {
     "name": "stdout",
     "output_type": "stream",
     "text": [
      "{'Londres': 15.5, 'Lisboa': 17.5, 'Valencia': 26}\n"
     ]
    }
   ],
   "source": [
    "# eliminar elemento\n",
    "del temperatura[\"Sevilla\"]\n",
    "print(temperatura)"
   ]
  },
  {
   "cell_type": "markdown",
   "metadata": {
    "id": "nW_TN1ECSmPh"
   },
   "source": [
    "¿Qué va a pasar si ejecutamos este código?"
   ]
  },
  {
   "cell_type": "code",
   "execution_count": null,
   "metadata": {
    "colab": {
     "base_uri": "https://localhost:8080/",
     "height": 141
    },
    "executionInfo": {
     "elapsed": 220,
     "status": "error",
     "timestamp": 1709852821936,
     "user": {
      "displayName": "Juan Felipe Nájera",
      "userId": "12739768035030133691"
     },
     "user_tz": 300
    },
    "id": "IzHX2aNvSqnm",
    "outputId": "07bbd015-7790-402b-e4ea-aeee33387869"
   },
   "outputs": [],
   "source": [
    "temperatura[\"Sevilla\"]"
   ]
  },
  {
   "cell_type": "markdown",
   "metadata": {
    "id": "VVlnbtCcS0RY"
   },
   "source": [
    "Aparece el error `KeyError` que indica que la clave especificada no se encuentra en el diccionario."
   ]
  },
  {
   "cell_type": "markdown",
   "metadata": {
    "id": "A_8BbyiDS5pB"
   },
   "source": [
    "Para esto, es mejor utilizar un método que se verá más adelante."
   ]
  },
  {
   "cell_type": "markdown",
   "metadata": {
    "id": "iSQnHQixMT1F"
   },
   "source": [
    "### Ejemplo 14\n",
    "Diccionario con listas como valores."
   ]
  },
  {
   "cell_type": "code",
   "execution_count": 47,
   "metadata": {
    "colab": {
     "base_uri": "https://localhost:8080/"
    },
    "executionInfo": {
     "elapsed": 222,
     "status": "ok",
     "timestamp": 1709852939971,
     "user": {
      "displayName": "Juan Felipe Nájera",
      "userId": "12739768035030133691"
     },
     "user_tz": 300
    },
    "id": "jm0cGGSvMaTo",
    "outputId": "990fed7e-7ced-4662-89a9-03df342c6645"
   },
   "outputs": [
    {
     "name": "stdout",
     "output_type": "stream",
     "text": [
      "{'a': [1, 2, 3], 'b': [4, 5, 6], 'c': [7, 8, 9]}\n"
     ]
    }
   ],
   "source": [
    "d = {\n",
    "    \"a\": [1,2,3],\n",
    "    \"b\": [4,5,6],\n",
    "    \"c\": [7,8,9]\n",
    "}\n",
    "print(d)"
   ]
  },
  {
   "cell_type": "markdown",
   "metadata": {
    "id": "FIOKCtrlMvaj"
   },
   "source": [
    "También se puede acceder a sus sub elementos.\n",
    "\n",
    "¿Qué resultado obtendremos? ❓"
   ]
  },
  {
   "cell_type": "code",
   "execution_count": 48,
   "metadata": {
    "colab": {
     "base_uri": "https://localhost:8080/"
    },
    "executionInfo": {
     "elapsed": 202,
     "status": "ok",
     "timestamp": 1709852943673,
     "user": {
      "displayName": "Juan Felipe Nájera",
      "userId": "12739768035030133691"
     },
     "user_tz": 300
    },
    "id": "VHuMilnFMziG",
    "outputId": "14767c75-56f4-497f-99eb-8af05adcac24"
   },
   "outputs": [
    {
     "data": {
      "text/plain": [
       "9"
      ]
     },
     "execution_count": 48,
     "metadata": {},
     "output_type": "execute_result"
    }
   ],
   "source": [
    "d[\"c\"][2]"
   ]
  },
  {
   "cell_type": "markdown",
   "metadata": {
    "id": "MVEPaVZwNC9A"
   },
   "source": [
    "## Operaciones con diccionarios"
   ]
  },
  {
   "cell_type": "markdown",
   "metadata": {
    "id": "ys39cOFKODmc"
   },
   "source": [
    "### Ejemplo 15\n",
    "\n",
    "El operador booleano `in` se puede emplear también en estas estructuras, pero se usa para averiguar si una clave forma parte del diccionario."
   ]
  },
  {
   "cell_type": "code",
   "execution_count": null,
   "metadata": {
    "colab": {
     "base_uri": "https://localhost:8080/"
    },
    "executionInfo": {
     "elapsed": 212,
     "status": "ok",
     "timestamp": 1709852958355,
     "user": {
      "displayName": "Juan Felipe Nájera",
      "userId": "12739768035030133691"
     },
     "user_tz": 300
    },
    "id": "fWwgXu4GODPc",
    "outputId": "dba77f26-69d8-4f12-ef40-c0dfad122a91"
   },
   "outputs": [],
   "source": [
    "temperatura"
   ]
  },
  {
   "cell_type": "code",
   "execution_count": null,
   "metadata": {
    "colab": {
     "base_uri": "https://localhost:8080/"
    },
    "executionInfo": {
     "elapsed": 189,
     "status": "ok",
     "timestamp": 1709852977977,
     "user": {
      "displayName": "Juan Felipe Nájera",
      "userId": "12739768035030133691"
     },
     "user_tz": 300
    },
    "id": "iYAsAOjxOH08",
    "outputId": "7ec5dd1c-d8e1-4416-c026-bc8b67babc73"
   },
   "outputs": [],
   "source": [
    "print(\"Londres\" in temperatura)\n",
    "print(\"Lima\" in temperatura)"
   ]
  },
  {
   "cell_type": "markdown",
   "metadata": {
    "id": "9Ib3PC-dOUMv"
   },
   "source": [
    "### Ejemplo 16\n",
    "Se puede recorrer un diccionario con una composición `for`-`in`, como otro dato estructurado, **usando las claves como índices**."
   ]
  },
  {
   "cell_type": "code",
   "execution_count": 49,
   "metadata": {
    "colab": {
     "base_uri": "https://localhost:8080/"
    },
    "executionInfo": {
     "elapsed": 212,
     "status": "ok",
     "timestamp": 1709852992806,
     "user": {
      "displayName": "Juan Felipe Nájera",
      "userId": "12739768035030133691"
     },
     "user_tz": 300
    },
    "id": "-MNu427UJsmC",
    "outputId": "7b49eb23-1669-4243-8682-74807b2cca82"
   },
   "outputs": [
    {
     "data": {
      "text/plain": [
       "{'Londres': 15.5, 'Lisboa': 17.5, 'Valencia': 26}"
      ]
     },
     "execution_count": 49,
     "metadata": {},
     "output_type": "execute_result"
    }
   ],
   "source": [
    "temperatura"
   ]
  },
  {
   "cell_type": "code",
   "execution_count": 50,
   "metadata": {
    "colab": {
     "base_uri": "https://localhost:8080/"
    },
    "executionInfo": {
     "elapsed": 201,
     "status": "ok",
     "timestamp": 1709853027675,
     "user": {
      "displayName": "Juan Felipe Nájera",
      "userId": "12739768035030133691"
     },
     "user_tz": 300
    },
    "id": "Nsjd6jnGOkJ5",
    "outputId": "68513a75-c5a7-4e31-c1f7-94df44550b56"
   },
   "outputs": [
    {
     "name": "stdout",
     "output_type": "stream",
     "text": [
      "Temperatura en Londres es 15.5\n",
      "Temperatura en Lisboa es 17.5\n",
      "Temperatura en Valencia es 26\n"
     ]
    }
   ],
   "source": [
    "for ciudad in temperatura:\n",
    "  print(f\"Temperatura en {ciudad} es {temperatura[ciudad]}\")"
   ]
  },
  {
   "cell_type": "markdown",
   "metadata": {
    "id": "v7shVtzeO3rA"
   },
   "source": [
    "Otro ejemplo pero con `d`"
   ]
  },
  {
   "cell_type": "code",
   "execution_count": null,
   "metadata": {
    "id": "sREvS0gnO2zd"
   },
   "outputs": [],
   "source": [
    "print(d)"
   ]
  },
  {
   "cell_type": "code",
   "execution_count": null,
   "metadata": {
    "id": "CVtw_Lu-O6_N"
   },
   "outputs": [],
   "source": [
    "for k in d:\n",
    "  print(f\"{k} 1er elemento --> {d[k][0]}\")"
   ]
  },
  {
   "cell_type": "markdown",
   "metadata": {
    "id": "1YMFtSAkPQdO"
   },
   "source": [
    "## Métodos de diccionarios"
   ]
  },
  {
   "cell_type": "markdown",
   "metadata": {
    "id": "yBxbxcgpPUfM"
   },
   "source": [
    "Como todo objeto en Python, los diccionarios tienen sus propios métodos asociados.\n",
    "* `keys()` - extrae las **claves** del diccionario.\n",
    "* `values()` - extrae los **valores** del diccionario.\n",
    "\n",
    "Función `len()` devuelve el número de elementos (o **pares clave-valor**)."
   ]
  },
  {
   "cell_type": "markdown",
   "metadata": {
    "id": "Op7nacUgPz2p"
   },
   "source": [
    "### Ejemplo 17\n",
    "Verifiquemos esto con ejemplos."
   ]
  },
  {
   "cell_type": "code",
   "execution_count": 51,
   "metadata": {
    "colab": {
     "base_uri": "https://localhost:8080/"
    },
    "executionInfo": {
     "elapsed": 211,
     "status": "ok",
     "timestamp": 1709853078691,
     "user": {
      "displayName": "Juan Felipe Nájera",
      "userId": "12739768035030133691"
     },
     "user_tz": 300
    },
    "id": "1FGvfXAQPULA",
    "outputId": "731cfbe9-5b65-4dde-969d-366c45afe296"
   },
   "outputs": [
    {
     "name": "stdout",
     "output_type": "stream",
     "text": [
      "{'Londres': 15.5, 'Lisboa': 17.5, 'Valencia': 26}\n"
     ]
    }
   ],
   "source": [
    "print(temperatura)"
   ]
  },
  {
   "cell_type": "code",
   "execution_count": 52,
   "metadata": {
    "colab": {
     "base_uri": "https://localhost:8080/"
    },
    "executionInfo": {
     "elapsed": 218,
     "status": "ok",
     "timestamp": 1709853082130,
     "user": {
      "displayName": "Juan Felipe Nájera",
      "userId": "12739768035030133691"
     },
     "user_tz": 300
    },
    "id": "e2v1dLIwP-HJ",
    "outputId": "89b36b45-d595-4a5d-c574-6b56209e63cf"
   },
   "outputs": [
    {
     "name": "stdout",
     "output_type": "stream",
     "text": [
      "dict_keys(['Londres', 'Lisboa', 'Valencia'])\n",
      "dict_values([15.5, 17.5, 26])\n"
     ]
    }
   ],
   "source": [
    "print(temperatura.keys())\n",
    "print(temperatura.values())"
   ]
  },
  {
   "cell_type": "code",
   "execution_count": 53,
   "metadata": {
    "colab": {
     "base_uri": "https://localhost:8080/"
    },
    "executionInfo": {
     "elapsed": 238,
     "status": "ok",
     "timestamp": 1709853098528,
     "user": {
      "displayName": "Juan Felipe Nájera",
      "userId": "12739768035030133691"
     },
     "user_tz": 300
    },
    "id": "iP5V1ioQKcDz",
    "outputId": "58fc2bcd-a09e-40dc-d941-e1760b66f6aa"
   },
   "outputs": [
    {
     "name": "stdout",
     "output_type": "stream",
     "text": [
      "<class 'dict_keys'>\n",
      "<class 'dict_values'>\n"
     ]
    }
   ],
   "source": [
    "print(type(temperatura.keys()))\n",
    "print(type(temperatura.values()))"
   ]
  },
  {
   "cell_type": "code",
   "execution_count": 54,
   "metadata": {
    "colab": {
     "base_uri": "https://localhost:8080/"
    },
    "executionInfo": {
     "elapsed": 193,
     "status": "ok",
     "timestamp": 1709853116701,
     "user": {
      "displayName": "Juan Felipe Nájera",
      "userId": "12739768035030133691"
     },
     "user_tz": 300
    },
    "id": "7DjFSt86CkaD",
    "outputId": "e14167da-e387-4d0f-b87a-f09ad363bba6"
   },
   "outputs": [
    {
     "name": "stdout",
     "output_type": "stream",
     "text": [
      "['Londres', 'Lisboa', 'Valencia']\n",
      "[15.5, 17.5, 26]\n"
     ]
    }
   ],
   "source": [
    "print(list(temperatura.keys()))\n",
    "print(list(temperatura.values()))"
   ]
  },
  {
   "cell_type": "code",
   "execution_count": null,
   "metadata": {
    "id": "CrpyQWWOQI51"
   },
   "outputs": [],
   "source": [
    "len(temperatura)"
   ]
  },
  {
   "cell_type": "markdown",
   "metadata": {
    "id": "sXRQ8c38QiWP"
   },
   "source": [
    "Con esto, es útil convertir las claves y los valores a listas."
   ]
  },
  {
   "cell_type": "code",
   "execution_count": null,
   "metadata": {
    "colab": {
     "base_uri": "https://localhost:8080/"
    },
    "executionInfo": {
     "elapsed": 202,
     "status": "ok",
     "timestamp": 1709853163094,
     "user": {
      "displayName": "Juan Felipe Nájera",
      "userId": "12739768035030133691"
     },
     "user_tz": 300
    },
    "id": "jaMicHWTQnYO",
    "outputId": "24537ad9-1cf7-4dfe-f76b-77b52bd46aab"
   },
   "outputs": [],
   "source": [
    "print(list(temperatura.keys()))\n",
    "print(list(temperatura.values()))"
   ]
  },
  {
   "cell_type": "markdown",
   "metadata": {
    "id": "lCUyFZv7Qy9x"
   },
   "source": [
    "También se puede recorrer un diccionario de esta forma."
   ]
  },
  {
   "cell_type": "code",
   "execution_count": 55,
   "metadata": {
    "colab": {
     "base_uri": "https://localhost:8080/"
    },
    "executionInfo": {
     "elapsed": 203,
     "status": "ok",
     "timestamp": 1709853171332,
     "user": {
      "displayName": "Juan Felipe Nájera",
      "userId": "12739768035030133691"
     },
     "user_tz": 300
    },
    "id": "hR4xKhtZEOTp",
    "outputId": "9f46d0fb-8ba3-47b4-d216-5e04139b597c"
   },
   "outputs": [
    {
     "name": "stdout",
     "output_type": "stream",
     "text": [
      "Temperatura en Londres es 15.5\n",
      "Temperatura en Lisboa es 17.5\n",
      "Temperatura en Valencia es 26\n"
     ]
    }
   ],
   "source": [
    "for ciudad in temperatura:\n",
    "  print(f\"Temperatura en {ciudad} es {temperatura[ciudad]}\")"
   ]
  },
  {
   "cell_type": "code",
   "execution_count": 56,
   "metadata": {
    "colab": {
     "base_uri": "https://localhost:8080/"
    },
    "executionInfo": {
     "elapsed": 212,
     "status": "ok",
     "timestamp": 1709853178084,
     "user": {
      "displayName": "Juan Felipe Nájera",
      "userId": "12739768035030133691"
     },
     "user_tz": 300
    },
    "id": "RhqepyVxQ3HZ",
    "outputId": "bbba5297-26f6-47db-e12b-c899f0808566"
   },
   "outputs": [
    {
     "name": "stdout",
     "output_type": "stream",
     "text": [
      "Temperatura en Londres es 15.5\n",
      "Temperatura en Lisboa es 17.5\n",
      "Temperatura en Valencia es 26\n"
     ]
    }
   ],
   "source": [
    "for ciudad in temperatura.keys():\n",
    "  print(f\"Temperatura en {ciudad} es {temperatura[ciudad]}\")"
   ]
  },
  {
   "cell_type": "markdown",
   "metadata": {
    "id": "JEwTYlCCRF9C"
   },
   "source": [
    "O de esta otra forma:"
   ]
  },
  {
   "cell_type": "code",
   "execution_count": 57,
   "metadata": {
    "colab": {
     "base_uri": "https://localhost:8080/"
    },
    "executionInfo": {
     "elapsed": 204,
     "status": "ok",
     "timestamp": 1709853189306,
     "user": {
      "displayName": "Juan Felipe Nájera",
      "userId": "12739768035030133691"
     },
     "user_tz": 300
    },
    "id": "7XlRfkqYR-yq",
    "outputId": "28d14839-08e2-4dae-d016-37e25fb6f4fe"
   },
   "outputs": [
    {
     "data": {
      "text/plain": [
       "dict_items([('Londres', 15.5), ('Lisboa', 17.5), ('Valencia', 26)])"
      ]
     },
     "execution_count": 57,
     "metadata": {},
     "output_type": "execute_result"
    }
   ],
   "source": [
    "temperatura.items()"
   ]
  },
  {
   "cell_type": "code",
   "execution_count": 58,
   "metadata": {
    "colab": {
     "base_uri": "https://localhost:8080/"
    },
    "executionInfo": {
     "elapsed": 210,
     "status": "ok",
     "timestamp": 1709853221007,
     "user": {
      "displayName": "Juan Felipe Nájera",
      "userId": "12739768035030133691"
     },
     "user_tz": 300
    },
    "id": "1y2AOnF6RHeC",
    "outputId": "5f6beca2-b413-440c-cbee-22ca77d0297d"
   },
   "outputs": [
    {
     "name": "stdout",
     "output_type": "stream",
     "text": [
      "Temperatura en Londres es 15.5\n",
      "Temperatura en Lisboa es 17.5\n",
      "Temperatura en Valencia es 26\n"
     ]
    }
   ],
   "source": [
    "for ciudad, temp in temperatura.items():    # ciudad -> clave, temp -> valor\n",
    "  print(f\"Temperatura en {ciudad} es {temp}\")"
   ]
  },
  {
   "cell_type": "markdown",
   "metadata": {
    "id": "ryQzgATVRm3h"
   },
   "source": [
    "El método `items()` retorna una **vista** de los elementos del diccionario como tuplas de una lista."
   ]
  },
  {
   "cell_type": "markdown",
   "metadata": {
    "id": "zSXn23ZARP5b"
   },
   "source": [
    "Cualquier opción que elijan, es correcta."
   ]
  },
  {
   "cell_type": "markdown",
   "metadata": {
    "id": "hXn4jxltUp52"
   },
   "source": [
    "Aquí está otro ejemplo de otro diccionario:"
   ]
  },
  {
   "cell_type": "code",
   "execution_count": 60,
   "metadata": {
    "executionInfo": {
     "elapsed": 214,
     "status": "ok",
     "timestamp": 1709853295608,
     "user": {
      "displayName": "Juan Felipe Nájera",
      "userId": "12739768035030133691"
     },
     "user_tz": 300
    },
    "id": "ENiQ6NJkUs_x"
   },
   "outputs": [],
   "source": [
    "# jugadores de básket y puntos en 4 partidos.\n",
    "game_scores = {\n",
    "    'Smith': [23, 5, 10, 16],\n",
    "    'Turner': [30, 15, 21, 36],\n",
    "    'Mason': [45, 33, 40, 28],\n",
    "    'Woodman': [17, 33, 24, 2]\n",
    "}"
   ]
  },
  {
   "cell_type": "code",
   "execution_count": 61,
   "metadata": {
    "colab": {
     "base_uri": "https://localhost:8080/"
    },
    "executionInfo": {
     "elapsed": 216,
     "status": "ok",
     "timestamp": 1709853297474,
     "user": {
      "displayName": "Juan Felipe Nájera",
      "userId": "12739768035030133691"
     },
     "user_tz": 300
    },
    "id": "FcshFcu0VLyK",
    "outputId": "17c22a24-6951-43eb-a912-eb77c39a2b30"
   },
   "outputs": [
    {
     "name": "stdout",
     "output_type": "stream",
     "text": [
      "Smith - 54\n",
      "Turner - 102\n",
      "Mason - 146\n",
      "Woodman - 76\n"
     ]
    }
   ],
   "source": [
    "for person, points in game_scores.items():  # persona -> clave, aros -> valor\n",
    "    total_points = sum(points)              # la función sum() devuelve la suma de la lista de aros\n",
    "    print(f'{person} - {total_points}')     # muestra el total de aros de cada persona"
   ]
  },
  {
   "cell_type": "markdown",
   "metadata": {
    "id": "ju0KV083S_3x"
   },
   "source": [
    "El método correcto para obtener el valor de la clave de un diccionario es `get()`"
   ]
  },
  {
   "cell_type": "markdown",
   "metadata": {
    "id": "z0kbsb8HTKZ1"
   },
   "source": [
    "### Ejemplo 18\n",
    "Veamos cómo se puede utilizar `get()` en el diccionario de varias empresas con sus acciones en la bolsa de valores."
   ]
  },
  {
   "cell_type": "code",
   "execution_count": 68,
   "metadata": {
    "executionInfo": {
     "elapsed": 207,
     "status": "ok",
     "timestamp": 1709853317888,
     "user": {
      "displayName": "Juan Felipe Nájera",
      "userId": "12739768035030133691"
     },
     "user_tz": 300
    },
    "id": "TLmFiHlgTNsO"
   },
   "outputs": [],
   "source": [
    "financial_info = {\n",
    "    'American Express': 93.23,\n",
    "    'Boeing': 178.44,\n",
    "    'Coca-Cola': 45.15,\n",
    "    'Nike': 97.99,\n",
    "    'JPMorgan':96.27,\n",
    "    'Walmart': 130.68\n",
    "}"
   ]
  },
  {
   "cell_type": "code",
   "execution_count": null,
   "metadata": {
    "colab": {
     "base_uri": "https://localhost:8080/"
    },
    "executionInfo": {
     "elapsed": 190,
     "status": "ok",
     "timestamp": 1709853353649,
     "user": {
      "displayName": "Juan Felipe Nájera",
      "userId": "12739768035030133691"
     },
     "user_tz": 300
    },
    "id": "6s8las-ITX_N",
    "outputId": "58d8719d-1dfc-455a-8227-eb5b366daa90"
   },
   "outputs": [],
   "source": [
    "pepsi_price = financial_info.get('Pepsi')\n",
    "nike_price = financial_info.get('Nike')\n",
    "print(pepsi_price)\n",
    "print(nike_price)"
   ]
  },
  {
   "cell_type": "markdown",
   "metadata": {
    "id": "bv6Pj-gpTd9y"
   },
   "source": [
    "Pepsi no está en el diccionario `financial_info` por lo que nos devolverá un `None`, indicándonos la ausencia de un valor.\n",
    "\n",
    "También podemos poner un segundo argumento (cualquier valor) que indicará ese valor en caso de que no haya. En este caso fijamos como `-1`."
   ]
  },
  {
   "cell_type": "code",
   "execution_count": null,
   "metadata": {
    "colab": {
     "base_uri": "https://localhost:8080/"
    },
    "executionInfo": {
     "elapsed": 217,
     "status": "ok",
     "timestamp": 1709853560003,
     "user": {
      "displayName": "Juan Felipe Nájera",
      "userId": "12739768035030133691"
     },
     "user_tz": 300
    },
    "id": "jKrmOBAZT4T4",
    "outputId": "1a1609c3-837c-4a03-9da5-43fddc0116e1"
   },
   "outputs": [],
   "source": [
    "pepsi_price = financial_info.get('Pepsi', \"no existe\")\n",
    "nike_price = financial_info.get('Nike', -1)\n",
    "print(pepsi_price)\n",
    "print(nike_price)"
   ]
  },
  {
   "cell_type": "markdown",
   "metadata": {
    "id": "8oSfkA_YViKQ"
   },
   "source": [
    "## Listas de diccionarios"
   ]
  },
  {
   "cell_type": "markdown",
   "metadata": {
    "id": "IvjTL54eVlr3"
   },
   "source": [
    "La última estructura que vamos a ver antes de pasar a pandas es la lista de diccionarios. ¿Por qué?\n",
    "* Porque las listas de diccionarios son muy parecidas a las tablas, que son estructuras **bidimensionales** que utiliza pandas para almacenar datos."
   ]
  },
  {
   "cell_type": "markdown",
   "metadata": {
    "id": "gddmjpupV4KN"
   },
   "source": [
    "Hemos visto esta estructura (listas anidadas) para reproducir tablas:"
   ]
  },
  {
   "cell_type": "code",
   "execution_count": 62,
   "metadata": {
    "colab": {
     "base_uri": "https://localhost:8080/"
    },
    "executionInfo": {
     "elapsed": 219,
     "status": "ok",
     "timestamp": 1709853714974,
     "user": {
      "displayName": "Juan Felipe Nájera",
      "userId": "12739768035030133691"
     },
     "user_tz": 300
    },
    "id": "GNzcKMiOVlUL",
    "outputId": "1b32881a-1476-42a2-af97-ac54fba0a0da"
   },
   "outputs": [
    {
     "name": "stdout",
     "output_type": "stream",
     "text": [
      "[['Sueños de fuga', 'EE.UU.', 'drama', 1994, 142, 9.111], ['El padrino', 'EE.UU.', 'drama, crimen', 1972, 175, 8.73], ['Batman: El caballero de la noche', 'EE.UU.', 'fantasía, acción, thriller', 2008, 152, 8.499]]\n"
     ]
    }
   ],
   "source": [
    "movies_table = [\n",
    "    ['Sueños de fuga', 'EE.UU.', 'drama', 1994, 142, 9.111],\n",
    "    ['El padrino', 'EE.UU.', 'drama, crimen', 1972, 175, 8.730],\n",
    "    ['Batman: El caballero de la noche', 'EE.UU.', 'fantasía, acción, thriller', 2008, 152, 8.499]\n",
    "]\n",
    "print(movies_table)"
   ]
  },
  {
   "cell_type": "markdown",
   "metadata": {
    "id": "2c72N9RrWB-b"
   },
   "source": [
    "El problema es que la única forma de acceder es a través de los índices."
   ]
  },
  {
   "cell_type": "code",
   "execution_count": 63,
   "metadata": {
    "colab": {
     "base_uri": "https://localhost:8080/"
    },
    "executionInfo": {
     "elapsed": 271,
     "status": "ok",
     "timestamp": 1709853719259,
     "user": {
      "displayName": "Juan Felipe Nájera",
      "userId": "12739768035030133691"
     },
     "user_tz": 300
    },
    "id": "7fkn46lLWGG0",
    "outputId": "b412b6bc-3120-4f85-d218-8a782608008c"
   },
   "outputs": [
    {
     "name": "stdout",
     "output_type": "stream",
     "text": [
      "2008\n"
     ]
    }
   ],
   "source": [
    "# año de estreno de Batman\n",
    "print(movies_table[2][3])"
   ]
  },
  {
   "cell_type": "markdown",
   "metadata": {
    "id": "G7e8xAyLWUms"
   },
   "source": [
    "Así es como se vería la información de arriba:"
   ]
  },
  {
   "cell_type": "markdown",
   "metadata": {
    "id": "sZuVLZ_MWM-1"
   },
   "source": [
    "![tabla_indice.png](data:image/png;base64,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)"
   ]
  },
  {
   "cell_type": "markdown",
   "metadata": {
    "id": "Pstnqlv3WaUa"
   },
   "source": [
    "Se puede entender la tabla, pero como personas, estamos más acostumbrados a obtener información a través de los nombres de columnas.\n",
    "\n",
    "Si les damos nombres, quedaría de la siguiente forma:"
   ]
  },
  {
   "cell_type": "markdown",
   "metadata": {
    "id": "3Z0m5LMNWoNP"
   },
   "source": [
    "![tabla_columnas.png](data:image/png;base64,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)"
   ]
  },
  {
   "cell_type": "markdown",
   "metadata": {
    "id": "sJDch0rpWtgQ"
   },
   "source": [
    "Con las listas de diccionarios podemos cambiar los números de las columnas por nombres (claves de diccionario).\n",
    "\n",
    "Así aparecen los datos de la película en forma de lista de diccionarios:"
   ]
  },
  {
   "cell_type": "code",
   "execution_count": 68,
   "metadata": {
    "colab": {
     "base_uri": "https://localhost:8080/"
    },
    "executionInfo": {
     "elapsed": 200,
     "status": "ok",
     "timestamp": 1709853784877,
     "user": {
      "displayName": "Juan Felipe Nájera",
      "userId": "12739768035030133691"
     },
     "user_tz": 300
    },
    "id": "juDXZfG4WUIJ",
    "outputId": "5826f758-d658-4275-a600-4bdda1535487"
   },
   "outputs": [
    {
     "name": "stdout",
     "output_type": "stream",
     "text": [
      "[{'movie_name': 'Sueños de fuga', 'country': 'EE.UU.', 'genre': 'drama', 'year': 1994, 'duration': 142, 'rating': 9.111}, {'movie_name': 'El padrino', 'country': 'EE.UU.', 'genre': 'drama, crimen', 'year': 1972, 'duration': 175, 'rating': 8.73, 'director': 'Francis Ford Coppola'}, {'movie_name': 'Batman: El caballero de la noche', 'country': 'EE.UU.', 'genre': 'fantasía, acción, thriller', 'year': 2008, 'duration': 152, 'rating': 8.499}]\n"
     ]
    }
   ],
   "source": [
    "movies_table = [\n",
    "    {'movie_name':'Sueños de fuga', 'country':'EE.UU.', 'genre':'drama', 'year':1994, 'duration':142, 'rating':9.111},\n",
    "    {'movie_name':'El padrino', 'country':'EE.UU.', 'genre':'drama, crimen', 'year':1972, 'duration':175, 'rating':8.730, \"director\":\"Francis Ford Coppola\"},\n",
    "    {'movie_name':'Batman: El caballero de la noche', 'country':'EE.UU.', 'genre':'fantasía, acción, thriller', 'year':2008, 'duration':152, 'rating':8.499}\n",
    "]\n",
    "print(movies_table)"
   ]
  },
  {
   "cell_type": "markdown",
   "metadata": {
    "id": "e7WzTPRFW794"
   },
   "source": [
    "Ahora para acceder a un dato específico, lo hacemos de la siguiente manera. (fila, columna)"
   ]
  },
  {
   "cell_type": "code",
   "execution_count": 70,
   "metadata": {
    "colab": {
     "base_uri": "https://localhost:8080/"
    },
    "executionInfo": {
     "elapsed": 2,
     "status": "ok",
     "timestamp": 1709853847069,
     "user": {
      "displayName": "Juan Felipe Nájera",
      "userId": "12739768035030133691"
     },
     "user_tz": 300
    },
    "id": "hrH-U-lZW7v8",
    "outputId": "d1284b0f-0f4e-4fa4-aac4-622b0465eae8"
   },
   "outputs": [
    {
     "ename": "KeyError",
     "evalue": "'director'",
     "output_type": "error",
     "traceback": [
      "\u001b[1;31m---------------------------------------------------------------------------\u001b[0m",
      "\u001b[1;31mKeyError\u001b[0m                                  Traceback (most recent call last)",
      "Cell \u001b[1;32mIn[70], line 1\u001b[0m\n\u001b[1;32m----> 1\u001b[0m \u001b[38;5;28mprint\u001b[39m(movies_table[\u001b[38;5;241m2\u001b[39m][\u001b[38;5;124m'\u001b[39m\u001b[38;5;124mgenre\u001b[39m\u001b[38;5;124m'\u001b[39m], \u001b[43mmovies_table\u001b[49m\u001b[43m[\u001b[49m\u001b[38;5;241;43m0\u001b[39;49m\u001b[43m]\u001b[49m\u001b[43m[\u001b[49m\u001b[38;5;124;43m'\u001b[39;49m\u001b[38;5;124;43mdirector\u001b[39;49m\u001b[38;5;124;43m'\u001b[39;49m\u001b[43m]\u001b[49m)\n",
      "\u001b[1;31mKeyError\u001b[0m: 'director'"
     ]
    }
   ],
   "source": [
    "print(movies_table[2]['genre'], movies_table[0]['director'])"
   ]
  },
  {
   "cell_type": "markdown",
   "metadata": {
    "id": "--0WKybOXQph"
   },
   "source": [
    "### Ejemplo 19\n",
    "Tenemos información de pedidos de pizzas y bebidas de una aplicación móvil, y los datos del pedido se envían al servido a modo de lista de diccionarios.\n",
    "\n",
    "Queremos saber cuánto se ha vendido en un día."
   ]
  },
  {
   "cell_type": "code",
   "execution_count": 71,
   "metadata": {
    "executionInfo": {
     "elapsed": 190,
     "status": "ok",
     "timestamp": 1709854029811,
     "user": {
      "displayName": "Juan Felipe Nájera",
      "userId": "12739768035030133691"
     },
     "user_tz": 300
    },
    "id": "MRZmxj2UXSNe"
   },
   "outputs": [],
   "source": [
    "order = [\n",
    "    {\n",
    "        'item': 'Pizza margarita',\n",
    "        'category': 'pizza',\n",
    "        'quantity': 2,\n",
    "        'price': 9\n",
    "    },\n",
    "    {\n",
    "        'item': 'Pizza de jamón',\n",
    "        'category': 'pizza',\n",
    "        'quantity': 1,\n",
    "        'price': 12\n",
    "    },\n",
    "    {\n",
    "        'item': 'Pepsi 1 l',\n",
    "        'category': 'Bebidas',\n",
    "        'quantity': 3,\n",
    "        'price': 2\n",
    "    }\n",
    "]"
   ]
  },
  {
   "cell_type": "markdown",
   "metadata": {
    "id": "hVHS1R1CXlHA"
   },
   "source": [
    "También se puede añadir y filtrar valores en los diccionarios.\n",
    "\n",
    "Primero se añadirá valores numéricos desde los diccionarios para calcular el total del pedido:\n",
    "* La lista nos permite revisar todos los elementos del pedido utilizando un bucle.\n",
    "* Los diccionarios nos dan acceso al precio y a la cantidad de cada elemento del pedido."
   ]
  },
  {
   "cell_type": "code",
   "execution_count": 72,
   "metadata": {
    "colab": {
     "base_uri": "https://localhost:8080/"
    },
    "executionInfo": {
     "elapsed": 185,
     "status": "ok",
     "timestamp": 1709854078691,
     "user": {
      "displayName": "Juan Felipe Nájera",
      "userId": "12739768035030133691"
     },
     "user_tz": 300
    },
    "id": "9nT34naqX1XW",
    "outputId": "7efdcea7-0a70-412c-d35f-38b9344f9c08"
   },
   "outputs": [
    {
     "name": "stdout",
     "output_type": "stream",
     "text": [
      "36\n"
     ]
    }
   ],
   "source": [
    "# variable del precio total del pedido\n",
    "total_price = 0\n",
    "\n",
    "# iterar sobre cada diccionario de la lista\n",
    "for item in order:\n",
    "# añadir a la variable el precio del elemento multiplicado por la cantidad\n",
    "    total_price += item['price'] * item['quantity']\n",
    "print(total_price)"
   ]
  },
  {
   "cell_type": "markdown",
   "metadata": {
    "id": "s66wgQlCYQF-"
   },
   "source": [
    "Ahora queremos filtrar los elementos por categoría, y obtener solo los que son pizzas."
   ]
  },
  {
   "cell_type": "code",
   "execution_count": 73,
   "metadata": {
    "colab": {
     "base_uri": "https://localhost:8080/"
    },
    "executionInfo": {
     "elapsed": 164,
     "status": "ok",
     "timestamp": 1709854099054,
     "user": {
      "displayName": "Juan Felipe Nájera",
      "userId": "12739768035030133691"
     },
     "user_tz": 300
    },
    "id": "8hLET5G9G-JX",
    "outputId": "a9990354-43e9-4eb5-c15f-aad9cc245967"
   },
   "outputs": [
    {
     "data": {
      "text/plain": [
       "[{'item': 'Pizza margarita', 'category': 'pizza', 'quantity': 2, 'price': 9},\n",
       " {'item': 'Pizza de jamón', 'category': 'pizza', 'quantity': 1, 'price': 12},\n",
       " {'item': 'Pepsi 1 l', 'category': 'Bebidas', 'quantity': 3, 'price': 2}]"
      ]
     },
     "execution_count": 73,
     "metadata": {},
     "output_type": "execute_result"
    }
   ],
   "source": [
    "order"
   ]
  },
  {
   "cell_type": "code",
   "execution_count": 74,
   "metadata": {
    "colab": {
     "base_uri": "https://localhost:8080/"
    },
    "executionInfo": {
     "elapsed": 187,
     "status": "ok",
     "timestamp": 1709854150908,
     "user": {
      "displayName": "Juan Felipe Nájera",
      "userId": "12739768035030133691"
     },
     "user_tz": 300
    },
    "id": "jgK0tUBdYY7H",
    "outputId": "209a2c00-d033-47d9-e17e-e4030c67058b"
   },
   "outputs": [
    {
     "data": {
      "text/plain": [
       "[{'item': 'Pizza margarita', 'category': 'pizza', 'quantity': 2, 'price': 9},\n",
       " {'item': 'Pizza de jamón', 'category': 'pizza', 'quantity': 1, 'price': 12}]"
      ]
     },
     "execution_count": 74,
     "metadata": {},
     "output_type": "execute_result"
    }
   ],
   "source": [
    "# variable del precio total del pedido\n",
    "filtered_order = []\n",
    "\n",
    "# iterar sobre cada diccionario de la lista\n",
    "for item in order:\n",
    "# si la categoría es pizza...\n",
    "    if item['category'] == 'pizza':\n",
    "# ...añadir el diccionario a la lista filtered_order\n",
    "        filtered_order.append(item)\n",
    "\n",
    "# mostrar la lista filtrada de diccionarios\n",
    "filtered_order"
   ]
  },
  {
   "cell_type": "markdown",
   "metadata": {
    "id": "FnBSSBmka1Qq"
   },
   "source": [
    "# Sets y Frozensets"
   ]
  },
  {
   "cell_type": "markdown",
   "metadata": {
    "id": "NpnhgfbubW18"
   },
   "source": [
    "## ¿Qué son?"
   ]
  },
  {
   "cell_type": "markdown",
   "metadata": {
    "id": "WqVu_Lodbayq"
   },
   "source": [
    "Los **sets** son una colección desordenada de elementos.\n",
    "* Cada elemento del conjunto es único (sin duplicados) y debe ser inmutable (no se puede cambiar).\n",
    "  * Aunque el conjunto en sí es mutable, por lo que se puede añadir o quitar elementos\n",
    "  * Se puede realizar operaciones como unión, intersección, etc.\n",
    "  * Puede contener distintos tipos de datos."
   ]
  },
  {
   "cell_type": "markdown",
   "metadata": {
    "id": "Iq24jQMda349"
   },
   "source": [
    "En Python se dispone de otro grupo de datos estructurados heterogéneos que tratan de guardar cierta relación con la teoría de conjuntos son los conjuntos Set y los Frozenset."
   ]
  },
  {
   "cell_type": "markdown",
   "metadata": {
    "id": "RXSbjcT3cbFz"
   },
   "source": [
    "### Ejemplo 20\n",
    "Verifiquemos el siguiente ejemplo"
   ]
  },
  {
   "cell_type": "code",
   "execution_count": 75,
   "metadata": {
    "colab": {
     "base_uri": "https://localhost:8080/"
    },
    "executionInfo": {
     "elapsed": 175,
     "status": "ok",
     "timestamp": 1709854363089,
     "user": {
      "displayName": "Juan Felipe Nájera",
      "userId": "12739768035030133691"
     },
     "user_tz": 300
    },
    "id": "AJDF0uIVa3Rd",
    "outputId": "e6b36860-be3b-42cd-a4e8-8606e51b7872"
   },
   "outputs": [
    {
     "name": "stdout",
     "output_type": "stream",
     "text": [
      "{1.0, (1, 2, 3), 'Hello'}\n"
     ]
    }
   ],
   "source": [
    "# set of mixed datatypes\n",
    "my_set = {1.0, \"Hello\", (1, 2, 3)}\n",
    "print(my_set)"
   ]
  },
  {
   "cell_type": "code",
   "execution_count": 76,
   "metadata": {
    "colab": {
     "base_uri": "https://localhost:8080/"
    },
    "executionInfo": {
     "elapsed": 203,
     "status": "ok",
     "timestamp": 1709854378217,
     "user": {
      "displayName": "Juan Felipe Nájera",
      "userId": "12739768035030133691"
     },
     "user_tz": 300
    },
    "id": "ADfGXHHOcWIS",
    "outputId": "4ffa94aa-6b26-4db6-ee78-70426a131542"
   },
   "outputs": [
    {
     "name": "stdout",
     "output_type": "stream",
     "text": [
      "{1, 2, 3, 4}\n"
     ]
    }
   ],
   "source": [
    "my_set = {1, 2, 3, 4, 3, 2}\n",
    "print(my_set)"
   ]
  },
  {
   "cell_type": "markdown",
   "metadata": {
    "id": "PVHwU_VndHR4"
   },
   "source": [
    "Utilizando la función `type()`"
   ]
  },
  {
   "cell_type": "code",
   "execution_count": 77,
   "metadata": {
    "colab": {
     "base_uri": "https://localhost:8080/"
    },
    "executionInfo": {
     "elapsed": 198,
     "status": "ok",
     "timestamp": 1709854393470,
     "user": {
      "displayName": "Juan Felipe Nájera",
      "userId": "12739768035030133691"
     },
     "user_tz": 300
    },
    "id": "Z4RqVJy1dBUo",
    "outputId": "06be2118-687a-44cb-a1c4-5bd799cad5b1"
   },
   "outputs": [
    {
     "data": {
      "text/plain": [
       "set"
      ]
     },
     "execution_count": 77,
     "metadata": {},
     "output_type": "execute_result"
    }
   ],
   "source": [
    "type(my_set)"
   ]
  },
  {
   "cell_type": "markdown",
   "metadata": {
    "id": "pY6lNwoldKmb"
   },
   "source": [
    "Y la función `set()` en una lista."
   ]
  },
  {
   "cell_type": "code",
   "execution_count": 78,
   "metadata": {
    "colab": {
     "base_uri": "https://localhost:8080/"
    },
    "executionInfo": {
     "elapsed": 190,
     "status": "ok",
     "timestamp": 1709854398605,
     "user": {
      "displayName": "Juan Felipe Nájera",
      "userId": "12739768035030133691"
     },
     "user_tz": 300
    },
    "id": "RquXBVyYdFQx",
    "outputId": "b02dbc43-02f2-47cb-9d0b-6cb0984cc494"
   },
   "outputs": [
    {
     "name": "stdout",
     "output_type": "stream",
     "text": [
      "{1, 2, 3}\n"
     ]
    }
   ],
   "source": [
    "my_set = set([1, 2, 3, 2, 1, 1, 1, 1])\n",
    "print(my_set)"
   ]
  },
  {
   "cell_type": "markdown",
   "metadata": {
    "id": "soJL7toycvV-"
   },
   "source": [
    "Se puede agregar valores con métodos:"
   ]
  },
  {
   "cell_type": "code",
   "execution_count": null,
   "metadata": {
    "colab": {
     "base_uri": "https://localhost:8080/"
    },
    "executionInfo": {
     "elapsed": 178,
     "status": "ok",
     "timestamp": 1709854409153,
     "user": {
      "displayName": "Juan Felipe Nájera",
      "userId": "12739768035030133691"
     },
     "user_tz": 300
    },
    "id": "-4X4G9dPc0ic",
    "outputId": "f065d5f6-864e-4803-c9d1-37c73c6e9dd1"
   },
   "outputs": [],
   "source": [
    "my_set = {1, 3}\n",
    "print(my_set)"
   ]
  },
  {
   "cell_type": "code",
   "execution_count": null,
   "metadata": {
    "colab": {
     "base_uri": "https://localhost:8080/"
    },
    "executionInfo": {
     "elapsed": 190,
     "status": "ok",
     "timestamp": 1709854411869,
     "user": {
      "displayName": "Juan Felipe Nájera",
      "userId": "12739768035030133691"
     },
     "user_tz": 300
    },
    "id": "H66HUSovc2Ta",
    "outputId": "30003aaf-4221-4cc4-c043-249bf8210e18"
   },
   "outputs": [],
   "source": [
    "my_set.add(2)\n",
    "print(my_set)"
   ]
  },
  {
   "cell_type": "code",
   "execution_count": null,
   "metadata": {
    "colab": {
     "base_uri": "https://localhost:8080/"
    },
    "executionInfo": {
     "elapsed": 177,
     "status": "ok",
     "timestamp": 1709854413807,
     "user": {
      "displayName": "Juan Felipe Nájera",
      "userId": "12739768035030133691"
     },
     "user_tz": 300
    },
    "id": "l7KZeKfkc4n5",
    "outputId": "81441f28-acd4-4ca3-acf8-30e1fd19a47e"
   },
   "outputs": [],
   "source": [
    "my_set.update([2, 3, 4])\n",
    "print(my_set)"
   ]
  },
  {
   "cell_type": "code",
   "execution_count": null,
   "metadata": {
    "colab": {
     "base_uri": "https://localhost:8080/"
    },
    "executionInfo": {
     "elapsed": 180,
     "status": "ok",
     "timestamp": 1709854428119,
     "user": {
      "displayName": "Juan Felipe Nájera",
      "userId": "12739768035030133691"
     },
     "user_tz": 300
    },
    "id": "8VgUA8aIc_YX",
    "outputId": "4f1920a4-4ead-4e3c-cb21-8b2a1994cd0f"
   },
   "outputs": [],
   "source": [
    "my_set.update([4, 5], {1, 6, 8})\n",
    "print(my_set)"
   ]
  },
  {
   "cell_type": "markdown",
   "metadata": {
    "id": "NgbrZY43dWic"
   },
   "source": [
    "O eliminarlos con"
   ]
  },
  {
   "cell_type": "code",
   "execution_count": null,
   "metadata": {
    "colab": {
     "base_uri": "https://localhost:8080/"
    },
    "executionInfo": {
     "elapsed": 188,
     "status": "ok",
     "timestamp": 1709854436961,
     "user": {
      "displayName": "Juan Felipe Nájera",
      "userId": "12739768035030133691"
     },
     "user_tz": 300
    },
    "id": "x9JPpyVXdYgR",
    "outputId": "8588f598-b027-4b87-9797-8166b0fd23b2"
   },
   "outputs": [],
   "source": [
    "my_set.discard(4)\n",
    "print(my_set)"
   ]
  },
  {
   "cell_type": "code",
   "execution_count": null,
   "metadata": {
    "colab": {
     "base_uri": "https://localhost:8080/"
    },
    "executionInfo": {
     "elapsed": 188,
     "status": "ok",
     "timestamp": 1709854438329,
     "user": {
      "displayName": "Juan Felipe Nájera",
      "userId": "12739768035030133691"
     },
     "user_tz": 300
    },
    "id": "W0JkKTAvdfA7",
    "outputId": "6213f9f8-3883-428b-c21c-7c5a44041ac6"
   },
   "outputs": [],
   "source": [
    "my_set.remove(6)\n",
    "print(my_set)"
   ]
  },
  {
   "cell_type": "markdown",
   "metadata": {
    "id": "pp5U01b6dovL"
   },
   "source": [
    "Los **Frozensets** es una colección de elementos **no ordenados** que son únicos e inmutables.\n",
    "* Pueden contener números, strings, tuplas, pero no listas.\n",
    "* Tomar en cuenta que tanto los sets como los frozensets **no** son secuencias de datos.\n",
    "* No se pueden cambiar, ni quitar o añadir elementos.\n",
    "* Solo se pueden crear con la función `frozenset()`"
   ]
  },
  {
   "cell_type": "markdown",
   "metadata": {
    "id": "P_j9OXdqeRua"
   },
   "source": [
    "### Ejemplo 21\n",
    "Veamos cómo es un frozenset"
   ]
  },
  {
   "cell_type": "code",
   "execution_count": 79,
   "metadata": {
    "colab": {
     "base_uri": "https://localhost:8080/"
    },
    "executionInfo": {
     "elapsed": 203,
     "status": "ok",
     "timestamp": 1709854476483,
     "user": {
      "displayName": "Juan Felipe Nájera",
      "userId": "12739768035030133691"
     },
     "user_tz": 300
    },
    "id": "YvNceh73eO2S",
    "outputId": "20ba12f2-f924-4ae9-e9ec-cc33e8d5f28c"
   },
   "outputs": [
    {
     "data": {
      "text/plain": [
       "frozenset({2, 25, 4, 'a', 'casa'})"
      ]
     },
     "execution_count": 79,
     "metadata": {},
     "output_type": "execute_result"
    }
   ],
   "source": [
    "fs1 = frozenset({25, 4, 'a',2, 25, 'casa', 'a'})\n",
    "fs1"
   ]
  },
  {
   "cell_type": "code",
   "execution_count": 80,
   "metadata": {
    "colab": {
     "base_uri": "https://localhost:8080/"
    },
    "executionInfo": {
     "elapsed": 186,
     "status": "ok",
     "timestamp": 1709854482606,
     "user": {
      "displayName": "Juan Felipe Nájera",
      "userId": "12739768035030133691"
     },
     "user_tz": 300
    },
    "id": "zbyCJL9YeWJO",
    "outputId": "256673fa-21e4-4791-a04e-12689d21e1ab"
   },
   "outputs": [
    {
     "data": {
      "text/plain": [
       "frozenset"
      ]
     },
     "execution_count": 80,
     "metadata": {},
     "output_type": "execute_result"
    }
   ],
   "source": [
    "type(fs1)"
   ]
  },
  {
   "cell_type": "code",
   "execution_count": null,
   "metadata": {
    "colab": {
     "base_uri": "https://localhost:8080/"
    },
    "executionInfo": {
     "elapsed": 171,
     "status": "ok",
     "timestamp": 1709854484556,
     "user": {
      "displayName": "Juan Felipe Nájera",
      "userId": "12739768035030133691"
     },
     "user_tz": 300
    },
    "id": "Xg0Oftf4eZYa",
    "outputId": "50dd0209-0293-4b52-cde2-493848edc2d3"
   },
   "outputs": [],
   "source": [
    "len(fs1)"
   ]
  },
  {
   "cell_type": "markdown",
   "metadata": {
    "id": "IXiYBCCdep5C"
   },
   "source": [
    "Queremos actualizar el frozenset, ¿cómo lo hacemos?"
   ]
  },
  {
   "cell_type": "code",
   "execution_count": 81,
   "metadata": {
    "colab": {
     "base_uri": "https://localhost:8080/",
     "height": 141
    },
    "executionInfo": {
     "elapsed": 187,
     "status": "error",
     "timestamp": 1709854489280,
     "user": {
      "displayName": "Juan Felipe Nájera",
      "userId": "12739768035030133691"
     },
     "user_tz": 300
    },
    "id": "-M6WY8ntelwi",
    "outputId": "9cc8d9d5-8fa3-485c-8d8b-d1599f8bdbcd"
   },
   "outputs": [
    {
     "ename": "AttributeError",
     "evalue": "'frozenset' object has no attribute 'add'",
     "output_type": "error",
     "traceback": [
      "\u001b[1;31m---------------------------------------------------------------------------\u001b[0m",
      "\u001b[1;31mAttributeError\u001b[0m                            Traceback (most recent call last)",
      "Cell \u001b[1;32mIn[81], line 1\u001b[0m\n\u001b[1;32m----> 1\u001b[0m \u001b[43mfs1\u001b[49m\u001b[38;5;241;43m.\u001b[39;49m\u001b[43madd\u001b[49m(\u001b[38;5;241m5\u001b[39m)\n",
      "\u001b[1;31mAttributeError\u001b[0m: 'frozenset' object has no attribute 'add'"
     ]
    }
   ],
   "source": [
    "fs1.add(5)"
   ]
  },
  {
   "cell_type": "markdown",
   "metadata": {
    "id": "hgb13cxxe-ct"
   },
   "source": [
    "No se puede, como estos tipos de datos no son secuencias, no se pueden aumentar ni eliminar."
   ]
  },
  {
   "cell_type": "markdown",
   "metadata": {
    "id": "CZQ2y9zWfDyI"
   },
   "source": [
    "## ¿Para qué se utilizan?"
   ]
  },
  {
   "cell_type": "markdown",
   "metadata": {
    "id": "XRmSNF0wfNNY"
   },
   "source": [
    "Básicamente son tipos de datos de Python que es importante saber que existen. Su uso es específico:\n",
    "* Para los `sets` se utiliza para guardar múltiples valores únicos y que no se repitan en un set de dato.\n",
    "* Para los `frozensets` se puede definirlo en una variable en caso de que queremos que no se modifique un dato por ninguna razón."
   ]
  }
 ],
 "metadata": {
  "colab": {
   "provenance": []
  },
  "kernelspec": {
   "display_name": "Python 3",
   "name": "python3"
  },
  "language_info": {
   "codemirror_mode": {
    "name": "ipython",
    "version": 3
   },
   "file_extension": ".py",
   "mimetype": "text/x-python",
   "name": "python",
   "nbconvert_exporter": "python",
   "pygments_lexer": "ipython3",
   "version": "3.12.6"
  }
 },
 "nbformat": 4,
 "nbformat_minor": 0
}
