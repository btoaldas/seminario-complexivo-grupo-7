{
 "cells": [
  {
   "cell_type": "markdown",
   "id": "2bb70562",
   "metadata": {},
   "source": [
    "# Ejercicios para Practicar"
   ]
  },
  {
   "cell_type": "markdown",
   "id": "8a52c79f",
   "metadata": {},
   "source": [
    "## Grupo 1: Bucles `for` "
   ]
  },
  {
   "cell_type": "markdown",
   "id": "da078b0b",
   "metadata": {},
   "source": [
    "1. **Contador de Pares**: escribe una función llamada `contar_pares` que reciba una lista de números enteros y devuelva la cantidad total de números pares en esa lista.\n",
    "\n",
    "2. **Buscador de Nombres Largos**: escribe una función llamada `encontrar_nombres_largos` que reciba una lista de nombres (strings) y un número `longitud_minima`. La función debe devolver una nueva lista que contenga únicamente los nombres que tengan más caracteres que la `longitud_minima`.\n",
    "\n",
    "3. **Suma de Precios**: tienes una lista de diccionarios, donde cada diccionario representa un `producto` con claves \"nombre\" y \"precio\". Escribe una función llamada `calcular_total_carrito` que reciba esta lista y devuelva la suma total de los precios de todos los productos.\n",
    "\n",
    "4. **Búsqueda de Email**: tienes una lista de diccionarios que representan `usuarios` (claves: \"id\", \"nombre\", \"email\"). Escribe una función llamada `buscar_email_por_nombre` que reciba la lista de usuarios y un `nombre_buscado`. La función debe devolver el string del \"email\" del usuario si lo encuentra, o el string \"No encontrado\" si no existe.\n",
    "\n",
    "5. **Inventario de Frutas**: tienes un diccionario que representa un inventario de frutas, donde las claves son los nombres de las frutas y los valores son las cantidades (ej. `{\"manzana\": 10, \"pera\": 5}`). Escribe una función llamada `listar_frutas_con_stock` que reciba el inventario y devuelva una lista con los nombres de las frutas que tengan un stock (valor) mayor a 0."
   ]
  },
  {
   "cell_type": "markdown",
   "id": "eb00a08b",
   "metadata": {},
   "source": [
    "## Grupo 2: Bucles `while` "
   ]
  },
  {
   "cell_type": "markdown",
   "id": "f4d0a713",
   "metadata": {},
   "source": [
    "6. **Validador de Contraseña**: escribe un programa que pida al usuario una contraseña usando `input()`. El programa debe usar un bucle `while` para seguir pidiendo la contraseña hasta que el usuario ingrese el valor \"Python123\". Cuando lo haga, el programa debe imprimir \"Acceso concedido\" y terminar.\n",
    "\n",
    "7. **Suma Acumulativa**: escribe un programa que pida al usuario que ingrese números uno por uno. El programa debe sumar todos los números que el usuario ingrese. El bucle debe detenerse cuando el usuario ingrese la palabra \"stop\". En ese momento, el programa debe imprimir la suma total.\n",
    "\n",
    "8. **Juego de Adivinanza Simple**: define un número secreto (ej. `numero_secreto = 7`). Luego, escribe un bucle while que pida al usuario adivinar el número. Si el número ingresado es incorrecto, debe imprimir \"Intenta de nuevo\". El bucle debe terminar solo cuando el usuario adivine el número secreto.\n",
    "\n",
    "9. **Validación de Entrada Positiva**: escribe una función llamada `solicitar_numero_positivo` que no reciba parámetros. Dentro de la función, usa un bucle `while` para pedir al usuario un número. Si el número ingresado es 0 o negativo, debe mostrar un error y volver a pedirlo. Cuando el usuario ingrese un número positivo, la función debe devolver ese número como un entero (`int`).\n",
    "\n",
    "10. **Simulador de Batería**: escribe un bucle `while` que simule la carga de una batería. Inicia una variable `bateria = 0`. En cada iteración, imprime el porcentaje actual de la batería, incrementa la batería en 5, y espera (simulado) 1 segundo. El bucle debe detenerse cuando la batería llegue o supere el 100."
   ]
  },
  {
   "cell_type": "markdown",
   "id": "4a0c293a",
   "metadata": {},
   "source": [
    "## Grupo 3: Funciones "
   ]
  },
  {
   "cell_type": "markdown",
   "id": "08e78c21",
   "metadata": {},
   "source": [
    "11. **Calculadora de Impuestos**: escribe una función llamada `calcular_precio_final` que reciba un `precio_bruto`. La función debe calcular y devolver el precio final, que es el precio bruto más el 12% de IVA.\n",
    "\n",
    "12. **Convertidor de Temperatura**: escribe una función llamada `convertir_celsius_a_fahrenheit` que reciba un número (grados Celsius) y devuelva el valor equivalente en grados Fahrenheit (F = C * 9/5 + 32).\n",
    "\n",
    "13. **Verificador de Longitud de Texto**: escribe una función llamada `es_texto_largo` que reciba un `texto`. La función debe devolver `True` si el texto tiene 10 o más caracteres, y `False` en caso contrario.\n",
    "\n",
    "14. **Formateador de Nombres**: escribe una función llamada `formatear_nombre_completo` que reciba dos parámetros: `nombre` y `apellido`. La función debe devolver un solo string con el formato \"Apellido, Nombre\" (ej. \"Nájera, Juan Felipe\").\n",
    "\n",
    "15. **Creador de Perfil Básico**: escribe una función llamada `crear_perfil_usuario` que reciba un `nombre` y una `edad`. La función debe devolver un diccionario con dos claves: \"usuario\" (que contenga el nombre) y \"es_adulto\" (que contenga un valor booleano `True` si la edad es 18 o más, y `False` si es menor)."
   ]
  },
  {
   "cell_type": "markdown",
   "id": "ff8ea5f6",
   "metadata": {},
   "source": [
    "## Grupo 4: Ejercicios Integradores"
   ]
  },
  {
   "cell_type": "markdown",
   "id": "f15c9b25",
   "metadata": {},
   "source": [
    "16. **Promedio de Listas**: escribe una función llamada `calcular_promedio_lista` que reciba una lista de números. Dentro de la función, usa un bucle `for` para sumar todos los números y luego devuelve el promedio (suma total / cantidad de elementos).\n",
    "\n",
    "17. **Análisis de Palabras en Frase**: escribe una función llamada `analizar_frase` que reciba un string (una frase). La función debe devolver un diccionario que contenga el conteo de dos cosas: \"num_palabras\" (la cantidad de palabras en la frase) y \"num_letras_e\" (la cantidad de veces que aparece la letra 'e', mayúscula o minúscula).\n",
    "\n",
    "18. **Filtrar Estudiantes Aprobados**: tienes una lista de diccionarios de `estudiantes` (claves: \"nombre\", \"promedio\"). Escribe una función llamada `filtrar_aprobados` que reciba la lista y una `nota_minima`. La función debe usar un bucle `for` para iterar sobre la lista y devolver una nueva lista solo con los nombres de los estudiantes cuyo promedio es mayor o igual a la `nota_minima`.\n",
    "\n",
    "19. **Menú Interactivo con Funciones**: escribe dos funciones simples: `saludar()` que imprima \"Hola, bienvenido\" y `despedirse()` que imprima \"Adiós, vuelve pronto\". Luego, escribe un programa principal con un bucle `while True` que muestre un menú: \"1. Saludar\", \"2. Despedirse\", \"3. Salir\". Si el usuario elije \"1\", llama a `saludar()`. Si elije \"2\", llama a `despedirse()`. Si elije \"3\", el bucle debe terminar (usa `break`).\n",
    "\n",
    "20. **Validación de Rango con `while`**: escribe una función llamada `solicitar_calificacion_valida` que no reciba parámetros. La función debe usar un bucle `while` para pedir al usuario una calificación hasta que ingrese un número (usa `.isdigit()`) que esté estrictamente en el rango de 0 a 100. La función debe devolver la calificación como un entero."
   ]
  }
 ],
 "metadata": {
  "language_info": {
   "name": "python"
  }
 },
 "nbformat": 4,
 "nbformat_minor": 5
}
